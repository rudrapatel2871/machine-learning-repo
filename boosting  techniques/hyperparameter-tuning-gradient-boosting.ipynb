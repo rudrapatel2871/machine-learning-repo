{
 "cells": [
  {
   "cell_type": "code",
   "execution_count": 1,
   "metadata": {
    "_cell_guid": "b1076dfc-b9ad-4769-8c92-a6c4dae69d19",
    "_uuid": "8f2839f25d086af736a60e9eeb907d3b93b6e0e5",
    "execution": {
     "iopub.execute_input": "2021-10-11T12:39:48.604499Z",
     "iopub.status.busy": "2021-10-11T12:39:48.603608Z",
     "iopub.status.idle": "2021-10-11T12:39:49.610314Z",
     "shell.execute_reply": "2021-10-11T12:39:49.609008Z"
    },
    "papermill": {
     "duration": 1.123946,
     "end_time": "2021-10-11T12:39:49.610495",
     "exception": false,
     "start_time": "2021-10-11T12:39:48.486549",
     "status": "completed"
    },
    "tags": []
   },
   "outputs": [],
   "source": [
    "import numpy as np\n",
    "import pandas as pd \n",
    "import seaborn as sns\n",
    "import matplotlib.pyplot as plt\n"
   ]
  },
  {
   "cell_type": "code",
   "execution_count": 2,
   "metadata": {
    "_cell_guid": "79c7e3d0-c299-4dcb-8224-4455121ee9b0",
    "_uuid": "d629ff2d2480ee46fbb7e2d37f6b5fab8052498a",
    "execution": {
     "iopub.execute_input": "2021-10-11T12:39:50.089024Z",
     "iopub.status.busy": "2021-10-11T12:39:50.087996Z",
     "iopub.status.idle": "2021-10-11T12:39:50.184606Z",
     "shell.execute_reply": "2021-10-11T12:39:50.183940Z"
    },
    "papermill": {
     "duration": 0.222422,
     "end_time": "2021-10-11T12:39:50.184733",
     "exception": false,
     "start_time": "2021-10-11T12:39:49.962311",
     "status": "completed"
    },
    "tags": []
   },
   "outputs": [],
   "source": [
    "#Data\n",
    "train = pd.read_csv(\"aug_train.csv\")\n"
   ]
  },
  {
   "cell_type": "markdown",
   "metadata": {
    "papermill": {
     "duration": 0.107965,
     "end_time": "2021-10-11T12:39:50.403429",
     "exception": false,
     "start_time": "2021-10-11T12:39:50.295464",
     "status": "completed"
    },
    "tags": []
   },
   "source": [
    "Let's take a closer look to our data."
   ]
  },
  {
   "cell_type": "code",
   "execution_count": 3,
   "metadata": {
    "execution": {
     "iopub.execute_input": "2021-10-11T12:39:50.639415Z",
     "iopub.status.busy": "2021-10-11T12:39:50.638675Z",
     "iopub.status.idle": "2021-10-11T12:39:50.657588Z",
     "shell.execute_reply": "2021-10-11T12:39:50.658082Z"
    },
    "papermill": {
     "duration": 0.14597,
     "end_time": "2021-10-11T12:39:50.658257",
     "exception": false,
     "start_time": "2021-10-11T12:39:50.512287",
     "status": "completed"
    },
    "tags": []
   },
   "outputs": [
    {
     "data": {
      "text/html": [
       "<div>\n",
       "<style scoped>\n",
       "    .dataframe tbody tr th:only-of-type {\n",
       "        vertical-align: middle;\n",
       "    }\n",
       "\n",
       "    .dataframe tbody tr th {\n",
       "        vertical-align: top;\n",
       "    }\n",
       "\n",
       "    .dataframe thead th {\n",
       "        text-align: right;\n",
       "    }\n",
       "</style>\n",
       "<table border=\"1\" class=\"dataframe\">\n",
       "  <thead>\n",
       "    <tr style=\"text-align: right;\">\n",
       "      <th></th>\n",
       "      <th>enrollee_id</th>\n",
       "      <th>city</th>\n",
       "      <th>city_development_index</th>\n",
       "      <th>gender</th>\n",
       "      <th>relevent_experience</th>\n",
       "      <th>enrolled_university</th>\n",
       "      <th>education_level</th>\n",
       "      <th>major_discipline</th>\n",
       "      <th>experience</th>\n",
       "      <th>company_size</th>\n",
       "      <th>company_type</th>\n",
       "      <th>last_new_job</th>\n",
       "      <th>training_hours</th>\n",
       "      <th>target</th>\n",
       "    </tr>\n",
       "  </thead>\n",
       "  <tbody>\n",
       "    <tr>\n",
       "      <th>0</th>\n",
       "      <td>8949</td>\n",
       "      <td>city_103</td>\n",
       "      <td>0.920</td>\n",
       "      <td>Male</td>\n",
       "      <td>Has relevent experience</td>\n",
       "      <td>no_enrollment</td>\n",
       "      <td>Graduate</td>\n",
       "      <td>STEM</td>\n",
       "      <td>&gt;20</td>\n",
       "      <td>NaN</td>\n",
       "      <td>NaN</td>\n",
       "      <td>1</td>\n",
       "      <td>36</td>\n",
       "      <td>1.0</td>\n",
       "    </tr>\n",
       "    <tr>\n",
       "      <th>1</th>\n",
       "      <td>29725</td>\n",
       "      <td>city_40</td>\n",
       "      <td>0.776</td>\n",
       "      <td>Male</td>\n",
       "      <td>No relevent experience</td>\n",
       "      <td>no_enrollment</td>\n",
       "      <td>Graduate</td>\n",
       "      <td>STEM</td>\n",
       "      <td>15</td>\n",
       "      <td>50-99</td>\n",
       "      <td>Pvt Ltd</td>\n",
       "      <td>&gt;4</td>\n",
       "      <td>47</td>\n",
       "      <td>0.0</td>\n",
       "    </tr>\n",
       "    <tr>\n",
       "      <th>2</th>\n",
       "      <td>11561</td>\n",
       "      <td>city_21</td>\n",
       "      <td>0.624</td>\n",
       "      <td>NaN</td>\n",
       "      <td>No relevent experience</td>\n",
       "      <td>Full time course</td>\n",
       "      <td>Graduate</td>\n",
       "      <td>STEM</td>\n",
       "      <td>5</td>\n",
       "      <td>NaN</td>\n",
       "      <td>NaN</td>\n",
       "      <td>never</td>\n",
       "      <td>83</td>\n",
       "      <td>0.0</td>\n",
       "    </tr>\n",
       "    <tr>\n",
       "      <th>3</th>\n",
       "      <td>33241</td>\n",
       "      <td>city_115</td>\n",
       "      <td>0.789</td>\n",
       "      <td>NaN</td>\n",
       "      <td>No relevent experience</td>\n",
       "      <td>NaN</td>\n",
       "      <td>Graduate</td>\n",
       "      <td>Business Degree</td>\n",
       "      <td>&lt;1</td>\n",
       "      <td>NaN</td>\n",
       "      <td>Pvt Ltd</td>\n",
       "      <td>never</td>\n",
       "      <td>52</td>\n",
       "      <td>1.0</td>\n",
       "    </tr>\n",
       "    <tr>\n",
       "      <th>4</th>\n",
       "      <td>666</td>\n",
       "      <td>city_162</td>\n",
       "      <td>0.767</td>\n",
       "      <td>Male</td>\n",
       "      <td>Has relevent experience</td>\n",
       "      <td>no_enrollment</td>\n",
       "      <td>Masters</td>\n",
       "      <td>STEM</td>\n",
       "      <td>&gt;20</td>\n",
       "      <td>50-99</td>\n",
       "      <td>Funded Startup</td>\n",
       "      <td>4</td>\n",
       "      <td>8</td>\n",
       "      <td>0.0</td>\n",
       "    </tr>\n",
       "  </tbody>\n",
       "</table>\n",
       "</div>"
      ],
      "text/plain": [
       "   enrollee_id      city  city_development_index gender  \\\n",
       "0         8949  city_103                   0.920   Male   \n",
       "1        29725   city_40                   0.776   Male   \n",
       "2        11561   city_21                   0.624    NaN   \n",
       "3        33241  city_115                   0.789    NaN   \n",
       "4          666  city_162                   0.767   Male   \n",
       "\n",
       "       relevent_experience enrolled_university education_level  \\\n",
       "0  Has relevent experience       no_enrollment        Graduate   \n",
       "1   No relevent experience       no_enrollment        Graduate   \n",
       "2   No relevent experience    Full time course        Graduate   \n",
       "3   No relevent experience                 NaN        Graduate   \n",
       "4  Has relevent experience       no_enrollment         Masters   \n",
       "\n",
       "  major_discipline experience company_size    company_type last_new_job  \\\n",
       "0             STEM        >20          NaN             NaN            1   \n",
       "1             STEM         15        50-99         Pvt Ltd           >4   \n",
       "2             STEM          5          NaN             NaN        never   \n",
       "3  Business Degree         <1          NaN         Pvt Ltd        never   \n",
       "4             STEM        >20        50-99  Funded Startup            4   \n",
       "\n",
       "   training_hours  target  \n",
       "0              36     1.0  \n",
       "1              47     0.0  \n",
       "2              83     0.0  \n",
       "3              52     1.0  \n",
       "4               8     0.0  "
      ]
     },
     "execution_count": 3,
     "metadata": {},
     "output_type": "execute_result"
    }
   ],
   "source": [
    "train.head()"
   ]
  },
  {
   "cell_type": "markdown",
   "metadata": {
    "papermill": {
     "duration": 0.111489,
     "end_time": "2021-10-11T12:39:50.880026",
     "exception": false,
     "start_time": "2021-10-11T12:39:50.768537",
     "status": "completed"
    },
    "tags": []
   },
   "source": [
    "From the first glence we can see that most of the data is categorical, and we have several missing values in different columns.\n",
    "Let's take a look at the number of missing values in each column:"
   ]
  },
  {
   "cell_type": "code",
   "execution_count": 4,
   "metadata": {
    "execution": {
     "iopub.execute_input": "2021-10-11T12:39:51.102589Z",
     "iopub.status.busy": "2021-10-11T12:39:51.101882Z",
     "iopub.status.idle": "2021-10-11T12:39:51.128966Z",
     "shell.execute_reply": "2021-10-11T12:39:51.129553Z"
    },
    "papermill": {
     "duration": 0.139712,
     "end_time": "2021-10-11T12:39:51.129704",
     "exception": false,
     "start_time": "2021-10-11T12:39:50.989992",
     "status": "completed"
    },
    "tags": []
   },
   "outputs": [
    {
     "name": "stdout",
     "output_type": "stream",
     "text": [
      "Train data missing values: \n",
      " enrollee_id                  0\n",
      "city                         0\n",
      "city_development_index       0\n",
      "gender                    4508\n",
      "relevent_experience          0\n",
      "enrolled_university        386\n",
      "education_level            460\n",
      "major_discipline          2813\n",
      "experience                  65\n",
      "company_size              5938\n",
      "company_type              6140\n",
      "last_new_job               423\n",
      "training_hours               0\n",
      "target                       0\n",
      "dtype: int64\n"
     ]
    }
   ],
   "source": [
    "print(\"Train data missing values: \\n\",train.isna().sum())"
   ]
  },
  {
   "cell_type": "code",
   "execution_count": null,
   "metadata": {},
   "outputs": [],
   "source": [
    "## do missing value treatment"
   ]
  },
  {
   "cell_type": "code",
   "execution_count": 5,
   "metadata": {
    "execution": {
     "iopub.execute_input": "2021-10-11T12:39:51.376285Z",
     "iopub.status.busy": "2021-10-11T12:39:51.375587Z",
     "iopub.status.idle": "2021-10-11T12:39:51.382494Z",
     "shell.execute_reply": "2021-10-11T12:39:51.383080Z"
    },
    "papermill": {
     "duration": 0.142273,
     "end_time": "2021-10-11T12:39:51.383249",
     "exception": false,
     "start_time": "2021-10-11T12:39:51.240976",
     "status": "completed"
    },
    "tags": []
   },
   "outputs": [
    {
     "data": {
      "text/plain": [
       "enrollee_id               19158\n",
       "city                      19158\n",
       "city_development_index    19158\n",
       "gender                    14650\n",
       "relevent_experience       19158\n",
       "enrolled_university       18772\n",
       "education_level           18698\n",
       "major_discipline          16345\n",
       "experience                19093\n",
       "company_size              13220\n",
       "company_type              13018\n",
       "last_new_job              18735\n",
       "training_hours            19158\n",
       "target                    19158\n",
       "dtype: int64"
      ]
     },
     "execution_count": 5,
     "metadata": {},
     "output_type": "execute_result"
    }
   ],
   "source": [
    "train.count()"
   ]
  },
  {
   "cell_type": "markdown",
   "metadata": {
    "papermill": {
     "duration": 0.111753,
     "end_time": "2021-10-11T12:39:51.606759",
     "exception": false,
     "start_time": "2021-10-11T12:39:51.495006",
     "status": "completed"
    },
    "tags": []
   },
   "source": [
    "# City:"
   ]
  },
  {
   "cell_type": "code",
   "execution_count": 6,
   "metadata": {
    "execution": {
     "iopub.execute_input": "2021-10-11T12:39:51.839792Z",
     "iopub.status.busy": "2021-10-11T12:39:51.838907Z",
     "iopub.status.idle": "2021-10-11T12:39:51.850716Z",
     "shell.execute_reply": "2021-10-11T12:39:51.851654Z"
    },
    "papermill": {
     "duration": 0.134494,
     "end_time": "2021-10-11T12:39:51.851866",
     "exception": false,
     "start_time": "2021-10-11T12:39:51.717372",
     "status": "completed"
    },
    "tags": []
   },
   "outputs": [
    {
     "data": {
      "text/plain": [
       "array(['city_103', 'city_40', 'city_21', 'city_115', 'city_162',\n",
       "       'city_176', 'city_160', 'city_46', 'city_61', 'city_114',\n",
       "       'city_13', 'city_159', 'city_102', 'city_67', 'city_100',\n",
       "       'city_16', 'city_71', 'city_104', 'city_64', 'city_101', 'city_83',\n",
       "       'city_105', 'city_73', 'city_75', 'city_41', 'city_11', 'city_93',\n",
       "       'city_90', 'city_36', 'city_20', 'city_57', 'city_152', 'city_19',\n",
       "       'city_65', 'city_74', 'city_173', 'city_136', 'city_98', 'city_97',\n",
       "       'city_50', 'city_138', 'city_82', 'city_157', 'city_89',\n",
       "       'city_150', 'city_70', 'city_175', 'city_94', 'city_28', 'city_59',\n",
       "       'city_165', 'city_145', 'city_142', 'city_26', 'city_12',\n",
       "       'city_37', 'city_43', 'city_116', 'city_23', 'city_99', 'city_149',\n",
       "       'city_10', 'city_45', 'city_80', 'city_128', 'city_158',\n",
       "       'city_123', 'city_7', 'city_72', 'city_106', 'city_143', 'city_78',\n",
       "       'city_109', 'city_24', 'city_134', 'city_48', 'city_144',\n",
       "       'city_91', 'city_146', 'city_133', 'city_126', 'city_118',\n",
       "       'city_9', 'city_167', 'city_27', 'city_84', 'city_54', 'city_39',\n",
       "       'city_79', 'city_76', 'city_77', 'city_81', 'city_131', 'city_44',\n",
       "       'city_117', 'city_155', 'city_33', 'city_141', 'city_127',\n",
       "       'city_62', 'city_53', 'city_25', 'city_2', 'city_69', 'city_120',\n",
       "       'city_111', 'city_30', 'city_1', 'city_140', 'city_179', 'city_55',\n",
       "       'city_14', 'city_42', 'city_107', 'city_18', 'city_139',\n",
       "       'city_180', 'city_166', 'city_121', 'city_129', 'city_8',\n",
       "       'city_31', 'city_171'], dtype=object)"
      ]
     },
     "execution_count": 6,
     "metadata": {},
     "output_type": "execute_result"
    }
   ],
   "source": [
    "train[\"city\"].unique()"
   ]
  },
  {
   "cell_type": "markdown",
   "metadata": {
    "papermill": {
     "duration": 0.114689,
     "end_time": "2021-10-11T12:39:52.097127",
     "exception": false,
     "start_time": "2021-10-11T12:39:51.982438",
     "status": "completed"
    },
    "tags": []
   },
   "source": [
    "We can see that every city has a specific number, with a prefix \"city_\", so first we have to delete the prefix then transform the data from object type to integer."
   ]
  },
  {
   "cell_type": "code",
   "execution_count": 7,
   "metadata": {
    "execution": {
     "iopub.execute_input": "2021-10-11T12:39:52.343399Z",
     "iopub.status.busy": "2021-10-11T12:39:52.330103Z",
     "iopub.status.idle": "2021-10-11T12:39:52.346447Z",
     "shell.execute_reply": "2021-10-11T12:39:52.345838Z"
    },
    "papermill": {
     "duration": 0.133331,
     "end_time": "2021-10-11T12:39:52.346589",
     "exception": false,
     "start_time": "2021-10-11T12:39:52.213258",
     "status": "completed"
    },
    "tags": []
   },
   "outputs": [],
   "source": [
    "train['city'] = train['city'].map(lambda row: row.replace('city_',''))"
   ]
  },
  {
   "cell_type": "code",
   "execution_count": 8,
   "metadata": {
    "execution": {
     "iopub.execute_input": "2021-10-11T12:39:52.580737Z",
     "iopub.status.busy": "2021-10-11T12:39:52.579960Z",
     "iopub.status.idle": "2021-10-11T12:39:52.588807Z",
     "shell.execute_reply": "2021-10-11T12:39:52.589368Z"
    },
    "papermill": {
     "duration": 0.127902,
     "end_time": "2021-10-11T12:39:52.589584",
     "exception": false,
     "start_time": "2021-10-11T12:39:52.461682",
     "status": "completed"
    },
    "tags": []
   },
   "outputs": [],
   "source": [
    "train['city'] = train['city'].astype(int)"
   ]
  },
  {
   "cell_type": "markdown",
   "metadata": {
    "papermill": {
     "duration": 0.113039,
     "end_time": "2021-10-11T12:39:52.822404",
     "exception": false,
     "start_time": "2021-10-11T12:39:52.709365",
     "status": "completed"
    },
    "tags": []
   },
   "source": [
    "### The result:"
   ]
  },
  {
   "cell_type": "code",
   "execution_count": 9,
   "metadata": {
    "execution": {
     "iopub.execute_input": "2021-10-11T12:39:53.058168Z",
     "iopub.status.busy": "2021-10-11T12:39:53.057358Z",
     "iopub.status.idle": "2021-10-11T12:39:53.066045Z",
     "shell.execute_reply": "2021-10-11T12:39:53.065136Z"
    },
    "papermill": {
     "duration": 0.129061,
     "end_time": "2021-10-11T12:39:53.066197",
     "exception": false,
     "start_time": "2021-10-11T12:39:52.937136",
     "status": "completed"
    },
    "tags": []
   },
   "outputs": [
    {
     "name": "stdout",
     "output_type": "stream",
     "text": [
      "[103  40  21 115 162 176 160  46  61 114  13 159 102  67 100  16  71 104\n",
      "  64 101  83 105  73  75  41  11  93  90  36  20  57 152  19  65  74 173\n",
      " 136  98  97  50 138  82 157  89 150  70 175  94  28  59 165 145 142  26\n",
      "  12  37  43 116  23  99 149  10  45  80 128 158 123   7  72 106 143  78\n",
      " 109  24 134  48 144  91 146 133 126 118   9 167  27  84  54  39  79  76\n",
      "  77  81 131  44 117 155  33 141 127  62  53  25   2  69 120 111  30   1\n",
      " 140 179  55  14  42 107  18 139 180 166 121 129   8  31 171]\n",
      "We have 123 unique variables:\n"
     ]
    }
   ],
   "source": [
    "print(train[\"city\"].unique())\n",
    "print(\"We have {} unique variables:\".format(len(train[\"city\"].unique())))"
   ]
  },
  {
   "cell_type": "code",
   "execution_count": 10,
   "metadata": {
    "execution": {
     "iopub.execute_input": "2021-10-11T12:39:53.303393Z",
     "iopub.status.busy": "2021-10-11T12:39:53.302652Z",
     "iopub.status.idle": "2021-10-11T12:39:53.600254Z",
     "shell.execute_reply": "2021-10-11T12:39:53.599572Z"
    },
    "papermill": {
     "duration": 0.419839,
     "end_time": "2021-10-11T12:39:53.600374",
     "exception": false,
     "start_time": "2021-10-11T12:39:53.180535",
     "status": "completed"
    },
    "tags": []
   },
   "outputs": [
    {
     "data": {
      "image/png": "[encoded data removed]",
      "text/plain": [
       "<Figure size 1152x576 with 1 Axes>"
      ]
     },
     "metadata": {
      "needs_background": "light"
     },
     "output_type": "display_data"
    }
   ],
   "source": [
    "plt.figure(figsize=(16,8))\n",
    "g = sns.distplot(train.city,kde=False, color=\"red\")\n",
    "g = (g.set(xlim=(0,185),xticks=range(0,190,10)))\n",
    "plt.xlabel(\"City Number\")\n",
    "plt.ylabel(\"Distribution\")\n",
    "plt.show()"
   ]
  },
  {
   "cell_type": "code",
   "execution_count": 11,
   "metadata": {
    "execution": {
     "iopub.execute_input": "2021-10-11T12:39:53.835357Z",
     "iopub.status.busy": "2021-10-11T12:39:53.834253Z",
     "iopub.status.idle": "2021-10-11T12:39:53.841656Z",
     "shell.execute_reply": "2021-10-11T12:39:53.842374Z"
    },
    "papermill": {
     "duration": 0.128254,
     "end_time": "2021-10-11T12:39:53.842563",
     "exception": false,
     "start_time": "2021-10-11T12:39:53.714309",
     "status": "completed"
    },
    "tags": []
   },
   "outputs": [
    {
     "name": "stdout",
     "output_type": "stream",
     "text": [
      "Most common cities are:\n",
      " 103    4355\n",
      "21     2702\n",
      "16     1533\n",
      "114    1336\n",
      "160     845\n",
      "       ... \n",
      "129       3\n",
      "111       3\n",
      "121       3\n",
      "171       1\n",
      "140       1\n",
      "Name: city, Length: 123, dtype: int64\n"
     ]
    }
   ],
   "source": [
    "print(\"Most common cities are:\\n\",train['city'].value_counts())"
   ]
  },
  {
   "cell_type": "markdown",
   "metadata": {
    "papermill": {
     "duration": 0.11615,
     "end_time": "2021-10-11T12:39:54.076687",
     "exception": false,
     "start_time": "2021-10-11T12:39:53.960537",
     "status": "completed"
    },
    "tags": []
   },
   "source": [
    "We can see that candidates from the city number **103** are the majority."
   ]
  },
  {
   "cell_type": "code",
   "execution_count": 12,
   "metadata": {
    "execution": {
     "iopub.execute_input": "2021-10-11T12:39:54.313375Z",
     "iopub.status.busy": "2021-10-11T12:39:54.312683Z",
     "iopub.status.idle": "2021-10-11T12:39:54.350377Z",
     "shell.execute_reply": "2021-10-11T12:39:54.350912Z"
    },
    "papermill": {
     "duration": 0.158257,
     "end_time": "2021-10-11T12:39:54.351061",
     "exception": false,
     "start_time": "2021-10-11T12:39:54.192804",
     "status": "completed"
    },
    "tags": []
   },
   "outputs": [
    {
     "data": {
      "text/html": [
       "<div>\n",
       "<style scoped>\n",
       "    .dataframe tbody tr th:only-of-type {\n",
       "        vertical-align: middle;\n",
       "    }\n",
       "\n",
       "    .dataframe tbody tr th {\n",
       "        vertical-align: top;\n",
       "    }\n",
       "\n",
       "    .dataframe thead th {\n",
       "        text-align: right;\n",
       "    }\n",
       "</style>\n",
       "<table border=\"1\" class=\"dataframe\">\n",
       "  <thead>\n",
       "    <tr style=\"text-align: right;\">\n",
       "      <th></th>\n",
       "      <th>enrollee_id</th>\n",
       "      <th>city</th>\n",
       "      <th>city_development_index</th>\n",
       "      <th>gender</th>\n",
       "      <th>relevent_experience</th>\n",
       "      <th>enrolled_university</th>\n",
       "      <th>education_level</th>\n",
       "      <th>major_discipline</th>\n",
       "      <th>experience</th>\n",
       "      <th>company_size</th>\n",
       "      <th>company_type</th>\n",
       "      <th>last_new_job</th>\n",
       "      <th>training_hours</th>\n",
       "      <th>target</th>\n",
       "    </tr>\n",
       "  </thead>\n",
       "  <tbody>\n",
       "    <tr>\n",
       "      <th>18720</th>\n",
       "      <td>15314</td>\n",
       "      <td>1</td>\n",
       "      <td>0.847</td>\n",
       "      <td>Male</td>\n",
       "      <td>No relevent experience</td>\n",
       "      <td>Full time course</td>\n",
       "      <td>Graduate</td>\n",
       "      <td>STEM</td>\n",
       "      <td>5</td>\n",
       "      <td>100-500</td>\n",
       "      <td>Pvt Ltd</td>\n",
       "      <td>1</td>\n",
       "      <td>13</td>\n",
       "      <td>0.0</td>\n",
       "    </tr>\n",
       "    <tr>\n",
       "      <th>4669</th>\n",
       "      <td>14020</td>\n",
       "      <td>1</td>\n",
       "      <td>0.847</td>\n",
       "      <td>Male</td>\n",
       "      <td>Has relevent experience</td>\n",
       "      <td>no_enrollment</td>\n",
       "      <td>Masters</td>\n",
       "      <td>STEM</td>\n",
       "      <td>10</td>\n",
       "      <td>50-99</td>\n",
       "      <td>Pvt Ltd</td>\n",
       "      <td>1</td>\n",
       "      <td>59</td>\n",
       "      <td>0.0</td>\n",
       "    </tr>\n",
       "    <tr>\n",
       "      <th>14300</th>\n",
       "      <td>20753</td>\n",
       "      <td>1</td>\n",
       "      <td>0.847</td>\n",
       "      <td>Male</td>\n",
       "      <td>No relevent experience</td>\n",
       "      <td>Full time course</td>\n",
       "      <td>High School</td>\n",
       "      <td>NaN</td>\n",
       "      <td>4</td>\n",
       "      <td>10000+</td>\n",
       "      <td>Pvt Ltd</td>\n",
       "      <td>1</td>\n",
       "      <td>114</td>\n",
       "      <td>0.0</td>\n",
       "    </tr>\n",
       "    <tr>\n",
       "      <th>15172</th>\n",
       "      <td>14791</td>\n",
       "      <td>1</td>\n",
       "      <td>0.847</td>\n",
       "      <td>Male</td>\n",
       "      <td>Has relevent experience</td>\n",
       "      <td>Full time course</td>\n",
       "      <td>Graduate</td>\n",
       "      <td>STEM</td>\n",
       "      <td>10</td>\n",
       "      <td>5000-9999</td>\n",
       "      <td>Pvt Ltd</td>\n",
       "      <td>1</td>\n",
       "      <td>9</td>\n",
       "      <td>0.0</td>\n",
       "    </tr>\n",
       "    <tr>\n",
       "      <th>5723</th>\n",
       "      <td>6476</td>\n",
       "      <td>1</td>\n",
       "      <td>0.847</td>\n",
       "      <td>Male</td>\n",
       "      <td>No relevent experience</td>\n",
       "      <td>Full time course</td>\n",
       "      <td>Graduate</td>\n",
       "      <td>STEM</td>\n",
       "      <td>11</td>\n",
       "      <td>NaN</td>\n",
       "      <td>NaN</td>\n",
       "      <td>3</td>\n",
       "      <td>194</td>\n",
       "      <td>0.0</td>\n",
       "    </tr>\n",
       "    <tr>\n",
       "      <th>...</th>\n",
       "      <td>...</td>\n",
       "      <td>...</td>\n",
       "      <td>...</td>\n",
       "      <td>...</td>\n",
       "      <td>...</td>\n",
       "      <td>...</td>\n",
       "      <td>...</td>\n",
       "      <td>...</td>\n",
       "      <td>...</td>\n",
       "      <td>...</td>\n",
       "      <td>...</td>\n",
       "      <td>...</td>\n",
       "      <td>...</td>\n",
       "      <td>...</td>\n",
       "    </tr>\n",
       "    <tr>\n",
       "      <th>12531</th>\n",
       "      <td>27283</td>\n",
       "      <td>180</td>\n",
       "      <td>0.698</td>\n",
       "      <td>NaN</td>\n",
       "      <td>No relevent experience</td>\n",
       "      <td>no_enrollment</td>\n",
       "      <td>Graduate</td>\n",
       "      <td>STEM</td>\n",
       "      <td>2</td>\n",
       "      <td>NaN</td>\n",
       "      <td>NaN</td>\n",
       "      <td>never</td>\n",
       "      <td>13</td>\n",
       "      <td>0.0</td>\n",
       "    </tr>\n",
       "    <tr>\n",
       "      <th>12040</th>\n",
       "      <td>9339</td>\n",
       "      <td>180</td>\n",
       "      <td>0.698</td>\n",
       "      <td>Male</td>\n",
       "      <td>Has relevent experience</td>\n",
       "      <td>no_enrollment</td>\n",
       "      <td>Graduate</td>\n",
       "      <td>STEM</td>\n",
       "      <td>3</td>\n",
       "      <td>NaN</td>\n",
       "      <td>NaN</td>\n",
       "      <td>3</td>\n",
       "      <td>57</td>\n",
       "      <td>0.0</td>\n",
       "    </tr>\n",
       "    <tr>\n",
       "      <th>18477</th>\n",
       "      <td>12647</td>\n",
       "      <td>180</td>\n",
       "      <td>0.698</td>\n",
       "      <td>NaN</td>\n",
       "      <td>No relevent experience</td>\n",
       "      <td>no_enrollment</td>\n",
       "      <td>Graduate</td>\n",
       "      <td>STEM</td>\n",
       "      <td>3</td>\n",
       "      <td>&lt;10</td>\n",
       "      <td>Pvt Ltd</td>\n",
       "      <td>2</td>\n",
       "      <td>43</td>\n",
       "      <td>0.0</td>\n",
       "    </tr>\n",
       "    <tr>\n",
       "      <th>11444</th>\n",
       "      <td>9053</td>\n",
       "      <td>180</td>\n",
       "      <td>0.698</td>\n",
       "      <td>NaN</td>\n",
       "      <td>No relevent experience</td>\n",
       "      <td>Full time course</td>\n",
       "      <td>Graduate</td>\n",
       "      <td>STEM</td>\n",
       "      <td>1</td>\n",
       "      <td>NaN</td>\n",
       "      <td>NaN</td>\n",
       "      <td>1</td>\n",
       "      <td>77</td>\n",
       "      <td>0.0</td>\n",
       "    </tr>\n",
       "    <tr>\n",
       "      <th>6968</th>\n",
       "      <td>29410</td>\n",
       "      <td>180</td>\n",
       "      <td>0.698</td>\n",
       "      <td>Male</td>\n",
       "      <td>Has relevent experience</td>\n",
       "      <td>no_enrollment</td>\n",
       "      <td>Graduate</td>\n",
       "      <td>STEM</td>\n",
       "      <td>7</td>\n",
       "      <td>NaN</td>\n",
       "      <td>NaN</td>\n",
       "      <td>1</td>\n",
       "      <td>82</td>\n",
       "      <td>1.0</td>\n",
       "    </tr>\n",
       "  </tbody>\n",
       "</table>\n",
       "<p>19158 rows × 14 columns</p>\n",
       "</div>"
      ],
      "text/plain": [
       "       enrollee_id  city  city_development_index gender  \\\n",
       "18720        15314     1                   0.847   Male   \n",
       "4669         14020     1                   0.847   Male   \n",
       "14300        20753     1                   0.847   Male   \n",
       "15172        14791     1                   0.847   Male   \n",
       "5723          6476     1                   0.847   Male   \n",
       "...            ...   ...                     ...    ...   \n",
       "12531        27283   180                   0.698    NaN   \n",
       "12040         9339   180                   0.698   Male   \n",
       "18477        12647   180                   0.698    NaN   \n",
       "11444         9053   180                   0.698    NaN   \n",
       "6968         29410   180                   0.698   Male   \n",
       "\n",
       "           relevent_experience enrolled_university education_level  \\\n",
       "18720   No relevent experience    Full time course        Graduate   \n",
       "4669   Has relevent experience       no_enrollment         Masters   \n",
       "14300   No relevent experience    Full time course     High School   \n",
       "15172  Has relevent experience    Full time course        Graduate   \n",
       "5723    No relevent experience    Full time course        Graduate   \n",
       "...                        ...                 ...             ...   \n",
       "12531   No relevent experience       no_enrollment        Graduate   \n",
       "12040  Has relevent experience       no_enrollment        Graduate   \n",
       "18477   No relevent experience       no_enrollment        Graduate   \n",
       "11444   No relevent experience    Full time course        Graduate   \n",
       "6968   Has relevent experience       no_enrollment        Graduate   \n",
       "\n",
       "      major_discipline experience company_size company_type last_new_job  \\\n",
       "18720             STEM          5      100-500      Pvt Ltd            1   \n",
       "4669              STEM         10        50-99      Pvt Ltd            1   \n",
       "14300              NaN          4       10000+      Pvt Ltd            1   \n",
       "15172             STEM         10    5000-9999      Pvt Ltd            1   \n",
       "5723              STEM         11          NaN          NaN            3   \n",
       "...                ...        ...          ...          ...          ...   \n",
       "12531             STEM          2          NaN          NaN        never   \n",
       "12040             STEM          3          NaN          NaN            3   \n",
       "18477             STEM          3          <10      Pvt Ltd            2   \n",
       "11444             STEM          1          NaN          NaN            1   \n",
       "6968              STEM          7          NaN          NaN            1   \n",
       "\n",
       "       training_hours  target  \n",
       "18720              13     0.0  \n",
       "4669               59     0.0  \n",
       "14300             114     0.0  \n",
       "15172               9     0.0  \n",
       "5723              194     0.0  \n",
       "...               ...     ...  \n",
       "12531              13     0.0  \n",
       "12040              57     0.0  \n",
       "18477              43     0.0  \n",
       "11444              77     0.0  \n",
       "6968               82     1.0  \n",
       "\n",
       "[19158 rows x 14 columns]"
      ]
     },
     "execution_count": 12,
     "metadata": {},
     "output_type": "execute_result"
    }
   ],
   "source": [
    "train.sort_values(by='city')"
   ]
  },
  {
   "cell_type": "markdown",
   "metadata": {
    "papermill": {
     "duration": 0.117552,
     "end_time": "2021-10-11T12:39:54.587575",
     "exception": false,
     "start_time": "2021-10-11T12:39:54.470023",
     "status": "completed"
    },
    "tags": []
   },
   "source": [
    "And here we can see that each city has specific city_development_index, so deleting this column won't make any difference to the model, however we can visualize what is the development index for the cities with the majority of candidates:"
   ]
  },
  {
   "cell_type": "code",
   "execution_count": 13,
   "metadata": {
    "execution": {
     "iopub.execute_input": "2021-10-11T12:39:54.828167Z",
     "iopub.status.busy": "2021-10-11T12:39:54.827286Z",
     "iopub.status.idle": "2021-10-11T12:39:54.852260Z",
     "shell.execute_reply": "2021-10-11T12:39:54.851719Z"
    },
    "papermill": {
     "duration": 0.147039,
     "end_time": "2021-10-11T12:39:54.852385",
     "exception": false,
     "start_time": "2021-10-11T12:39:54.705346",
     "status": "completed"
    },
    "tags": []
   },
   "outputs": [
    {
     "data": {
      "text/plain": [
       "0        0.92\n",
       "8        0.92\n",
       "9        0.92\n",
       "11       0.92\n",
       "16       0.92\n",
       "         ... \n",
       "19146    0.92\n",
       "19149    0.92\n",
       "19152    0.92\n",
       "19154    0.92\n",
       "19155    0.92\n",
       "Name: city_development_index, Length: 4355, dtype: float64"
      ]
     },
     "execution_count": 13,
     "metadata": {},
     "output_type": "execute_result"
    }
   ],
   "source": [
    "train.loc[train.city == 103,'city_development_index']"
   ]
  },
  {
   "cell_type": "markdown",
   "metadata": {
    "papermill": {
     "duration": 0.11499,
     "end_time": "2021-10-11T12:39:55.083558",
     "exception": false,
     "start_time": "2021-10-11T12:39:54.968568",
     "status": "completed"
    },
    "tags": []
   },
   "source": [
    "So the city with the majority of candidates is a well developped city, but do we have a relationship between the city development index and the chance of the candidate looking for another job?"
   ]
  },
  {
   "cell_type": "code",
   "execution_count": 14,
   "metadata": {
    "execution": {
     "iopub.execute_input": "2021-10-11T12:39:55.320853Z",
     "iopub.status.busy": "2021-10-11T12:39:55.319965Z",
     "iopub.status.idle": "2021-10-11T12:39:55.323406Z",
     "shell.execute_reply": "2021-10-11T12:39:55.324002Z"
    },
    "papermill": {
     "duration": 0.12564,
     "end_time": "2021-10-11T12:39:55.324174",
     "exception": false,
     "start_time": "2021-10-11T12:39:55.198534",
     "status": "completed"
    },
    "tags": []
   },
   "outputs": [],
   "source": [
    "train['city'] = train['city'].astype(np.int8)"
   ]
  },
  {
   "cell_type": "code",
   "execution_count": 15,
   "metadata": {
    "execution": {
     "iopub.execute_input": "2021-10-11T12:39:55.564229Z",
     "iopub.status.busy": "2021-10-11T12:39:55.563451Z",
     "iopub.status.idle": "2021-10-11T12:39:55.923318Z",
     "shell.execute_reply": "2021-10-11T12:39:55.924097Z"
    },
    "papermill": {
     "duration": 0.48337,
     "end_time": "2021-10-11T12:39:55.924285",
     "exception": false,
     "start_time": "2021-10-11T12:39:55.440915",
     "status": "completed"
    },
    "tags": []
   },
   "outputs": [
    {
     "data": {
      "image/png": "[encoded data removed]",
      "text/plain": [
       "<Figure size 432x288 with 1 Axes>"
      ]
     },
     "metadata": {
      "needs_background": "light"
     },
     "output_type": "display_data"
    }
   ],
   "source": [
    "sns.lineplot(x='target', y='city_development_index',data=train)\n",
    "plt.show()"
   ]
  },
  {
   "cell_type": "markdown",
   "metadata": {
    "papermill": {
     "duration": 0.119222,
     "end_time": "2021-10-11T12:39:56.162770",
     "exception": false,
     "start_time": "2021-10-11T12:39:56.043548",
     "status": "completed"
    },
    "tags": []
   },
   "source": [
    "The candidates from cities with low development index tend to look for a job change and vice versa. Now let's just drop this column."
   ]
  },
  {
   "cell_type": "code",
   "execution_count": 16,
   "metadata": {
    "execution": {
     "iopub.execute_input": "2021-10-11T12:39:56.412459Z",
     "iopub.status.busy": "2021-10-11T12:39:56.411380Z",
     "iopub.status.idle": "2021-10-11T12:39:56.416464Z",
     "shell.execute_reply": "2021-10-11T12:39:56.415786Z"
    },
    "papermill": {
     "duration": 0.133678,
     "end_time": "2021-10-11T12:39:56.416583",
     "exception": false,
     "start_time": "2021-10-11T12:39:56.282905",
     "status": "completed"
    },
    "tags": []
   },
   "outputs": [],
   "source": [
    "train = train.drop(labels='city_development_index', axis=1)"
   ]
  },
  {
   "cell_type": "markdown",
   "metadata": {
    "papermill": {
     "duration": 0.117248,
     "end_time": "2021-10-11T12:39:56.649718",
     "exception": false,
     "start_time": "2021-10-11T12:39:56.532470",
     "status": "completed"
    },
    "tags": []
   },
   "source": [
    "# Gender:"
   ]
  },
  {
   "cell_type": "markdown",
   "metadata": {
    "papermill": {
     "duration": 0.117929,
     "end_time": "2021-10-11T12:39:56.882591",
     "exception": false,
     "start_time": "2021-10-11T12:39:56.764662",
     "status": "completed"
    },
    "tags": []
   },
   "source": [
    "It is obvious we have to encode the caregorical data and take care of missing data, there are a lot of ways to handle gender missing values such as replacing them with most common gender in the dataset, deleting those rows...etc\n",
    "But I prefer to fill the gender missing values with \"Other\" since we may have candidates identify as non-binary.\n",
    "First lets take a look at our gender column:"
   ]
  },
  {
   "cell_type": "code",
   "execution_count": 17,
   "metadata": {
    "execution": {
     "iopub.execute_input": "2021-10-11T12:39:57.127680Z",
     "iopub.status.busy": "2021-10-11T12:39:57.126885Z",
     "iopub.status.idle": "2021-10-11T12:39:57.368114Z",
     "shell.execute_reply": "2021-10-11T12:39:57.367331Z"
    },
    "papermill": {
     "duration": 0.36981,
     "end_time": "2021-10-11T12:39:57.368265",
     "exception": false,
     "start_time": "2021-10-11T12:39:56.998455",
     "status": "completed"
    },
    "tags": []
   },
   "outputs": [
    {
     "data": {
      "image/png": "[encoded data removed]",
      "text/plain": [
       "<Figure size 864x432 with 1 Axes>"
      ]
     },
     "metadata": {
      "needs_background": "light"
     },
     "output_type": "display_data"
    }
   ],
   "source": [
    "plt.figure(figsize=(12,6))\n",
    "sns.violinplot(x='gender', y='target', palette='Set2', data=train)\n",
    "plt.show()"
   ]
  },
  {
   "cell_type": "markdown",
   "metadata": {
    "papermill": {
     "duration": 0.120082,
     "end_time": "2021-10-11T12:39:57.608820",
     "exception": false,
     "start_time": "2021-10-11T12:39:57.488738",
     "status": "completed"
    },
    "tags": []
   },
   "source": [
    "It looks like more men don't look for a job change but actually we can't conclude that from this violinplot since most of the candidates are men."
   ]
  },
  {
   "cell_type": "code",
   "execution_count": 18,
   "metadata": {
    "execution": {
     "iopub.execute_input": "2021-10-11T12:39:57.851862Z",
     "iopub.status.busy": "2021-10-11T12:39:57.851073Z",
     "iopub.status.idle": "2021-10-11T12:39:57.999493Z",
     "shell.execute_reply": "2021-10-11T12:39:57.999995Z"
    },
    "papermill": {
     "duration": 0.270393,
     "end_time": "2021-10-11T12:39:58.000176",
     "exception": false,
     "start_time": "2021-10-11T12:39:57.729783",
     "status": "completed"
    },
    "tags": []
   },
   "outputs": [
    {
     "data": {
      "image/png": "[encoded data removed]",
      "text/plain": [
       "<Figure size 432x288 with 1 Axes>"
      ]
     },
     "metadata": {
      "needs_background": "light"
     },
     "output_type": "display_data"
    }
   ],
   "source": [
    "train['gender'].hist()\n",
    "plt.show()"
   ]
  },
  {
   "cell_type": "markdown",
   "metadata": {
    "papermill": {
     "duration": 0.117554,
     "end_time": "2021-10-11T12:39:58.235373",
     "exception": false,
     "start_time": "2021-10-11T12:39:58.117819",
     "status": "completed"
    },
    "tags": []
   },
   "source": [
    "Now let's fill the missing values with 'Other':"
   ]
  },
  {
   "cell_type": "code",
   "execution_count": 19,
   "metadata": {
    "execution": {
     "iopub.execute_input": "2021-10-11T12:39:58.474874Z",
     "iopub.status.busy": "2021-10-11T12:39:58.474120Z",
     "iopub.status.idle": "2021-10-11T12:39:58.481288Z",
     "shell.execute_reply": "2021-10-11T12:39:58.481886Z"
    },
    "papermill": {
     "duration": 0.129002,
     "end_time": "2021-10-11T12:39:58.482050",
     "exception": false,
     "start_time": "2021-10-11T12:39:58.353048",
     "status": "completed"
    },
    "tags": []
   },
   "outputs": [],
   "source": [
    "train['gender'] = train['gender'].fillna('Other')"
   ]
  },
  {
   "cell_type": "markdown",
   "metadata": {
    "papermill": {
     "duration": 0.121775,
     "end_time": "2021-10-11T12:39:58.722757",
     "exception": false,
     "start_time": "2021-10-11T12:39:58.600982",
     "status": "completed"
    },
    "tags": []
   },
   "source": [
    "Since we don't have any missing values left in the gender column, let's encode the column, I will use for this one LabelEncoder of sklearn:"
   ]
  },
  {
   "cell_type": "code",
   "execution_count": 20,
   "metadata": {
    "execution": {
     "iopub.execute_input": "2021-10-11T12:39:58.963624Z",
     "iopub.status.busy": "2021-10-11T12:39:58.962937Z",
     "iopub.status.idle": "2021-10-11T12:39:59.118111Z",
     "shell.execute_reply": "2021-10-11T12:39:59.117390Z"
    },
    "papermill": {
     "duration": 0.275678,
     "end_time": "2021-10-11T12:39:59.118260",
     "exception": false,
     "start_time": "2021-10-11T12:39:58.842582",
     "status": "completed"
    },
    "tags": []
   },
   "outputs": [],
   "source": [
    "from sklearn.preprocessing import LabelEncoder"
   ]
  },
  {
   "cell_type": "code",
   "execution_count": 21,
   "metadata": {
    "execution": {
     "iopub.execute_input": "2021-10-11T12:39:59.371701Z",
     "iopub.status.busy": "2021-10-11T12:39:59.370551Z",
     "iopub.status.idle": "2021-10-11T12:39:59.375874Z",
     "shell.execute_reply": "2021-10-11T12:39:59.375323Z"
    },
    "papermill": {
     "duration": 0.137283,
     "end_time": "2021-10-11T12:39:59.376001",
     "exception": false,
     "start_time": "2021-10-11T12:39:59.238718",
     "status": "completed"
    },
    "tags": []
   },
   "outputs": [],
   "source": [
    "label_encoder = LabelEncoder()\n",
    "train[\"gender\"] = label_encoder.fit_transform(train[\"gender\"])"
   ]
  },
  {
   "cell_type": "markdown",
   "metadata": {
    "papermill": {
     "duration": 0.118133,
     "end_time": "2021-10-11T12:39:59.614780",
     "exception": false,
     "start_time": "2021-10-11T12:39:59.496647",
     "status": "completed"
    },
    "tags": []
   },
   "source": [
    "#### Female : 0\n",
    "#### Male : 1\n",
    "#### Other : 2"
   ]
  },
  {
   "cell_type": "markdown",
   "metadata": {
    "papermill": {
     "duration": 0.122978,
     "end_time": "2021-10-11T12:39:59.855918",
     "exception": false,
     "start_time": "2021-10-11T12:39:59.732940",
     "status": "completed"
    },
    "tags": []
   },
   "source": [
    "Lets have a look at what we have achieved so far:"
   ]
  },
  {
   "cell_type": "code",
   "execution_count": 22,
   "metadata": {
    "execution": {
     "iopub.execute_input": "2021-10-11T12:40:00.125406Z",
     "iopub.status.busy": "2021-10-11T12:40:00.124364Z",
     "iopub.status.idle": "2021-10-11T12:40:00.132657Z",
     "shell.execute_reply": "2021-10-11T12:40:00.132071Z"
    },
    "papermill": {
     "duration": 0.15171,
     "end_time": "2021-10-11T12:40:00.132777",
     "exception": false,
     "start_time": "2021-10-11T12:39:59.981067",
     "status": "completed"
    },
    "tags": []
   },
   "outputs": [
    {
     "data": {
      "text/plain": [
       "enrollee_id               0\n",
       "city                      0\n",
       "gender                    0\n",
       "relevent_experience       0\n",
       "enrolled_university     386\n",
       "education_level         460\n",
       "major_discipline       2813\n",
       "experience               65\n",
       "company_size           5938\n",
       "company_type           6140\n",
       "last_new_job            423\n",
       "training_hours            0\n",
       "target                    0\n",
       "dtype: int64"
      ]
     },
     "execution_count": 22,
     "metadata": {},
     "output_type": "execute_result"
    }
   ],
   "source": [
    "train.isna().sum()"
   ]
  },
  {
   "cell_type": "code",
   "execution_count": 23,
   "metadata": {
    "execution": {
     "iopub.execute_input": "2021-10-11T12:40:00.375301Z",
     "iopub.status.busy": "2021-10-11T12:40:00.374622Z",
     "iopub.status.idle": "2021-10-11T12:40:00.392926Z",
     "shell.execute_reply": "2021-10-11T12:40:00.392385Z"
    },
    "papermill": {
     "duration": 0.140544,
     "end_time": "2021-10-11T12:40:00.393048",
     "exception": false,
     "start_time": "2021-10-11T12:40:00.252504",
     "status": "completed"
    },
    "tags": []
   },
   "outputs": [
    {
     "data": {
      "text/html": [
       "<div>\n",
       "<style scoped>\n",
       "    .dataframe tbody tr th:only-of-type {\n",
       "        vertical-align: middle;\n",
       "    }\n",
       "\n",
       "    .dataframe tbody tr th {\n",
       "        vertical-align: top;\n",
       "    }\n",
       "\n",
       "    .dataframe thead th {\n",
       "        text-align: right;\n",
       "    }\n",
       "</style>\n",
       "<table border=\"1\" class=\"dataframe\">\n",
       "  <thead>\n",
       "    <tr style=\"text-align: right;\">\n",
       "      <th></th>\n",
       "      <th>enrollee_id</th>\n",
       "      <th>city</th>\n",
       "      <th>gender</th>\n",
       "      <th>relevent_experience</th>\n",
       "      <th>enrolled_university</th>\n",
       "      <th>education_level</th>\n",
       "      <th>major_discipline</th>\n",
       "      <th>experience</th>\n",
       "      <th>company_size</th>\n",
       "      <th>company_type</th>\n",
       "      <th>last_new_job</th>\n",
       "      <th>training_hours</th>\n",
       "      <th>target</th>\n",
       "    </tr>\n",
       "  </thead>\n",
       "  <tbody>\n",
       "    <tr>\n",
       "      <th>0</th>\n",
       "      <td>8949</td>\n",
       "      <td>103</td>\n",
       "      <td>1</td>\n",
       "      <td>Has relevent experience</td>\n",
       "      <td>no_enrollment</td>\n",
       "      <td>Graduate</td>\n",
       "      <td>STEM</td>\n",
       "      <td>&gt;20</td>\n",
       "      <td>NaN</td>\n",
       "      <td>NaN</td>\n",
       "      <td>1</td>\n",
       "      <td>36</td>\n",
       "      <td>1.0</td>\n",
       "    </tr>\n",
       "    <tr>\n",
       "      <th>1</th>\n",
       "      <td>29725</td>\n",
       "      <td>40</td>\n",
       "      <td>1</td>\n",
       "      <td>No relevent experience</td>\n",
       "      <td>no_enrollment</td>\n",
       "      <td>Graduate</td>\n",
       "      <td>STEM</td>\n",
       "      <td>15</td>\n",
       "      <td>50-99</td>\n",
       "      <td>Pvt Ltd</td>\n",
       "      <td>&gt;4</td>\n",
       "      <td>47</td>\n",
       "      <td>0.0</td>\n",
       "    </tr>\n",
       "    <tr>\n",
       "      <th>2</th>\n",
       "      <td>11561</td>\n",
       "      <td>21</td>\n",
       "      <td>2</td>\n",
       "      <td>No relevent experience</td>\n",
       "      <td>Full time course</td>\n",
       "      <td>Graduate</td>\n",
       "      <td>STEM</td>\n",
       "      <td>5</td>\n",
       "      <td>NaN</td>\n",
       "      <td>NaN</td>\n",
       "      <td>never</td>\n",
       "      <td>83</td>\n",
       "      <td>0.0</td>\n",
       "    </tr>\n",
       "    <tr>\n",
       "      <th>3</th>\n",
       "      <td>33241</td>\n",
       "      <td>115</td>\n",
       "      <td>2</td>\n",
       "      <td>No relevent experience</td>\n",
       "      <td>NaN</td>\n",
       "      <td>Graduate</td>\n",
       "      <td>Business Degree</td>\n",
       "      <td>&lt;1</td>\n",
       "      <td>NaN</td>\n",
       "      <td>Pvt Ltd</td>\n",
       "      <td>never</td>\n",
       "      <td>52</td>\n",
       "      <td>1.0</td>\n",
       "    </tr>\n",
       "    <tr>\n",
       "      <th>4</th>\n",
       "      <td>666</td>\n",
       "      <td>-94</td>\n",
       "      <td>1</td>\n",
       "      <td>Has relevent experience</td>\n",
       "      <td>no_enrollment</td>\n",
       "      <td>Masters</td>\n",
       "      <td>STEM</td>\n",
       "      <td>&gt;20</td>\n",
       "      <td>50-99</td>\n",
       "      <td>Funded Startup</td>\n",
       "      <td>4</td>\n",
       "      <td>8</td>\n",
       "      <td>0.0</td>\n",
       "    </tr>\n",
       "  </tbody>\n",
       "</table>\n",
       "</div>"
      ],
      "text/plain": [
       "   enrollee_id  city  gender      relevent_experience enrolled_university  \\\n",
       "0         8949   103       1  Has relevent experience       no_enrollment   \n",
       "1        29725    40       1   No relevent experience       no_enrollment   \n",
       "2        11561    21       2   No relevent experience    Full time course   \n",
       "3        33241   115       2   No relevent experience                 NaN   \n",
       "4          666   -94       1  Has relevent experience       no_enrollment   \n",
       "\n",
       "  education_level major_discipline experience company_size    company_type  \\\n",
       "0        Graduate             STEM        >20          NaN             NaN   \n",
       "1        Graduate             STEM         15        50-99         Pvt Ltd   \n",
       "2        Graduate             STEM          5          NaN             NaN   \n",
       "3        Graduate  Business Degree         <1          NaN         Pvt Ltd   \n",
       "4         Masters             STEM        >20        50-99  Funded Startup   \n",
       "\n",
       "  last_new_job  training_hours  target  \n",
       "0            1              36     1.0  \n",
       "1           >4              47     0.0  \n",
       "2        never              83     0.0  \n",
       "3        never              52     1.0  \n",
       "4            4               8     0.0  "
      ]
     },
     "execution_count": 23,
     "metadata": {},
     "output_type": "execute_result"
    }
   ],
   "source": [
    "train.head()"
   ]
  },
  {
   "cell_type": "markdown",
   "metadata": {
    "papermill": {
     "duration": 0.120274,
     "end_time": "2021-10-11T12:40:00.634051",
     "exception": false,
     "start_time": "2021-10-11T12:40:00.513777",
     "status": "completed"
    },
    "tags": []
   },
   "source": [
    "# Relevant experience:"
   ]
  },
  {
   "cell_type": "markdown",
   "metadata": {
    "papermill": {
     "duration": 0.120551,
     "end_time": "2021-10-11T12:40:00.878085",
     "exception": false,
     "start_time": "2021-10-11T12:40:00.757534",
     "status": "completed"
    },
    "tags": []
   },
   "source": [
    "Before making any decision we have to look at the values of this column:"
   ]
  },
  {
   "cell_type": "code",
   "execution_count": 24,
   "metadata": {
    "execution": {
     "iopub.execute_input": "2021-10-11T12:40:01.125199Z",
     "iopub.status.busy": "2021-10-11T12:40:01.124368Z",
     "iopub.status.idle": "2021-10-11T12:40:01.132252Z",
     "shell.execute_reply": "2021-10-11T12:40:01.132909Z"
    },
    "papermill": {
     "duration": 0.131698,
     "end_time": "2021-10-11T12:40:01.133078",
     "exception": false,
     "start_time": "2021-10-11T12:40:01.001380",
     "status": "completed"
    },
    "tags": []
   },
   "outputs": [
    {
     "data": {
      "text/plain": [
       "array(['Has relevent experience', 'No relevent experience'], dtype=object)"
      ]
     },
     "execution_count": 24,
     "metadata": {},
     "output_type": "execute_result"
    }
   ],
   "source": [
    "train['relevent_experience'].unique()"
   ]
  },
  {
   "cell_type": "markdown",
   "metadata": {
    "papermill": {
     "duration": 0.12263,
     "end_time": "2021-10-11T12:40:01.376146",
     "exception": false,
     "start_time": "2021-10-11T12:40:01.253516",
     "status": "completed"
    },
    "tags": []
   },
   "source": [
    "So it only has two values, and no missing data."
   ]
  },
  {
   "cell_type": "markdown",
   "metadata": {
    "papermill": {
     "duration": 0.119476,
     "end_time": "2021-10-11T12:40:01.617125",
     "exception": false,
     "start_time": "2021-10-11T12:40:01.497649",
     "status": "completed"
    },
    "tags": []
   },
   "source": [
    "### Encoding:"
   ]
  },
  {
   "cell_type": "code",
   "execution_count": 25,
   "metadata": {
    "execution": {
     "iopub.execute_input": "2021-10-11T12:40:01.919129Z",
     "iopub.status.busy": "2021-10-11T12:40:01.918448Z",
     "iopub.status.idle": "2021-10-11T12:40:01.922837Z",
     "shell.execute_reply": "2021-10-11T12:40:01.923372Z"
    },
    "papermill": {
     "duration": 0.138747,
     "end_time": "2021-10-11T12:40:01.923544",
     "exception": false,
     "start_time": "2021-10-11T12:40:01.784797",
     "status": "completed"
    },
    "tags": []
   },
   "outputs": [],
   "source": [
    "train[\"relevent_experience\"] = train[\"relevent_experience\"].map({\"Has relevent experience\":1, \"No relevent experience\":0})"
   ]
  },
  {
   "cell_type": "markdown",
   "metadata": {
    "papermill": {
     "duration": 0.144897,
     "end_time": "2021-10-11T12:40:02.196675",
     "exception": false,
     "start_time": "2021-10-11T12:40:02.051778",
     "status": "completed"
    },
    "tags": []
   },
   "source": [
    "# Enrolled university:"
   ]
  },
  {
   "cell_type": "code",
   "execution_count": 26,
   "metadata": {
    "execution": {
     "iopub.execute_input": "2021-10-11T12:40:02.472275Z",
     "iopub.status.busy": "2021-10-11T12:40:02.471211Z",
     "iopub.status.idle": "2021-10-11T12:40:02.477305Z",
     "shell.execute_reply": "2021-10-11T12:40:02.476443Z"
    },
    "papermill": {
     "duration": 0.149725,
     "end_time": "2021-10-11T12:40:02.477481",
     "exception": false,
     "start_time": "2021-10-11T12:40:02.327756",
     "status": "completed"
    },
    "tags": []
   },
   "outputs": [
    {
     "data": {
      "text/plain": [
       "array(['no_enrollment', 'Full time course', nan, 'Part time course'],\n",
       "      dtype=object)"
      ]
     },
     "execution_count": 26,
     "metadata": {},
     "output_type": "execute_result"
    }
   ],
   "source": [
    "train['enrolled_university'].unique()"
   ]
  },
  {
   "cell_type": "markdown",
   "metadata": {
    "papermill": {
     "duration": 0.123868,
     "end_time": "2021-10-11T12:40:02.728055",
     "exception": false,
     "start_time": "2021-10-11T12:40:02.604187",
     "status": "completed"
    },
    "tags": []
   },
   "source": [
    "This column has missing values, lets take care of them before encoding."
   ]
  },
  {
   "cell_type": "code",
   "execution_count": 27,
   "metadata": {
    "execution": {
     "iopub.execute_input": "2021-10-11T12:40:03.031294Z",
     "iopub.status.busy": "2021-10-11T12:40:03.030593Z",
     "iopub.status.idle": "2021-10-11T12:40:03.156549Z",
     "shell.execute_reply": "2021-10-11T12:40:03.157081Z"
    },
    "papermill": {
     "duration": 0.276945,
     "end_time": "2021-10-11T12:40:03.157250",
     "exception": false,
     "start_time": "2021-10-11T12:40:02.880305",
     "status": "completed"
    },
    "tags": []
   },
   "outputs": [
    {
     "data": {
      "image/png": "[encoded data removed]",
      "text/plain": [
       "<Figure size 432x288 with 1 Axes>"
      ]
     },
     "metadata": {
      "needs_background": "light"
     },
     "output_type": "display_data"
    }
   ],
   "source": [
    "sns.countplot(x='enrolled_university', data=train)\n",
    "plt.show()"
   ]
  },
  {
   "cell_type": "markdown",
   "metadata": {
    "papermill": {
     "duration": 0.121317,
     "end_time": "2021-10-11T12:40:03.401671",
     "exception": false,
     "start_time": "2021-10-11T12:40:03.280354",
     "status": "completed"
    },
    "tags": []
   },
   "source": [
    "#### Most of the candidates had no university enrollment"
   ]
  },
  {
   "cell_type": "code",
   "execution_count": 28,
   "metadata": {
    "execution": {
     "iopub.execute_input": "2021-10-11T12:40:03.652143Z",
     "iopub.status.busy": "2021-10-11T12:40:03.651453Z",
     "iopub.status.idle": "2021-10-11T12:40:04.019146Z",
     "shell.execute_reply": "2021-10-11T12:40:04.019663Z"
    },
    "papermill": {
     "duration": 0.494543,
     "end_time": "2021-10-11T12:40:04.019821",
     "exception": false,
     "start_time": "2021-10-11T12:40:03.525278",
     "status": "completed"
    },
    "tags": []
   },
   "outputs": [
    {
     "data": {
      "image/png": "[encoded data removed]",
      "text/plain": [
       "<Figure size 432x288 with 1 Axes>"
      ]
     },
     "metadata": {
      "needs_background": "light"
     },
     "output_type": "display_data"
    }
   ],
   "source": [
    "sns.lineplot(x='enrolled_university', y='target', palette='Set2', data=train)\n",
    "plt.show()"
   ]
  },
  {
   "cell_type": "markdown",
   "metadata": {
    "papermill": {
     "duration": 0.122319,
     "end_time": "2021-10-11T12:40:04.267685",
     "exception": false,
     "start_time": "2021-10-11T12:40:04.145366",
     "status": "completed"
    },
    "tags": []
   },
   "source": [
    "#### We can see that most of candidates had no enrollment more likely aren't looking for a job change."
   ]
  },
  {
   "cell_type": "markdown",
   "metadata": {
    "papermill": {
     "duration": 0.123183,
     "end_time": "2021-10-11T12:40:04.515130",
     "exception": false,
     "start_time": "2021-10-11T12:40:04.391947",
     "status": "completed"
    },
    "tags": []
   },
   "source": [
    "We can't tell if the missing data is left out or the candidates had no enrollment, but also we don't want to create a new value (like 'OTHER') because it can create a pattern that doesn't exist.\n",
    "I will fill the missing values with the no_enrollment value."
   ]
  },
  {
   "cell_type": "code",
   "execution_count": 29,
   "metadata": {
    "execution": {
     "iopub.execute_input": "2021-10-11T12:40:04.766549Z",
     "iopub.status.busy": "2021-10-11T12:40:04.765863Z",
     "iopub.status.idle": "2021-10-11T12:40:04.774484Z",
     "shell.execute_reply": "2021-10-11T12:40:04.773770Z"
    },
    "papermill": {
     "duration": 0.136225,
     "end_time": "2021-10-11T12:40:04.774604",
     "exception": false,
     "start_time": "2021-10-11T12:40:04.638379",
     "status": "completed"
    },
    "tags": []
   },
   "outputs": [],
   "source": [
    "train[\"enrolled_university\"]=train[\"enrolled_university\"].fillna('no_enrollment')"
   ]
  },
  {
   "cell_type": "markdown",
   "metadata": {
    "papermill": {
     "duration": 0.12593,
     "end_time": "2021-10-11T12:40:05.023792",
     "exception": false,
     "start_time": "2021-10-11T12:40:04.897862",
     "status": "completed"
    },
    "tags": []
   },
   "source": [
    "#### Encode:"
   ]
  },
  {
   "cell_type": "code",
   "execution_count": 30,
   "metadata": {
    "execution": {
     "iopub.execute_input": "2021-10-11T12:40:05.283571Z",
     "iopub.status.busy": "2021-10-11T12:40:05.282611Z",
     "iopub.status.idle": "2021-10-11T12:40:05.286205Z",
     "shell.execute_reply": "2021-10-11T12:40:05.286872Z"
    },
    "papermill": {
     "duration": 0.140388,
     "end_time": "2021-10-11T12:40:05.287028",
     "exception": false,
     "start_time": "2021-10-11T12:40:05.146640",
     "status": "completed"
    },
    "tags": []
   },
   "outputs": [],
   "source": [
    "train[\"enrolled_university\"] = label_encoder.fit_transform(train[\"enrolled_university\"])"
   ]
  },
  {
   "cell_type": "markdown",
   "metadata": {
    "papermill": {
     "duration": 0.124898,
     "end_time": "2021-10-11T12:40:05.535095",
     "exception": false,
     "start_time": "2021-10-11T12:40:05.410197",
     "status": "completed"
    },
    "tags": []
   },
   "source": [
    "# Education level:"
   ]
  },
  {
   "cell_type": "code",
   "execution_count": 31,
   "metadata": {
    "execution": {
     "iopub.execute_input": "2021-10-11T12:40:05.785474Z",
     "iopub.status.busy": "2021-10-11T12:40:05.784420Z",
     "iopub.status.idle": "2021-10-11T12:40:05.793907Z",
     "shell.execute_reply": "2021-10-11T12:40:05.793244Z"
    },
    "papermill": {
     "duration": 0.135422,
     "end_time": "2021-10-11T12:40:05.794027",
     "exception": false,
     "start_time": "2021-10-11T12:40:05.658605",
     "status": "completed"
    },
    "tags": []
   },
   "outputs": [
    {
     "data": {
      "text/plain": [
       "array(['Graduate', 'Masters', 'High School', nan, 'Phd', 'Primary School'],\n",
       "      dtype=object)"
      ]
     },
     "execution_count": 31,
     "metadata": {},
     "output_type": "execute_result"
    }
   ],
   "source": [
    "train['education_level'].unique()"
   ]
  },
  {
   "cell_type": "code",
   "execution_count": 32,
   "metadata": {
    "execution": {
     "iopub.execute_input": "2021-10-11T12:40:06.050364Z",
     "iopub.status.busy": "2021-10-11T12:40:06.049622Z",
     "iopub.status.idle": "2021-10-11T12:40:06.199658Z",
     "shell.execute_reply": "2021-10-11T12:40:06.198999Z"
    },
    "papermill": {
     "duration": 0.281381,
     "end_time": "2021-10-11T12:40:06.199780",
     "exception": false,
     "start_time": "2021-10-11T12:40:05.918399",
     "status": "completed"
    },
    "tags": []
   },
   "outputs": [
    {
     "data": {
      "image/png": "[encoded data removed]",
      "text/plain": [
       "<Figure size 432x288 with 1 Axes>"
      ]
     },
     "metadata": {
      "needs_background": "light"
     },
     "output_type": "display_data"
    }
   ],
   "source": [
    "train['education_level'].hist()\n",
    "plt.show()"
   ]
  },
  {
   "cell_type": "markdown",
   "metadata": {
    "papermill": {
     "duration": 0.129647,
     "end_time": "2021-10-11T12:40:06.458409",
     "exception": false,
     "start_time": "2021-10-11T12:40:06.328762",
     "status": "completed"
    },
    "tags": []
   },
   "source": [
    "Most candidates are graduates."
   ]
  },
  {
   "cell_type": "code",
   "execution_count": 33,
   "metadata": {
    "execution": {
     "iopub.execute_input": "2021-10-11T12:40:06.721383Z",
     "iopub.status.busy": "2021-10-11T12:40:06.720688Z",
     "iopub.status.idle": "2021-10-11T12:40:07.151610Z",
     "shell.execute_reply": "2021-10-11T12:40:07.152112Z"
    },
    "papermill": {
     "duration": 0.568255,
     "end_time": "2021-10-11T12:40:07.152290",
     "exception": false,
     "start_time": "2021-10-11T12:40:06.584035",
     "status": "completed"
    },
    "tags": []
   },
   "outputs": [
    {
     "data": {
      "image/png": "[encoded data removed]",
      "text/plain": [
       "<Figure size 432x288 with 1 Axes>"
      ]
     },
     "metadata": {
      "needs_background": "light"
     },
     "output_type": "display_data"
    }
   ],
   "source": [
    "sns.lineplot(x='education_level', y='target', palette='Set2', data=train)\n",
    "plt.show()"
   ]
  },
  {
   "cell_type": "markdown",
   "metadata": {
    "papermill": {
     "duration": 0.126914,
     "end_time": "2021-10-11T12:40:07.406312",
     "exception": false,
     "start_time": "2021-10-11T12:40:07.279398",
     "status": "completed"
    },
    "tags": []
   },
   "source": [
    "Graduates and Masters are most likely to look for a job change, but people with Phd or primary school aren't."
   ]
  },
  {
   "cell_type": "code",
   "execution_count": 34,
   "metadata": {
    "execution": {
     "iopub.execute_input": "2021-10-11T12:40:07.667994Z",
     "iopub.status.busy": "2021-10-11T12:40:07.666992Z",
     "iopub.status.idle": "2021-10-11T12:40:07.675427Z",
     "shell.execute_reply": "2021-10-11T12:40:07.674797Z"
    },
    "papermill": {
     "duration": 0.139551,
     "end_time": "2021-10-11T12:40:07.675570",
     "exception": false,
     "start_time": "2021-10-11T12:40:07.536019",
     "status": "completed"
    },
    "tags": []
   },
   "outputs": [],
   "source": [
    "train[\"education_level\"]=train[\"education_level\"].fillna('Other')"
   ]
  },
  {
   "cell_type": "code",
   "execution_count": 35,
   "metadata": {
    "execution": {
     "iopub.execute_input": "2021-10-11T12:40:07.937729Z",
     "iopub.status.busy": "2021-10-11T12:40:07.937023Z",
     "iopub.status.idle": "2021-10-11T12:40:07.949204Z",
     "shell.execute_reply": "2021-10-11T12:40:07.949761Z"
    },
    "papermill": {
     "duration": 0.147233,
     "end_time": "2021-10-11T12:40:07.949938",
     "exception": false,
     "start_time": "2021-10-11T12:40:07.802705",
     "status": "completed"
    },
    "tags": []
   },
   "outputs": [],
   "source": [
    "train[\"education_level\"] = label_encoder.fit_transform(train[\"education_level\"])"
   ]
  },
  {
   "cell_type": "markdown",
   "metadata": {
    "papermill": {
     "duration": 0.129273,
     "end_time": "2021-10-11T12:40:08.208497",
     "exception": false,
     "start_time": "2021-10-11T12:40:08.079224",
     "status": "completed"
    },
    "tags": []
   },
   "source": [
    "# Major Discipline:"
   ]
  },
  {
   "cell_type": "code",
   "execution_count": 36,
   "metadata": {
    "execution": {
     "iopub.execute_input": "2021-10-11T12:40:08.476876Z",
     "iopub.status.busy": "2021-10-11T12:40:08.476062Z",
     "iopub.status.idle": "2021-10-11T12:40:08.480027Z",
     "shell.execute_reply": "2021-10-11T12:40:08.479505Z"
    },
    "papermill": {
     "duration": 0.143109,
     "end_time": "2021-10-11T12:40:08.480167",
     "exception": false,
     "start_time": "2021-10-11T12:40:08.337058",
     "status": "completed"
    },
    "tags": []
   },
   "outputs": [
    {
     "data": {
      "text/plain": [
       "array(['STEM', 'Business Degree', nan, 'Arts', 'Humanities', 'No Major',\n",
       "       'Other'], dtype=object)"
      ]
     },
     "execution_count": 36,
     "metadata": {},
     "output_type": "execute_result"
    }
   ],
   "source": [
    "train['major_discipline'].unique()"
   ]
  },
  {
   "cell_type": "markdown",
   "metadata": {
    "papermill": {
     "duration": 0.12827,
     "end_time": "2021-10-11T12:40:08.737121",
     "exception": false,
     "start_time": "2021-10-11T12:40:08.608851",
     "status": "completed"
    },
    "tags": []
   },
   "source": [
    "**STEM:** Science, technology, engineering, and mathematics"
   ]
  },
  {
   "cell_type": "code",
   "execution_count": 37,
   "metadata": {
    "execution": {
     "iopub.execute_input": "2021-10-11T12:40:09.006775Z",
     "iopub.status.busy": "2021-10-11T12:40:09.006004Z",
     "iopub.status.idle": "2021-10-11T12:40:09.154054Z",
     "shell.execute_reply": "2021-10-11T12:40:09.154562Z"
    },
    "papermill": {
     "duration": 0.289589,
     "end_time": "2021-10-11T12:40:09.154723",
     "exception": false,
     "start_time": "2021-10-11T12:40:08.865134",
     "status": "completed"
    },
    "tags": []
   },
   "outputs": [
    {
     "data": {
      "text/plain": [
       "<matplotlib.axes._subplots.AxesSubplot at 0x7febab48b4d0>"
      ]
     },
     "execution_count": 37,
     "metadata": {},
     "output_type": "execute_result"
    },
    {
     "data": {
      "image/png": "[encoded data removed]",
      "text/plain": [
       "<Figure size 432x288 with 1 Axes>"
      ]
     },
     "metadata": {
      "needs_background": "light"
     },
     "output_type": "display_data"
    }
   ],
   "source": [
    "train['major_discipline'].hist()"
   ]
  },
  {
   "cell_type": "markdown",
   "metadata": {
    "papermill": {
     "duration": 0.127675,
     "end_time": "2021-10-11T12:40:09.409720",
     "exception": false,
     "start_time": "2021-10-11T12:40:09.282045",
     "status": "completed"
    },
    "tags": []
   },
   "source": [
    "Most of our candidates are STEM majors."
   ]
  },
  {
   "cell_type": "code",
   "execution_count": 38,
   "metadata": {
    "execution": {
     "iopub.execute_input": "2021-10-11T12:40:09.674197Z",
     "iopub.status.busy": "2021-10-11T12:40:09.673130Z",
     "iopub.status.idle": "2021-10-11T12:40:09.681324Z",
     "shell.execute_reply": "2021-10-11T12:40:09.681842Z"
    },
    "papermill": {
     "duration": 0.143544,
     "end_time": "2021-10-11T12:40:09.682015",
     "exception": false,
     "start_time": "2021-10-11T12:40:09.538471",
     "status": "completed"
    },
    "tags": []
   },
   "outputs": [],
   "source": [
    "train['major_discipline'] = train['major_discipline'].fillna('Other')"
   ]
  },
  {
   "cell_type": "code",
   "execution_count": 39,
   "metadata": {
    "execution": {
     "iopub.execute_input": "2021-10-11T12:40:09.947565Z",
     "iopub.status.busy": "2021-10-11T12:40:09.946816Z",
     "iopub.status.idle": "2021-10-11T12:40:09.958779Z",
     "shell.execute_reply": "2021-10-11T12:40:09.959376Z"
    },
    "papermill": {
     "duration": 0.14415,
     "end_time": "2021-10-11T12:40:09.959536",
     "exception": false,
     "start_time": "2021-10-11T12:40:09.815386",
     "status": "completed"
    },
    "tags": []
   },
   "outputs": [],
   "source": [
    "train[\"major_discipline\"] = label_encoder.fit_transform(train[\"major_discipline\"])"
   ]
  },
  {
   "cell_type": "code",
   "execution_count": 40,
   "metadata": {
    "execution": {
     "iopub.execute_input": "2021-10-11T12:40:10.221559Z",
     "iopub.status.busy": "2021-10-11T12:40:10.220876Z",
     "iopub.status.idle": "2021-10-11T12:40:10.237639Z",
     "shell.execute_reply": "2021-10-11T12:40:10.237010Z"
    },
    "papermill": {
     "duration": 0.148303,
     "end_time": "2021-10-11T12:40:10.237760",
     "exception": false,
     "start_time": "2021-10-11T12:40:10.089457",
     "status": "completed"
    },
    "tags": []
   },
   "outputs": [
    {
     "data": {
      "text/html": [
       "<div>\n",
       "<style scoped>\n",
       "    .dataframe tbody tr th:only-of-type {\n",
       "        vertical-align: middle;\n",
       "    }\n",
       "\n",
       "    .dataframe tbody tr th {\n",
       "        vertical-align: top;\n",
       "    }\n",
       "\n",
       "    .dataframe thead th {\n",
       "        text-align: right;\n",
       "    }\n",
       "</style>\n",
       "<table border=\"1\" class=\"dataframe\">\n",
       "  <thead>\n",
       "    <tr style=\"text-align: right;\">\n",
       "      <th></th>\n",
       "      <th>enrollee_id</th>\n",
       "      <th>city</th>\n",
       "      <th>gender</th>\n",
       "      <th>relevent_experience</th>\n",
       "      <th>enrolled_university</th>\n",
       "      <th>education_level</th>\n",
       "      <th>major_discipline</th>\n",
       "      <th>experience</th>\n",
       "      <th>company_size</th>\n",
       "      <th>company_type</th>\n",
       "      <th>last_new_job</th>\n",
       "      <th>training_hours</th>\n",
       "      <th>target</th>\n",
       "    </tr>\n",
       "  </thead>\n",
       "  <tbody>\n",
       "    <tr>\n",
       "      <th>0</th>\n",
       "      <td>8949</td>\n",
       "      <td>103</td>\n",
       "      <td>1</td>\n",
       "      <td>1</td>\n",
       "      <td>2</td>\n",
       "      <td>0</td>\n",
       "      <td>5</td>\n",
       "      <td>&gt;20</td>\n",
       "      <td>NaN</td>\n",
       "      <td>NaN</td>\n",
       "      <td>1</td>\n",
       "      <td>36</td>\n",
       "      <td>1.0</td>\n",
       "    </tr>\n",
       "    <tr>\n",
       "      <th>1</th>\n",
       "      <td>29725</td>\n",
       "      <td>40</td>\n",
       "      <td>1</td>\n",
       "      <td>0</td>\n",
       "      <td>2</td>\n",
       "      <td>0</td>\n",
       "      <td>5</td>\n",
       "      <td>15</td>\n",
       "      <td>50-99</td>\n",
       "      <td>Pvt Ltd</td>\n",
       "      <td>&gt;4</td>\n",
       "      <td>47</td>\n",
       "      <td>0.0</td>\n",
       "    </tr>\n",
       "    <tr>\n",
       "      <th>2</th>\n",
       "      <td>11561</td>\n",
       "      <td>21</td>\n",
       "      <td>2</td>\n",
       "      <td>0</td>\n",
       "      <td>0</td>\n",
       "      <td>0</td>\n",
       "      <td>5</td>\n",
       "      <td>5</td>\n",
       "      <td>NaN</td>\n",
       "      <td>NaN</td>\n",
       "      <td>never</td>\n",
       "      <td>83</td>\n",
       "      <td>0.0</td>\n",
       "    </tr>\n",
       "    <tr>\n",
       "      <th>3</th>\n",
       "      <td>33241</td>\n",
       "      <td>115</td>\n",
       "      <td>2</td>\n",
       "      <td>0</td>\n",
       "      <td>2</td>\n",
       "      <td>0</td>\n",
       "      <td>1</td>\n",
       "      <td>&lt;1</td>\n",
       "      <td>NaN</td>\n",
       "      <td>Pvt Ltd</td>\n",
       "      <td>never</td>\n",
       "      <td>52</td>\n",
       "      <td>1.0</td>\n",
       "    </tr>\n",
       "    <tr>\n",
       "      <th>4</th>\n",
       "      <td>666</td>\n",
       "      <td>-94</td>\n",
       "      <td>1</td>\n",
       "      <td>1</td>\n",
       "      <td>2</td>\n",
       "      <td>2</td>\n",
       "      <td>5</td>\n",
       "      <td>&gt;20</td>\n",
       "      <td>50-99</td>\n",
       "      <td>Funded Startup</td>\n",
       "      <td>4</td>\n",
       "      <td>8</td>\n",
       "      <td>0.0</td>\n",
       "    </tr>\n",
       "  </tbody>\n",
       "</table>\n",
       "</div>"
      ],
      "text/plain": [
       "   enrollee_id  city  gender  relevent_experience  enrolled_university  \\\n",
       "0         8949   103       1                    1                    2   \n",
       "1        29725    40       1                    0                    2   \n",
       "2        11561    21       2                    0                    0   \n",
       "3        33241   115       2                    0                    2   \n",
       "4          666   -94       1                    1                    2   \n",
       "\n",
       "   education_level  major_discipline experience company_size    company_type  \\\n",
       "0                0                 5        >20          NaN             NaN   \n",
       "1                0                 5         15        50-99         Pvt Ltd   \n",
       "2                0                 5          5          NaN             NaN   \n",
       "3                0                 1         <1          NaN         Pvt Ltd   \n",
       "4                2                 5        >20        50-99  Funded Startup   \n",
       "\n",
       "  last_new_job  training_hours  target  \n",
       "0            1              36     1.0  \n",
       "1           >4              47     0.0  \n",
       "2        never              83     0.0  \n",
       "3        never              52     1.0  \n",
       "4            4               8     0.0  "
      ]
     },
     "execution_count": 40,
     "metadata": {},
     "output_type": "execute_result"
    }
   ],
   "source": [
    "train.head()"
   ]
  },
  {
   "cell_type": "markdown",
   "metadata": {
    "papermill": {
     "duration": 0.130695,
     "end_time": "2021-10-11T12:40:10.498087",
     "exception": false,
     "start_time": "2021-10-11T12:40:10.367392",
     "status": "completed"
    },
    "tags": []
   },
   "source": [
    "# Experience:"
   ]
  },
  {
   "cell_type": "markdown",
   "metadata": {
    "papermill": {
     "duration": 0.131063,
     "end_time": "2021-10-11T12:40:10.759178",
     "exception": false,
     "start_time": "2021-10-11T12:40:10.628115",
     "status": "completed"
    },
    "tags": []
   },
   "source": [
    "#### The experience variable is an object indicating the minimum or maximum years of experience a candidate had, so deleting the operators won't make a big difference."
   ]
  },
  {
   "cell_type": "markdown",
   "metadata": {
    "papermill": {
     "duration": 0.134626,
     "end_time": "2021-10-11T12:40:11.025744",
     "exception": false,
     "start_time": "2021-10-11T12:40:10.891118",
     "status": "completed"
    },
    "tags": []
   },
   "source": [
    "First we have to convert the column to string."
   ]
  },
  {
   "cell_type": "code",
   "execution_count": 41,
   "metadata": {
    "execution": {
     "iopub.execute_input": "2021-10-11T12:40:11.295640Z",
     "iopub.status.busy": "2021-10-11T12:40:11.294890Z",
     "iopub.status.idle": "2021-10-11T12:40:11.306821Z",
     "shell.execute_reply": "2021-10-11T12:40:11.307397Z"
    },
    "papermill": {
     "duration": 0.148807,
     "end_time": "2021-10-11T12:40:11.307569",
     "exception": false,
     "start_time": "2021-10-11T12:40:11.158762",
     "status": "completed"
    },
    "tags": []
   },
   "outputs": [],
   "source": [
    "train['experience'] = train['experience'].astype(str)"
   ]
  },
  {
   "cell_type": "code",
   "execution_count": 42,
   "metadata": {
    "execution": {
     "iopub.execute_input": "2021-10-11T12:40:11.591546Z",
     "iopub.status.busy": "2021-10-11T12:40:11.590839Z",
     "iopub.status.idle": "2021-10-11T12:40:11.604973Z",
     "shell.execute_reply": "2021-10-11T12:40:11.604397Z"
    },
    "papermill": {
     "duration": 0.160274,
     "end_time": "2021-10-11T12:40:11.605100",
     "exception": false,
     "start_time": "2021-10-11T12:40:11.444826",
     "status": "completed"
    },
    "tags": []
   },
   "outputs": [],
   "source": [
    "train['experience'] = train['experience'].apply(lambda col: col.replace('>',''))\n",
    "train['experience'] = train['experience'].apply(lambda col: col.replace('<',''))"
   ]
  },
  {
   "cell_type": "markdown",
   "metadata": {
    "papermill": {
     "duration": 0.132397,
     "end_time": "2021-10-11T12:40:11.869513",
     "exception": false,
     "start_time": "2021-10-11T12:40:11.737116",
     "status": "completed"
    },
    "tags": []
   },
   "source": [
    "Delete the symbols."
   ]
  },
  {
   "cell_type": "code",
   "execution_count": 43,
   "metadata": {
    "execution": {
     "iopub.execute_input": "2021-10-11T12:40:12.151802Z",
     "iopub.status.busy": "2021-10-11T12:40:12.150589Z",
     "iopub.status.idle": "2021-10-11T12:40:12.155366Z",
     "shell.execute_reply": "2021-10-11T12:40:12.155838Z"
    },
    "papermill": {
     "duration": 0.155384,
     "end_time": "2021-10-11T12:40:12.155993",
     "exception": false,
     "start_time": "2021-10-11T12:40:12.000609",
     "status": "completed"
    },
    "tags": []
   },
   "outputs": [
    {
     "data": {
      "text/html": [
       "<div>\n",
       "<style scoped>\n",
       "    .dataframe tbody tr th:only-of-type {\n",
       "        vertical-align: middle;\n",
       "    }\n",
       "\n",
       "    .dataframe tbody tr th {\n",
       "        vertical-align: top;\n",
       "    }\n",
       "\n",
       "    .dataframe thead th {\n",
       "        text-align: right;\n",
       "    }\n",
       "</style>\n",
       "<table border=\"1\" class=\"dataframe\">\n",
       "  <thead>\n",
       "    <tr style=\"text-align: right;\">\n",
       "      <th></th>\n",
       "      <th>enrollee_id</th>\n",
       "      <th>city</th>\n",
       "      <th>gender</th>\n",
       "      <th>relevent_experience</th>\n",
       "      <th>enrolled_university</th>\n",
       "      <th>education_level</th>\n",
       "      <th>major_discipline</th>\n",
       "      <th>experience</th>\n",
       "      <th>company_size</th>\n",
       "      <th>company_type</th>\n",
       "      <th>last_new_job</th>\n",
       "      <th>training_hours</th>\n",
       "      <th>target</th>\n",
       "    </tr>\n",
       "  </thead>\n",
       "  <tbody>\n",
       "    <tr>\n",
       "      <th>0</th>\n",
       "      <td>8949</td>\n",
       "      <td>103</td>\n",
       "      <td>1</td>\n",
       "      <td>1</td>\n",
       "      <td>2</td>\n",
       "      <td>0</td>\n",
       "      <td>5</td>\n",
       "      <td>20</td>\n",
       "      <td>NaN</td>\n",
       "      <td>NaN</td>\n",
       "      <td>1</td>\n",
       "      <td>36</td>\n",
       "      <td>1.0</td>\n",
       "    </tr>\n",
       "    <tr>\n",
       "      <th>1</th>\n",
       "      <td>29725</td>\n",
       "      <td>40</td>\n",
       "      <td>1</td>\n",
       "      <td>0</td>\n",
       "      <td>2</td>\n",
       "      <td>0</td>\n",
       "      <td>5</td>\n",
       "      <td>15</td>\n",
       "      <td>50-99</td>\n",
       "      <td>Pvt Ltd</td>\n",
       "      <td>&gt;4</td>\n",
       "      <td>47</td>\n",
       "      <td>0.0</td>\n",
       "    </tr>\n",
       "    <tr>\n",
       "      <th>2</th>\n",
       "      <td>11561</td>\n",
       "      <td>21</td>\n",
       "      <td>2</td>\n",
       "      <td>0</td>\n",
       "      <td>0</td>\n",
       "      <td>0</td>\n",
       "      <td>5</td>\n",
       "      <td>5</td>\n",
       "      <td>NaN</td>\n",
       "      <td>NaN</td>\n",
       "      <td>never</td>\n",
       "      <td>83</td>\n",
       "      <td>0.0</td>\n",
       "    </tr>\n",
       "    <tr>\n",
       "      <th>3</th>\n",
       "      <td>33241</td>\n",
       "      <td>115</td>\n",
       "      <td>2</td>\n",
       "      <td>0</td>\n",
       "      <td>2</td>\n",
       "      <td>0</td>\n",
       "      <td>1</td>\n",
       "      <td>1</td>\n",
       "      <td>NaN</td>\n",
       "      <td>Pvt Ltd</td>\n",
       "      <td>never</td>\n",
       "      <td>52</td>\n",
       "      <td>1.0</td>\n",
       "    </tr>\n",
       "    <tr>\n",
       "      <th>4</th>\n",
       "      <td>666</td>\n",
       "      <td>-94</td>\n",
       "      <td>1</td>\n",
       "      <td>1</td>\n",
       "      <td>2</td>\n",
       "      <td>2</td>\n",
       "      <td>5</td>\n",
       "      <td>20</td>\n",
       "      <td>50-99</td>\n",
       "      <td>Funded Startup</td>\n",
       "      <td>4</td>\n",
       "      <td>8</td>\n",
       "      <td>0.0</td>\n",
       "    </tr>\n",
       "  </tbody>\n",
       "</table>\n",
       "</div>"
      ],
      "text/plain": [
       "   enrollee_id  city  gender  relevent_experience  enrolled_university  \\\n",
       "0         8949   103       1                    1                    2   \n",
       "1        29725    40       1                    0                    2   \n",
       "2        11561    21       2                    0                    0   \n",
       "3        33241   115       2                    0                    2   \n",
       "4          666   -94       1                    1                    2   \n",
       "\n",
       "   education_level  major_discipline experience company_size    company_type  \\\n",
       "0                0                 5         20          NaN             NaN   \n",
       "1                0                 5         15        50-99         Pvt Ltd   \n",
       "2                0                 5          5          NaN             NaN   \n",
       "3                0                 1          1          NaN         Pvt Ltd   \n",
       "4                2                 5         20        50-99  Funded Startup   \n",
       "\n",
       "  last_new_job  training_hours  target  \n",
       "0            1              36     1.0  \n",
       "1           >4              47     0.0  \n",
       "2        never              83     0.0  \n",
       "3        never              52     1.0  \n",
       "4            4               8     0.0  "
      ]
     },
     "execution_count": 43,
     "metadata": {},
     "output_type": "execute_result"
    }
   ],
   "source": [
    "train.head()"
   ]
  },
  {
   "cell_type": "markdown",
   "metadata": {
    "papermill": {
     "duration": 0.132408,
     "end_time": "2021-10-11T12:40:12.422271",
     "exception": false,
     "start_time": "2021-10-11T12:40:12.289863",
     "status": "completed"
    },
    "tags": []
   },
   "source": [
    "Lets fill the missing values with 0."
   ]
  },
  {
   "cell_type": "code",
   "execution_count": 44,
   "metadata": {
    "execution": {
     "iopub.execute_input": "2021-10-11T12:40:12.695990Z",
     "iopub.status.busy": "2021-10-11T12:40:12.694929Z",
     "iopub.status.idle": "2021-10-11T12:40:12.707403Z",
     "shell.execute_reply": "2021-10-11T12:40:12.707966Z"
    },
    "papermill": {
     "duration": 0.149454,
     "end_time": "2021-10-11T12:40:12.708123",
     "exception": false,
     "start_time": "2021-10-11T12:40:12.558669",
     "status": "completed"
    },
    "tags": []
   },
   "outputs": [],
   "source": [
    "train['experience'] = train['experience'].apply(lambda col: col.replace('nan','0'))"
   ]
  },
  {
   "cell_type": "markdown",
   "metadata": {
    "papermill": {
     "duration": 0.134873,
     "end_time": "2021-10-11T12:40:12.976499",
     "exception": false,
     "start_time": "2021-10-11T12:40:12.841626",
     "status": "completed"
    },
    "tags": []
   },
   "source": [
    "Convert the values to Integer."
   ]
  },
  {
   "cell_type": "code",
   "execution_count": 45,
   "metadata": {
    "execution": {
     "iopub.execute_input": "2021-10-11T12:40:13.254433Z",
     "iopub.status.busy": "2021-10-11T12:40:13.253341Z",
     "iopub.status.idle": "2021-10-11T12:40:13.276792Z",
     "shell.execute_reply": "2021-10-11T12:40:13.277318Z"
    },
    "papermill": {
     "duration": 0.162793,
     "end_time": "2021-10-11T12:40:13.277498",
     "exception": false,
     "start_time": "2021-10-11T12:40:13.114705",
     "status": "completed"
    },
    "tags": []
   },
   "outputs": [],
   "source": [
    "train['experience'] = pd.to_numeric(train['experience'])"
   ]
  },
  {
   "cell_type": "markdown",
   "metadata": {
    "papermill": {
     "duration": 0.141444,
     "end_time": "2021-10-11T12:40:13.549227",
     "exception": false,
     "start_time": "2021-10-11T12:40:13.407783",
     "status": "completed"
    },
    "tags": []
   },
   "source": [
    "# Company size:"
   ]
  },
  {
   "cell_type": "code",
   "execution_count": 46,
   "metadata": {
    "execution": {
     "iopub.execute_input": "2021-10-11T12:40:13.843494Z",
     "iopub.status.busy": "2021-10-11T12:40:13.836354Z",
     "iopub.status.idle": "2021-10-11T12:40:13.853285Z",
     "shell.execute_reply": "2021-10-11T12:40:13.851893Z"
    },
    "papermill": {
     "duration": 0.164101,
     "end_time": "2021-10-11T12:40:13.853634",
     "exception": false,
     "start_time": "2021-10-11T12:40:13.689533",
     "status": "completed"
    },
    "tags": []
   },
   "outputs": [
    {
     "data": {
      "text/plain": [
       "array([nan, '50-99', '<10', '10000+', '5000-9999', '1000-4999', '10/49',\n",
       "       '100-500', '500-999'], dtype=object)"
      ]
     },
     "execution_count": 46,
     "metadata": {},
     "output_type": "execute_result"
    }
   ],
   "source": [
    "train['company_size'].unique()"
   ]
  },
  {
   "cell_type": "markdown",
   "metadata": {
    "papermill": {
     "duration": 0.139655,
     "end_time": "2021-10-11T12:40:14.152991",
     "exception": false,
     "start_time": "2021-10-11T12:40:14.013336",
     "status": "completed"
    },
    "tags": []
   },
   "source": [
    "#### We have 5938 missing values in the company_size column, before encoding categorical data we have to handle the missing values."
   ]
  },
  {
   "cell_type": "code",
   "execution_count": 47,
   "metadata": {
    "execution": {
     "iopub.execute_input": "2021-10-11T12:40:14.422815Z",
     "iopub.status.busy": "2021-10-11T12:40:14.422065Z",
     "iopub.status.idle": "2021-10-11T12:40:14.580870Z",
     "shell.execute_reply": "2021-10-11T12:40:14.581424Z"
    },
    "papermill": {
     "duration": 0.295466,
     "end_time": "2021-10-11T12:40:14.581595",
     "exception": false,
     "start_time": "2021-10-11T12:40:14.286129",
     "status": "completed"
    },
    "tags": []
   },
   "outputs": [
    {
     "data": {
      "image/png": "[encoded data removed]",
      "text/plain": [
       "<Figure size 432x288 with 1 Axes>"
      ]
     },
     "metadata": {
      "needs_background": "light"
     },
     "output_type": "display_data"
    }
   ],
   "source": [
    "sns.countplot(y='company_size', data=train)\n",
    "plt.show()"
   ]
  },
  {
   "cell_type": "markdown",
   "metadata": {
    "papermill": {
     "duration": 0.131716,
     "end_time": "2021-10-11T12:40:14.846712",
     "exception": false,
     "start_time": "2021-10-11T12:40:14.714996",
     "status": "completed"
    },
    "tags": []
   },
   "source": [
    "#### We can see that most candidates work in small companies (between 50-500)"
   ]
  },
  {
   "cell_type": "markdown",
   "metadata": {
    "papermill": {
     "duration": 0.13213,
     "end_time": "2021-10-11T12:40:15.110875",
     "exception": false,
     "start_time": "2021-10-11T12:40:14.978745",
     "status": "completed"
    },
    "tags": []
   },
   "source": [
    "Identify each interval with a number:"
   ]
  },
  {
   "cell_type": "code",
   "execution_count": 48,
   "metadata": {
    "execution": {
     "iopub.execute_input": "2021-10-11T12:40:15.382312Z",
     "iopub.status.busy": "2021-10-11T12:40:15.381637Z",
     "iopub.status.idle": "2021-10-11T12:40:15.393031Z",
     "shell.execute_reply": "2021-10-11T12:40:15.392463Z"
    },
    "papermill": {
     "duration": 0.150543,
     "end_time": "2021-10-11T12:40:15.393177",
     "exception": false,
     "start_time": "2021-10-11T12:40:15.242634",
     "status": "completed"
    },
    "tags": []
   },
   "outputs": [],
   "source": [
    "train['company_size'] = train['company_size'].map({\"50-99\":0, \"<10\":1, \"10000+\":2, \"5000-9999\":3, \"1000-4999\":4, \"10/49\":5, \"100-500\":6, \"500-999\":7})"
   ]
  },
  {
   "cell_type": "code",
   "execution_count": 49,
   "metadata": {
    "execution": {
     "iopub.execute_input": "2021-10-11T12:40:15.707254Z",
     "iopub.status.busy": "2021-10-11T12:40:15.706245Z",
     "iopub.status.idle": "2021-10-11T12:40:15.710138Z",
     "shell.execute_reply": "2021-10-11T12:40:15.710690Z"
    },
    "papermill": {
     "duration": 0.14328,
     "end_time": "2021-10-11T12:40:15.710849",
     "exception": false,
     "start_time": "2021-10-11T12:40:15.567569",
     "status": "completed"
    },
    "tags": []
   },
   "outputs": [
    {
     "data": {
      "text/plain": [
       "(19158, 13)"
      ]
     },
     "execution_count": 49,
     "metadata": {},
     "output_type": "execute_result"
    }
   ],
   "source": [
    "train.shape"
   ]
  },
  {
   "cell_type": "markdown",
   "metadata": {
    "papermill": {
     "duration": 0.137938,
     "end_time": "2021-10-11T12:40:15.982935",
     "exception": false,
     "start_time": "2021-10-11T12:40:15.844997",
     "status": "completed"
    },
    "tags": []
   },
   "source": [
    "30% of candidates didn't mention if they had experience or not, so we will assume that these candidates have no experience."
   ]
  },
  {
   "cell_type": "code",
   "execution_count": 50,
   "metadata": {
    "execution": {
     "iopub.execute_input": "2021-10-11T12:40:16.258806Z",
     "iopub.status.busy": "2021-10-11T12:40:16.257907Z",
     "iopub.status.idle": "2021-10-11T12:40:16.260972Z",
     "shell.execute_reply": "2021-10-11T12:40:16.261588Z"
    },
    "papermill": {
     "duration": 0.14103,
     "end_time": "2021-10-11T12:40:16.261744",
     "exception": false,
     "start_time": "2021-10-11T12:40:16.120714",
     "status": "completed"
    },
    "tags": []
   },
   "outputs": [],
   "source": [
    "train['company_size'] = train['company_size'].fillna(8)"
   ]
  },
  {
   "cell_type": "markdown",
   "metadata": {
    "papermill": {
     "duration": 0.132403,
     "end_time": "2021-10-11T12:40:16.528454",
     "exception": false,
     "start_time": "2021-10-11T12:40:16.396051",
     "status": "completed"
    },
    "tags": []
   },
   "source": [
    "# Company type:"
   ]
  },
  {
   "cell_type": "code",
   "execution_count": 51,
   "metadata": {
    "execution": {
     "iopub.execute_input": "2021-10-11T12:40:16.798254Z",
     "iopub.status.busy": "2021-10-11T12:40:16.797563Z",
     "iopub.status.idle": "2021-10-11T12:40:16.950056Z",
     "shell.execute_reply": "2021-10-11T12:40:16.949376Z"
    },
    "papermill": {
     "duration": 0.288882,
     "end_time": "2021-10-11T12:40:16.950190",
     "exception": false,
     "start_time": "2021-10-11T12:40:16.661308",
     "status": "completed"
    },
    "tags": []
   },
   "outputs": [
    {
     "data": {
      "image/png": "[encoded data removed]",
      "text/plain": [
       "<Figure size 432x288 with 1 Axes>"
      ]
     },
     "metadata": {
      "needs_background": "light"
     },
     "output_type": "display_data"
    }
   ],
   "source": [
    "sns.countplot(y='company_type', data=train)\n",
    "plt.show()"
   ]
  },
  {
   "cell_type": "markdown",
   "metadata": {
    "papermill": {
     "duration": 0.134207,
     "end_time": "2021-10-11T12:40:17.220146",
     "exception": false,
     "start_time": "2021-10-11T12:40:17.085939",
     "status": "completed"
    },
    "tags": []
   },
   "source": [
    "#### Most of candidates work in Private limited company type (pvt ltd)"
   ]
  },
  {
   "cell_type": "code",
   "execution_count": 52,
   "metadata": {
    "execution": {
     "iopub.execute_input": "2021-10-11T12:40:17.499053Z",
     "iopub.status.busy": "2021-10-11T12:40:17.497996Z",
     "iopub.status.idle": "2021-10-11T12:40:17.502461Z",
     "shell.execute_reply": "2021-10-11T12:40:17.502974Z"
    },
    "papermill": {
     "duration": 0.149053,
     "end_time": "2021-10-11T12:40:17.503135",
     "exception": false,
     "start_time": "2021-10-11T12:40:17.354082",
     "status": "completed"
    },
    "tags": []
   },
   "outputs": [],
   "source": [
    "train['company_type'] = train['company_type'].map({\"Pvt Ltd\":0, \"Funded Startup\":1, \"Early Stage Startup\":2, \"Public Sector\":3, \"NGO\":4, \"Other\":5})"
   ]
  },
  {
   "cell_type": "code",
   "execution_count": 53,
   "metadata": {
    "execution": {
     "iopub.execute_input": "2021-10-11T12:40:17.779914Z",
     "iopub.status.busy": "2021-10-11T12:40:17.778890Z",
     "iopub.status.idle": "2021-10-11T12:40:18.092441Z",
     "shell.execute_reply": "2021-10-11T12:40:18.091843Z"
    },
    "papermill": {
     "duration": 0.454546,
     "end_time": "2021-10-11T12:40:18.092563",
     "exception": false,
     "start_time": "2021-10-11T12:40:17.638017",
     "status": "completed"
    },
    "tags": []
   },
   "outputs": [
    {
     "data": {
      "image/png": "[encoded data removed]",
      "text/plain": [
       "<Figure size 864x432 with 1 Axes>"
      ]
     },
     "metadata": {
      "needs_background": "light"
     },
     "output_type": "display_data"
    }
   ],
   "source": [
    "plt.figure(figsize=(12,6))\n",
    "sns.violinplot(x='company_size', y='company_type',data=train)\n",
    "plt.show()"
   ]
  },
  {
   "cell_type": "markdown",
   "metadata": {
    "papermill": {
     "duration": 0.135786,
     "end_time": "2021-10-11T12:40:18.364725",
     "exception": false,
     "start_time": "2021-10-11T12:40:18.228939",
     "status": "completed"
    },
    "tags": []
   },
   "source": [
    "#### Private limited companies are of different sizes, from less than ten people to +10 000! So we can't really find a relation between company size and type.\n",
    "#### We will fill missing values in company_type with 0(private limited comapany)."
   ]
  },
  {
   "cell_type": "code",
   "execution_count": 54,
   "metadata": {
    "execution": {
     "iopub.execute_input": "2021-10-11T12:40:18.645026Z",
     "iopub.status.busy": "2021-10-11T12:40:18.644114Z",
     "iopub.status.idle": "2021-10-11T12:40:18.648441Z",
     "shell.execute_reply": "2021-10-11T12:40:18.647751Z"
    },
    "papermill": {
     "duration": 0.145666,
     "end_time": "2021-10-11T12:40:18.648560",
     "exception": false,
     "start_time": "2021-10-11T12:40:18.502894",
     "status": "completed"
    },
    "tags": []
   },
   "outputs": [],
   "source": [
    "train['company_type'] = train['company_type'].fillna(0)"
   ]
  },
  {
   "cell_type": "markdown",
   "metadata": {
    "papermill": {
     "duration": 0.135524,
     "end_time": "2021-10-11T12:40:18.921378",
     "exception": false,
     "start_time": "2021-10-11T12:40:18.785854",
     "status": "completed"
    },
    "tags": []
   },
   "source": [
    "# Last new job:"
   ]
  },
  {
   "cell_type": "code",
   "execution_count": 55,
   "metadata": {
    "execution": {
     "iopub.execute_input": "2021-10-11T12:40:19.199401Z",
     "iopub.status.busy": "2021-10-11T12:40:19.198708Z",
     "iopub.status.idle": "2021-10-11T12:40:19.202807Z",
     "shell.execute_reply": "2021-10-11T12:40:19.202218Z"
    },
    "papermill": {
     "duration": 0.145871,
     "end_time": "2021-10-11T12:40:19.202921",
     "exception": false,
     "start_time": "2021-10-11T12:40:19.057050",
     "status": "completed"
    },
    "tags": []
   },
   "outputs": [
    {
     "data": {
      "text/plain": [
       "array(['1', '>4', 'never', '4', '3', '2', nan], dtype=object)"
      ]
     },
     "execution_count": 55,
     "metadata": {},
     "output_type": "execute_result"
    }
   ],
   "source": [
    "train['last_new_job'].unique()"
   ]
  },
  {
   "cell_type": "markdown",
   "metadata": {
    "papermill": {
     "duration": 0.134747,
     "end_time": "2021-10-11T12:40:19.473123",
     "exception": false,
     "start_time": "2021-10-11T12:40:19.338376",
     "status": "completed"
    },
    "tags": []
   },
   "source": [
    "We assume that missing values are from candidates that had no job."
   ]
  },
  {
   "cell_type": "code",
   "execution_count": 56,
   "metadata": {
    "execution": {
     "iopub.execute_input": "2021-10-11T12:40:19.752872Z",
     "iopub.status.busy": "2021-10-11T12:40:19.752227Z",
     "iopub.status.idle": "2021-10-11T12:40:19.755908Z",
     "shell.execute_reply": "2021-10-11T12:40:19.755145Z"
    },
    "papermill": {
     "duration": 0.147781,
     "end_time": "2021-10-11T12:40:19.756026",
     "exception": false,
     "start_time": "2021-10-11T12:40:19.608245",
     "status": "completed"
    },
    "tags": []
   },
   "outputs": [],
   "source": [
    "train['last_new_job'] = train['last_new_job'].fillna('never')"
   ]
  },
  {
   "cell_type": "code",
   "execution_count": 57,
   "metadata": {
    "execution": {
     "iopub.execute_input": "2021-10-11T12:40:20.042797Z",
     "iopub.status.busy": "2021-10-11T12:40:20.041799Z",
     "iopub.status.idle": "2021-10-11T12:40:20.044901Z",
     "shell.execute_reply": "2021-10-11T12:40:20.044235Z"
    },
    "papermill": {
     "duration": 0.148144,
     "end_time": "2021-10-11T12:40:20.045018",
     "exception": false,
     "start_time": "2021-10-11T12:40:19.896874",
     "status": "completed"
    },
    "tags": []
   },
   "outputs": [],
   "source": [
    "train['last_new_job'] = train['last_new_job'].map({\"1\":1, \">4\": 5, \"never\":0, \"4\":4, \"3\":3, \"2\":2})"
   ]
  },
  {
   "cell_type": "code",
   "execution_count": 58,
   "metadata": {
    "execution": {
     "iopub.execute_input": "2021-10-11T12:40:20.325858Z",
     "iopub.status.busy": "2021-10-11T12:40:20.324656Z",
     "iopub.status.idle": "2021-10-11T12:40:20.808977Z",
     "shell.execute_reply": "2021-10-11T12:40:20.808399Z"
    },
    "papermill": {
     "duration": 0.62848,
     "end_time": "2021-10-11T12:40:20.809115",
     "exception": false,
     "start_time": "2021-10-11T12:40:20.180635",
     "status": "completed"
    },
    "tags": []
   },
   "outputs": [
    {
     "data": {
      "image/png": "[encoded data removed]",
      "text/plain": [
       "<Figure size 360x360 with 1 Axes>"
      ]
     },
     "metadata": {
      "needs_background": "light"
     },
     "output_type": "display_data"
    }
   ],
   "source": [
    "g = sns.catplot(y=\"target\",x=\"last_new_job\",data=train, kind=\"bar\")"
   ]
  },
  {
   "cell_type": "markdown",
   "metadata": {
    "papermill": {
     "duration": 0.135817,
     "end_time": "2021-10-11T12:40:21.084449",
     "exception": false,
     "start_time": "2021-10-11T12:40:20.948632",
     "status": "completed"
    },
    "tags": []
   },
   "source": [
    "So we have taken care of all categorical data and missing values, lets take a look at what we have done so far:"
   ]
  },
  {
   "cell_type": "code",
   "execution_count": 59,
   "metadata": {
    "execution": {
     "iopub.execute_input": "2021-10-11T12:40:21.374352Z",
     "iopub.status.busy": "2021-10-11T12:40:21.373654Z",
     "iopub.status.idle": "2021-10-11T12:40:21.378672Z",
     "shell.execute_reply": "2021-10-11T12:40:21.377914Z"
    },
    "papermill": {
     "duration": 0.15725,
     "end_time": "2021-10-11T12:40:21.378803",
     "exception": false,
     "start_time": "2021-10-11T12:40:21.221553",
     "status": "completed"
    },
    "tags": []
   },
   "outputs": [
    {
     "data": {
      "text/html": [
       "<div>\n",
       "<style scoped>\n",
       "    .dataframe tbody tr th:only-of-type {\n",
       "        vertical-align: middle;\n",
       "    }\n",
       "\n",
       "    .dataframe tbody tr th {\n",
       "        vertical-align: top;\n",
       "    }\n",
       "\n",
       "    .dataframe thead th {\n",
       "        text-align: right;\n",
       "    }\n",
       "</style>\n",
       "<table border=\"1\" class=\"dataframe\">\n",
       "  <thead>\n",
       "    <tr style=\"text-align: right;\">\n",
       "      <th></th>\n",
       "      <th>enrollee_id</th>\n",
       "      <th>city</th>\n",
       "      <th>gender</th>\n",
       "      <th>relevent_experience</th>\n",
       "      <th>enrolled_university</th>\n",
       "      <th>education_level</th>\n",
       "      <th>major_discipline</th>\n",
       "      <th>experience</th>\n",
       "      <th>company_size</th>\n",
       "      <th>company_type</th>\n",
       "      <th>last_new_job</th>\n",
       "      <th>training_hours</th>\n",
       "      <th>target</th>\n",
       "    </tr>\n",
       "  </thead>\n",
       "  <tbody>\n",
       "    <tr>\n",
       "      <th>0</th>\n",
       "      <td>8949</td>\n",
       "      <td>103</td>\n",
       "      <td>1</td>\n",
       "      <td>1</td>\n",
       "      <td>2</td>\n",
       "      <td>0</td>\n",
       "      <td>5</td>\n",
       "      <td>20</td>\n",
       "      <td>8.0</td>\n",
       "      <td>0.0</td>\n",
       "      <td>1</td>\n",
       "      <td>36</td>\n",
       "      <td>1.0</td>\n",
       "    </tr>\n",
       "    <tr>\n",
       "      <th>1</th>\n",
       "      <td>29725</td>\n",
       "      <td>40</td>\n",
       "      <td>1</td>\n",
       "      <td>0</td>\n",
       "      <td>2</td>\n",
       "      <td>0</td>\n",
       "      <td>5</td>\n",
       "      <td>15</td>\n",
       "      <td>0.0</td>\n",
       "      <td>0.0</td>\n",
       "      <td>5</td>\n",
       "      <td>47</td>\n",
       "      <td>0.0</td>\n",
       "    </tr>\n",
       "    <tr>\n",
       "      <th>2</th>\n",
       "      <td>11561</td>\n",
       "      <td>21</td>\n",
       "      <td>2</td>\n",
       "      <td>0</td>\n",
       "      <td>0</td>\n",
       "      <td>0</td>\n",
       "      <td>5</td>\n",
       "      <td>5</td>\n",
       "      <td>8.0</td>\n",
       "      <td>0.0</td>\n",
       "      <td>0</td>\n",
       "      <td>83</td>\n",
       "      <td>0.0</td>\n",
       "    </tr>\n",
       "    <tr>\n",
       "      <th>3</th>\n",
       "      <td>33241</td>\n",
       "      <td>115</td>\n",
       "      <td>2</td>\n",
       "      <td>0</td>\n",
       "      <td>2</td>\n",
       "      <td>0</td>\n",
       "      <td>1</td>\n",
       "      <td>1</td>\n",
       "      <td>8.0</td>\n",
       "      <td>0.0</td>\n",
       "      <td>0</td>\n",
       "      <td>52</td>\n",
       "      <td>1.0</td>\n",
       "    </tr>\n",
       "    <tr>\n",
       "      <th>4</th>\n",
       "      <td>666</td>\n",
       "      <td>-94</td>\n",
       "      <td>1</td>\n",
       "      <td>1</td>\n",
       "      <td>2</td>\n",
       "      <td>2</td>\n",
       "      <td>5</td>\n",
       "      <td>20</td>\n",
       "      <td>0.0</td>\n",
       "      <td>1.0</td>\n",
       "      <td>4</td>\n",
       "      <td>8</td>\n",
       "      <td>0.0</td>\n",
       "    </tr>\n",
       "  </tbody>\n",
       "</table>\n",
       "</div>"
      ],
      "text/plain": [
       "   enrollee_id  city  gender  relevent_experience  enrolled_university  \\\n",
       "0         8949   103       1                    1                    2   \n",
       "1        29725    40       1                    0                    2   \n",
       "2        11561    21       2                    0                    0   \n",
       "3        33241   115       2                    0                    2   \n",
       "4          666   -94       1                    1                    2   \n",
       "\n",
       "   education_level  major_discipline  experience  company_size  company_type  \\\n",
       "0                0                 5          20           8.0           0.0   \n",
       "1                0                 5          15           0.0           0.0   \n",
       "2                0                 5           5           8.0           0.0   \n",
       "3                0                 1           1           8.0           0.0   \n",
       "4                2                 5          20           0.0           1.0   \n",
       "\n",
       "   last_new_job  training_hours  target  \n",
       "0             1              36     1.0  \n",
       "1             5              47     0.0  \n",
       "2             0              83     0.0  \n",
       "3             0              52     1.0  \n",
       "4             4               8     0.0  "
      ]
     },
     "execution_count": 59,
     "metadata": {},
     "output_type": "execute_result"
    }
   ],
   "source": [
    "train.head()"
   ]
  },
  {
   "cell_type": "code",
   "execution_count": 60,
   "metadata": {
    "execution": {
     "iopub.execute_input": "2021-10-11T12:40:21.662461Z",
     "iopub.status.busy": "2021-10-11T12:40:21.661733Z",
     "iopub.status.idle": "2021-10-11T12:40:21.666680Z",
     "shell.execute_reply": "2021-10-11T12:40:21.666015Z"
    },
    "papermill": {
     "duration": 0.149124,
     "end_time": "2021-10-11T12:40:21.666805",
     "exception": false,
     "start_time": "2021-10-11T12:40:21.517681",
     "status": "completed"
    },
    "tags": []
   },
   "outputs": [
    {
     "data": {
      "text/plain": [
       "enrollee_id              int64\n",
       "city                      int8\n",
       "gender                   int64\n",
       "relevent_experience      int64\n",
       "enrolled_university      int64\n",
       "education_level          int64\n",
       "major_discipline         int64\n",
       "experience               int64\n",
       "company_size           float64\n",
       "company_type           float64\n",
       "last_new_job             int64\n",
       "training_hours           int64\n",
       "target                 float64\n",
       "dtype: object"
      ]
     },
     "execution_count": 60,
     "metadata": {},
     "output_type": "execute_result"
    }
   ],
   "source": [
    "train.dtypes"
   ]
  },
  {
   "cell_type": "markdown",
   "metadata": {
    "papermill": {
     "duration": 0.138197,
     "end_time": "2021-10-11T12:40:21.946374",
     "exception": false,
     "start_time": "2021-10-11T12:40:21.808177",
     "status": "completed"
    },
    "tags": []
   },
   "source": [
    "#### pre modeling steps:"
   ]
  },
  {
   "cell_type": "code",
   "execution_count": 61,
   "metadata": {
    "execution": {
     "iopub.execute_input": "2021-10-11T12:40:22.230036Z",
     "iopub.status.busy": "2021-10-11T12:40:22.229340Z",
     "iopub.status.idle": "2021-10-11T12:40:22.233188Z",
     "shell.execute_reply": "2021-10-11T12:40:22.232600Z"
    },
    "papermill": {
     "duration": 0.146591,
     "end_time": "2021-10-11T12:40:22.233307",
     "exception": false,
     "start_time": "2021-10-11T12:40:22.086716",
     "status": "completed"
    },
    "tags": []
   },
   "outputs": [],
   "source": [
    "pred = train['target']"
   ]
  },
  {
   "cell_type": "code",
   "execution_count": 62,
   "metadata": {
    "execution": {
     "iopub.execute_input": "2021-10-11T12:40:22.519850Z",
     "iopub.status.busy": "2021-10-11T12:40:22.519064Z",
     "iopub.status.idle": "2021-10-11T12:40:22.522374Z",
     "shell.execute_reply": "2021-10-11T12:40:22.521747Z"
    },
    "papermill": {
     "duration": 0.148449,
     "end_time": "2021-10-11T12:40:22.522501",
     "exception": false,
     "start_time": "2021-10-11T12:40:22.374052",
     "status": "completed"
    },
    "tags": []
   },
   "outputs": [],
   "source": [
    "train = train.drop(labels='target', axis=1)"
   ]
  },
  {
   "cell_type": "code",
   "execution_count": 63,
   "metadata": {
    "execution": {
     "iopub.execute_input": "2021-10-11T12:40:22.809037Z",
     "iopub.status.busy": "2021-10-11T12:40:22.808326Z",
     "iopub.status.idle": "2021-10-11T12:40:22.810559Z",
     "shell.execute_reply": "2021-10-11T12:40:22.811209Z"
    },
    "papermill": {
     "duration": 0.148541,
     "end_time": "2021-10-11T12:40:22.811359",
     "exception": false,
     "start_time": "2021-10-11T12:40:22.662818",
     "status": "completed"
    },
    "tags": []
   },
   "outputs": [],
   "source": [
    "train = train.astype(np.int8)"
   ]
  },
  {
   "cell_type": "markdown",
   "metadata": {
    "papermill": {
     "duration": 0.139162,
     "end_time": "2021-10-11T12:40:23.089439",
     "exception": false,
     "start_time": "2021-10-11T12:40:22.950277",
     "status": "completed"
    },
    "tags": []
   },
   "source": [
    "# Models testing:"
   ]
  },
  {
   "cell_type": "code",
   "execution_count": 1,
   "metadata": {
    "execution": {
     "iopub.execute_input": "2021-10-11T12:40:23.369481Z",
     "iopub.status.busy": "2021-10-11T12:40:23.368809Z",
     "iopub.status.idle": "2021-10-11T12:40:24.544305Z",
     "shell.execute_reply": "2021-10-11T12:40:24.544935Z"
    },
    "papermill": {
     "duration": 1.317107,
     "end_time": "2021-10-11T12:40:24.545103",
     "exception": false,
     "start_time": "2021-10-11T12:40:23.227996",
     "status": "completed"
    },
    "tags": []
   },
   "outputs": [],
   "source": [
    "from sklearn.pipeline import Pipeline\n",
    "from sklearn import svm\n",
    "from sklearn.linear_model import LogisticRegression\n",
    "from sklearn.ensemble import RandomForestClassifier, AdaBoostClassifier\n",
    "import xgboost as xgb\n",
    "from sklearn.neighbors import KNeighborsClassifier\n",
    "from sklearn.ensemble import GradientBoostingClassifier\n",
    "from sklearn import metrics\n",
    "from sklearn.model_selection import KFold, cross_val_score, train_test_split"
   ]
  },
  {
   "cell_type": "markdown",
   "metadata": {
    "papermill": {
     "duration": 0.153391,
     "end_time": "2021-10-11T12:40:24.838226",
     "exception": false,
     "start_time": "2021-10-11T12:40:24.684835",
     "status": "completed"
    },
    "tags": []
   },
   "source": [
    "Lets try different models and see what works best:"
   ]
  },
  {
   "cell_type": "code",
   "execution_count": 65,
   "metadata": {
    "execution": {
     "iopub.execute_input": "2021-10-11T12:40:25.136540Z",
     "iopub.status.busy": "2021-10-11T12:40:25.135894Z",
     "iopub.status.idle": "2021-10-11T12:40:25.142909Z",
     "shell.execute_reply": "2021-10-11T12:40:25.143410Z"
    },
    "papermill": {
     "duration": 0.148242,
     "end_time": "2021-10-11T12:40:25.143567",
     "exception": false,
     "start_time": "2021-10-11T12:40:24.995325",
     "status": "completed"
    },
    "tags": []
   },
   "outputs": [],
   "source": [
    "KFold_Score = pd.DataFrame()\n",
    "classifiers = ['Linear SVM', 'LogisticRegression', 'RandomForestClassifier', 'XGBoostClassifier','GradientBoostingClassifier']\n",
    "models = [svm.SVC(kernel='linear'),\n",
    "          LogisticRegression(max_iter = 1000),\n",
    "          RandomForestClassifier(n_estimators=200, random_state=0),\n",
    "          xgb.XGBClassifier(n_estimators=100),\n",
    "          GradientBoostingClassifier(random_state=0)\n",
    "         ]"
   ]
  },
  {
   "cell_type": "code",
   "execution_count": null,
   "metadata": {},
   "outputs": [],
   "source": [
    "perf = []\n",
    "for model in models:\n",
    "    model.fit(train,test)\n",
    "    perf.append(accurcacy score)"
   ]
  },
  {
   "cell_type": "markdown",
   "metadata": {
    "papermill": {
     "duration": 0.139512,
     "end_time": "2021-10-11T12:40:26.273355",
     "exception": false,
     "start_time": "2021-10-11T12:40:26.133843",
     "status": "completed"
    },
    "tags": []
   },
   "source": [
    "# What is Gradient Boosting?"
   ]
  },
  {
   "cell_type": "markdown",
   "metadata": {
    "papermill": {
     "duration": 0.139093,
     "end_time": "2021-10-11T12:40:26.553536",
     "exception": false,
     "start_time": "2021-10-11T12:40:26.414443",
     "status": "completed"
    },
    "tags": []
   },
   "source": [
    "## Boosting:"
   ]
  },
  {
   "cell_type": "markdown",
   "metadata": {
    "papermill": {
     "duration": 0.142064,
     "end_time": "2021-10-11T12:40:26.834405",
     "exception": false,
     "start_time": "2021-10-11T12:40:26.692341",
     "status": "completed"
    },
    "tags": []
   },
   "source": [
    "**Ensemble learning techniques:** They combine the predictions of multiple machine learning models.\n",
    "\n",
    "**Boosting:** Boosting algorithms play a crucial role in dealing with bias variance trade-off.  Unlike bagging algorithms, which only controls for high variance in a model, boosting controls both the aspects (bias & variance), and is considered to be more effective.\n",
    "Boosting is an ensemble learning technique.\n",
    "\n",
    "Boosting is a sequential technique which works on the principle of ensemble. It combines a set of weak learners and delivers improved prediction accuracy. At any instant t, the model outcomes are weighed based on the outcomes of previous instant t-1. The outcomes predicted correctly are given a lower weight and the ones miss-classified are weighted higher.\n"
   ]
  },
  {
   "cell_type": "markdown",
   "metadata": {
    "papermill": {
     "duration": 0.140119,
     "end_time": "2021-10-11T12:40:27.114823",
     "exception": false,
     "start_time": "2021-10-11T12:40:26.974704",
     "status": "completed"
    },
    "tags": []
   },
   "source": [
    "**Visually:**"
   ]
  },
  {
   "attachments": {
    "db48545e-aa56-4fdd-90ca-edcfa2fe1433.png": {
     "image/png": "[encoded data removed]"
    }
   },
   "cell_type": "markdown",
   "metadata": {
    "papermill": {
     "duration": 0.138672,
     "end_time": "2021-10-11T12:40:27.392733",
     "exception": false,
     "start_time": "2021-10-11T12:40:27.254061",
     "status": "completed"
    },
    "tags": []
   },
   "source": [
    "![image.png](attachment:db48545e-aa56-4fdd-90ca-edcfa2fe1433.png)"
   ]
  },
  {
   "cell_type": "markdown",
   "metadata": {
    "papermill": {
     "duration": 0.140264,
     "end_time": "2021-10-11T12:40:27.673326",
     "exception": false,
     "start_time": "2021-10-11T12:40:27.533062",
     "status": "completed"
    },
    "tags": []
   },
   "source": [
    "<a href=\"https://ibb.co/PgstW8k\"><img src=\"https://i.ibb.co/WfNsz1C/boosting.png\" alt=\"boosting\" border=\"0\"></a>"
   ]
  },
  {
   "cell_type": "markdown",
   "metadata": {
    "papermill": {
     "duration": 0.141215,
     "end_time": "2021-10-11T12:40:27.954893",
     "exception": false,
     "start_time": "2021-10-11T12:40:27.813678",
     "status": "completed"
    },
    "tags": []
   },
   "source": [
    "## Gradient Boosting:"
   ]
  },
  {
   "attachments": {
    "a8ca723c-a80b-4da7-b172-f57b95643249.png": {
     "image/png": "[encoded data removed]"
    }
   },
   "cell_type": "markdown",
   "metadata": {
    "papermill": {
     "duration": 0.138767,
     "end_time": "2021-10-11T12:40:28.234441",
     "exception": false,
     "start_time": "2021-10-11T12:40:28.095674",
     "status": "completed"
    },
    "tags": []
   },
   "source": [
    "![image.png](attachment:a8ca723c-a80b-4da7-b172-f57b95643249.png)"
   ]
  },
  {
   "cell_type": "markdown",
   "metadata": {
    "papermill": {
     "duration": 0.140906,
     "end_time": "2021-10-11T12:40:28.521244",
     "exception": false,
     "start_time": "2021-10-11T12:40:28.380338",
     "status": "completed"
    },
    "tags": []
   },
   "source": [
    "The overall parameters of gradient boosting can be devided into three categories:\n",
    "* Tree-Specific Parameters: These affect each individual tree in the model.\n",
    "* Boosting Parameters: These affect the boosting operation in the model.\n",
    "* Miscellaneous Parameters: Other parameters for overall functioning."
   ]
  },
  {
   "cell_type": "markdown",
   "metadata": {
    "papermill": {
     "duration": 0.140441,
     "end_time": "2021-10-11T12:40:28.801746",
     "exception": false,
     "start_time": "2021-10-11T12:40:28.661305",
     "status": "completed"
    },
    "tags": []
   },
   "source": [
    "### Tree-specific parameters"
   ]
  },
  {
   "cell_type": "markdown",
   "metadata": {
    "papermill": {
     "duration": 0.138508,
     "end_time": "2021-10-11T12:40:29.082166",
     "exception": false,
     "start_time": "2021-10-11T12:40:28.943658",
     "status": "completed"
    },
    "tags": []
   },
   "source": [
    "### Boosting parameters:"
   ]
  },
  {
   "cell_type": "markdown",
   "metadata": {
    "papermill": {
     "duration": 0.13876,
     "end_time": "2021-10-11T12:40:29.360641",
     "exception": false,
     "start_time": "2021-10-11T12:40:29.221881",
     "status": "completed"
    },
    "tags": []
   },
   "source": [
    "* learning_rate\n",
    "* n_estimators\n",
    "* subsample"
   ]
  },
  {
   "cell_type": "markdown",
   "metadata": {
    "papermill": {
     "duration": 0.138198,
     "end_time": "2021-10-11T12:40:30.481275",
     "exception": false,
     "start_time": "2021-10-11T12:40:30.343077",
     "status": "completed"
    },
    "tags": []
   },
   "source": [
    "# Hyperparameter Tuning using GridSearchCV:"
   ]
  },
  {
   "cell_type": "code",
   "execution_count": 68,
   "metadata": {
    "execution": {
     "iopub.execute_input": "2021-10-11T12:40:31.887733Z",
     "iopub.status.busy": "2021-10-11T12:40:31.886712Z",
     "iopub.status.idle": "2021-10-11T12:40:31.895079Z",
     "shell.execute_reply": "2021-10-11T12:40:31.895642Z"
    },
    "papermill": {
     "duration": 0.154053,
     "end_time": "2021-10-11T12:40:31.895793",
     "exception": false,
     "start_time": "2021-10-11T12:40:31.741740",
     "status": "completed"
    },
    "tags": []
   },
   "outputs": [],
   "source": [
    "X_train, X_test, y_train, y_test = train_test_split(train, pred, test_size=0.3, random_state=42)"
   ]
  },
  {
   "cell_type": "markdown",
   "metadata": {
    "papermill": {
     "duration": 0.138377,
     "end_time": "2021-10-11T12:40:32.175773",
     "exception": false,
     "start_time": "2021-10-11T12:40:32.037396",
     "status": "completed"
    },
    "tags": []
   },
   "source": [
    "Lets initialize our model with these parameters:"
   ]
  },
  {
   "cell_type": "code",
   "execution_count": 69,
   "metadata": {
    "execution": {
     "iopub.execute_input": "2021-10-11T12:40:32.461279Z",
     "iopub.status.busy": "2021-10-11T12:40:32.460235Z",
     "iopub.status.idle": "2021-10-11T12:40:32.467575Z",
     "shell.execute_reply": "2021-10-11T12:40:32.468137Z"
    },
    "papermill": {
     "duration": 0.150769,
     "end_time": "2021-10-11T12:40:32.468305",
     "exception": false,
     "start_time": "2021-10-11T12:40:32.317536",
     "status": "completed"
    },
    "tags": []
   },
   "outputs": [
    {
     "data": {
      "text/plain": [
       "8253     0.0\n",
       "10067    0.0\n",
       "1851     0.0\n",
       "4139     1.0\n",
       "2473     0.0\n",
       "Name: target, dtype: float64"
      ]
     },
     "execution_count": 69,
     "metadata": {},
     "output_type": "execute_result"
    }
   ],
   "source": [
    "y_train.head()"
   ]
  },
  {
   "cell_type": "code",
   "execution_count": null,
   "metadata": {},
   "outputs": [],
   "source": []
  },
  {
   "cell_type": "code",
   "execution_count": 70,
   "metadata": {
    "execution": {
     "iopub.execute_input": "2021-10-11T12:40:32.763042Z",
     "iopub.status.busy": "2021-10-11T12:40:32.761961Z",
     "iopub.status.idle": "2021-10-11T12:40:32.767342Z",
     "shell.execute_reply": "2021-10-11T12:40:32.767809Z"
    },
    "papermill": {
     "duration": 0.154011,
     "end_time": "2021-10-11T12:40:32.767976",
     "exception": false,
     "start_time": "2021-10-11T12:40:32.613965",
     "status": "completed"
    },
    "tags": []
   },
   "outputs": [],
   "source": [
    "mymodel = GradientBoostingClassifier(learning_rate=0.1, min_samples_split=500,min_samples_leaf=50,max_depth=8,max_features='sqrt',subsample=0.8,random_state=10)"
   ]
  },
  {
   "cell_type": "markdown",
   "metadata": {
    "papermill": {
     "duration": 0.147041,
     "end_time": "2021-10-11T12:40:33.060079",
     "exception": false,
     "start_time": "2021-10-11T12:40:32.913038",
     "status": "completed"
    },
    "tags": []
   },
   "source": [
    "We shouldn't use the enrollee_id since it is unique for each candidate."
   ]
  },
  {
   "cell_type": "code",
   "execution_count": 71,
   "metadata": {
    "execution": {
     "iopub.execute_input": "2021-10-11T12:40:33.345715Z",
     "iopub.status.busy": "2021-10-11T12:40:33.344668Z",
     "iopub.status.idle": "2021-10-11T12:40:33.351139Z",
     "shell.execute_reply": "2021-10-11T12:40:33.350467Z"
    },
    "papermill": {
     "duration": 0.150048,
     "end_time": "2021-10-11T12:40:33.351299",
     "exception": false,
     "start_time": "2021-10-11T12:40:33.201251",
     "status": "completed"
    },
    "tags": []
   },
   "outputs": [],
   "source": [
    "predictors = [x for x in X_train.columns if x not in [\"enrollee_id\"]]"
   ]
  },
  {
   "cell_type": "code",
   "execution_count": 72,
   "metadata": {
    "execution": {
     "iopub.execute_input": "2021-10-11T12:40:33.637447Z",
     "iopub.status.busy": "2021-10-11T12:40:33.636783Z",
     "iopub.status.idle": "2021-10-11T12:40:33.642997Z",
     "shell.execute_reply": "2021-10-11T12:40:33.642270Z"
    },
    "papermill": {
     "duration": 0.150803,
     "end_time": "2021-10-11T12:40:33.643122",
     "exception": false,
     "start_time": "2021-10-11T12:40:33.492319",
     "status": "completed"
    },
    "tags": []
   },
   "outputs": [
    {
     "data": {
      "text/plain": [
       "['city',\n",
       " 'gender',\n",
       " 'relevent_experience',\n",
       " 'enrolled_university',\n",
       " 'education_level',\n",
       " 'major_discipline',\n",
       " 'experience',\n",
       " 'company_size',\n",
       " 'company_type',\n",
       " 'last_new_job',\n",
       " 'training_hours']"
      ]
     },
     "execution_count": 72,
     "metadata": {},
     "output_type": "execute_result"
    }
   ],
   "source": [
    "predictors"
   ]
  },
  {
   "cell_type": "markdown",
   "metadata": {
    "papermill": {
     "duration": 0.143777,
     "end_time": "2021-10-11T12:40:33.928146",
     "exception": false,
     "start_time": "2021-10-11T12:40:33.784369",
     "status": "completed"
    },
    "tags": []
   },
   "source": [
    "First we have to look for an optimal number of estimators:"
   ]
  },
  {
   "cell_type": "code",
   "execution_count": 73,
   "metadata": {
    "execution": {
     "iopub.execute_input": "2021-10-11T12:40:34.219916Z",
     "iopub.status.busy": "2021-10-11T12:40:34.219237Z",
     "iopub.status.idle": "2021-10-11T12:40:34.221486Z",
     "shell.execute_reply": "2021-10-11T12:40:34.221989Z"
    },
    "papermill": {
     "duration": 0.149368,
     "end_time": "2021-10-11T12:40:34.222129",
     "exception": false,
     "start_time": "2021-10-11T12:40:34.072761",
     "status": "completed"
    },
    "tags": []
   },
   "outputs": [],
   "source": [
    "param_test1 = {'n_estimators':range(10,100,10)}"
   ]
  },
  {
   "cell_type": "markdown",
   "metadata": {
    "papermill": {
     "duration": 0.140128,
     "end_time": "2021-10-11T12:40:34.502785",
     "exception": false,
     "start_time": "2021-10-11T12:40:34.362657",
     "status": "completed"
    },
    "tags": []
   },
   "source": [
    "Grid search:"
   ]
  },
  {
   "cell_type": "code",
   "execution_count": 74,
   "metadata": {
    "execution": {
     "iopub.execute_input": "2021-10-11T12:40:34.794324Z",
     "iopub.status.busy": "2021-10-11T12:40:34.793559Z",
     "iopub.status.idle": "2021-10-11T12:40:45.948142Z",
     "shell.execute_reply": "2021-10-11T12:40:45.947594Z"
    },
    "papermill": {
     "duration": 11.302919,
     "end_time": "2021-10-11T12:40:45.948274",
     "exception": false,
     "start_time": "2021-10-11T12:40:34.645355",
     "status": "completed"
    },
    "tags": []
   },
   "outputs": [
    {
     "name": "stderr",
     "output_type": "stream",
     "text": [
      "/opt/conda/lib/python3.7/site-packages/sklearn/model_selection/_search.py:849: FutureWarning: The parameter 'iid' is deprecated in 0.22 and will be removed in 0.24.\n",
      "  \"removed in 0.24.\", FutureWarning\n"
     ]
    },
    {
     "data": {
      "text/plain": [
       "({'n_estimators': 90}, 0.7961586105490686)"
      ]
     },
     "execution_count": 74,
     "metadata": {},
     "output_type": "execute_result"
    }
   ],
   "source": [
    "from sklearn.model_selection import GridSearchCV\n",
    "CV_gbc = GridSearchCV(estimator=mymodel, param_grid=param_test1, scoring='roc_auc',n_jobs=4,iid=False, cv= 5)\n",
    "CV_gbc.fit(X_train[predictors],y_train)\n",
    "CV_gbc.best_params_, CV_gbc.best_score_"
   ]
  },
  {
   "cell_type": "code",
   "execution_count": 75,
   "metadata": {
    "execution": {
     "iopub.execute_input": "2021-10-11T12:40:46.246125Z",
     "iopub.status.busy": "2021-10-11T12:40:46.245047Z",
     "iopub.status.idle": "2021-10-11T12:40:46.250275Z",
     "shell.execute_reply": "2021-10-11T12:40:46.249594Z"
    },
    "papermill": {
     "duration": 0.157844,
     "end_time": "2021-10-11T12:40:46.250396",
     "exception": false,
     "start_time": "2021-10-11T12:40:46.092552",
     "status": "completed"
    },
    "tags": []
   },
   "outputs": [
    {
     "data": {
      "text/plain": [
       "{'mean_fit_time': array([0.12807016, 0.25618553, 0.38279371, 0.51112766, 0.65463662,\n",
       "        0.8418519 , 0.90280814, 1.0173522 , 1.06754975]),\n",
       " 'std_fit_time': array([0.00330461, 0.00432843, 0.00527202, 0.00879243, 0.02261958,\n",
       "        0.03673324, 0.02646809, 0.0027511 , 0.12465026]),\n",
       " 'mean_score_time': array([0.00880356, 0.0107193 , 0.01217999, 0.01351624, 0.01493497,\n",
       "        0.01927524, 0.01759143, 0.01896019, 0.01838517]),\n",
       " 'std_score_time': array([0.00021762, 0.00048003, 0.00041986, 0.00050246, 0.00035513,\n",
       "        0.00292856, 0.00040641, 0.00043053, 0.00277888]),\n",
       " 'param_n_estimators': masked_array(data=[10, 20, 30, 40, 50, 60, 70, 80, 90],\n",
       "              mask=[False, False, False, False, False, False, False, False,\n",
       "                    False],\n",
       "        fill_value='?',\n",
       "             dtype=object),\n",
       " 'params': [{'n_estimators': 10},\n",
       "  {'n_estimators': 20},\n",
       "  {'n_estimators': 30},\n",
       "  {'n_estimators': 40},\n",
       "  {'n_estimators': 50},\n",
       "  {'n_estimators': 60},\n",
       "  {'n_estimators': 70},\n",
       "  {'n_estimators': 80},\n",
       "  {'n_estimators': 90}],\n",
       " 'split0_test_score': array([0.78840569, 0.78998065, 0.7957724 , 0.79861776, 0.80170543,\n",
       "        0.80327032, 0.80333817, 0.80485125, 0.80583052]),\n",
       " 'split1_test_score': array([0.77682519, 0.77878623, 0.78391338, 0.78530837, 0.789849  ,\n",
       "        0.791619  , 0.79424514, 0.7940783 , 0.79516682]),\n",
       " 'split2_test_score': array([0.77362184, 0.77693877, 0.77923198, 0.78120047, 0.78330749,\n",
       "        0.78448687, 0.7849654 , 0.7872169 , 0.78765894]),\n",
       " 'split3_test_score': array([0.79197129, 0.79793298, 0.80397734, 0.8056669 , 0.80753261,\n",
       "        0.80722054, 0.80717027, 0.80661837, 0.80625752]),\n",
       " 'split4_test_score': array([0.77499561, 0.7790335 , 0.78181977, 0.78348177, 0.7846686 ,\n",
       "        0.78548675, 0.7855225 , 0.78571987, 0.78587926]),\n",
       " 'mean_test_score': array([0.78116392, 0.78453442, 0.78894297, 0.79085506, 0.79341262,\n",
       "        0.7944167 , 0.79504829, 0.79569694, 0.79615861]),\n",
       " 'std_test_score': array([0.00752327, 0.00812624, 0.0094129 , 0.00957071, 0.00958557,\n",
       "        0.0092574 , 0.00904118, 0.00868507, 0.00865363]),\n",
       " 'rank_test_score': array([9, 8, 7, 6, 5, 4, 3, 2, 1], dtype=int32)}"
      ]
     },
     "execution_count": 75,
     "metadata": {},
     "output_type": "execute_result"
    }
   ],
   "source": [
    "CV_gbc.cv_results_"
   ]
  },
  {
   "cell_type": "markdown",
   "metadata": {
    "papermill": {
     "duration": 0.154257,
     "end_time": "2021-10-11T12:40:46.843128",
     "exception": false,
     "start_time": "2021-10-11T12:40:46.688871",
     "status": "completed"
    },
    "tags": []
   },
   "source": [
    "As you can see that here we got 90 as the optimal estimators for 0.1 learning rate, it is close to 100 so we will increase the learning rate to 0.2. (I tried working with number of estimators as 90 but when I increased the learning rate I got slightly better results, I won't include the whole process because it will take a lot of time to run)"
   ]
  },
  {
   "cell_type": "code",
   "execution_count": 77,
   "metadata": {
    "execution": {
     "iopub.execute_input": "2021-10-11T12:40:47.152532Z",
     "iopub.status.busy": "2021-10-11T12:40:47.151874Z",
     "iopub.status.idle": "2021-10-11T12:40:47.154383Z",
     "shell.execute_reply": "2021-10-11T12:40:47.154845Z"
    },
    "papermill": {
     "duration": 0.152763,
     "end_time": "2021-10-11T12:40:47.154998",
     "exception": false,
     "start_time": "2021-10-11T12:40:47.002235",
     "status": "completed"
    },
    "tags": []
   },
   "outputs": [],
   "source": [
    "mymodel0 = GradientBoostingClassifier(learning_rate=0.2, min_samples_split=500,min_samples_leaf=50,max_depth=8,max_features='sqrt',subsample=0.8,random_state=10)"
   ]
  },
  {
   "cell_type": "code",
   "execution_count": 78,
   "metadata": {
    "execution": {
     "iopub.execute_input": "2021-10-11T12:40:47.444828Z",
     "iopub.status.busy": "2021-10-11T12:40:47.444133Z",
     "iopub.status.idle": "2021-10-11T12:40:55.612921Z",
     "shell.execute_reply": "2021-10-11T12:40:55.612241Z"
    },
    "papermill": {
     "duration": 8.315435,
     "end_time": "2021-10-11T12:40:55.613052",
     "exception": false,
     "start_time": "2021-10-11T12:40:47.297617",
     "status": "completed"
    },
    "tags": []
   },
   "outputs": [
    {
     "name": "stderr",
     "output_type": "stream",
     "text": [
      "/opt/conda/lib/python3.7/site-packages/sklearn/model_selection/_search.py:849: FutureWarning: The parameter 'iid' is deprecated in 0.22 and will be removed in 0.24.\n",
      "  \"removed in 0.24.\", FutureWarning\n"
     ]
    },
    {
     "data": {
      "text/plain": [
       "({'n_estimators': 60}, 0.7950502480486514)"
      ]
     },
     "execution_count": 78,
     "metadata": {},
     "output_type": "execute_result"
    }
   ],
   "source": [
    "from sklearn.model_selection import GridSearchCV\n",
    "CV_gbc0 = GridSearchCV(estimator=mymodel0, param_grid=param_test1, scoring='roc_auc',n_jobs=4,iid=False, cv= 5)\n",
    "CV_gbc0.fit(X_train[predictors],y_train)\n",
    "CV_gbc0.best_params_, CV_gbc0.best_score_"
   ]
  },
  {
   "cell_type": "markdown",
   "metadata": {
    "papermill": {
     "duration": 0.148313,
     "end_time": "2021-10-11T12:40:55.904983",
     "exception": false,
     "start_time": "2021-10-11T12:40:55.756670",
     "status": "completed"
    },
    "tags": []
   },
   "source": [
    "The next step is to find the max_depth and min_samples_split."
   ]
  },
  {
   "cell_type": "code",
   "execution_count": 79,
   "metadata": {
    "execution": {
     "iopub.execute_input": "2021-10-11T12:40:56.212675Z",
     "iopub.status.busy": "2021-10-11T12:40:56.211940Z",
     "iopub.status.idle": "2021-10-11T12:41:11.653178Z",
     "shell.execute_reply": "2021-10-11T12:41:11.653724Z"
    },
    "papermill": {
     "duration": 15.599818,
     "end_time": "2021-10-11T12:41:11.653872",
     "exception": false,
     "start_time": "2021-10-11T12:40:56.054054",
     "status": "completed"
    },
    "tags": []
   },
   "outputs": [
    {
     "name": "stderr",
     "output_type": "stream",
     "text": [
      "/opt/conda/lib/python3.7/site-packages/sklearn/model_selection/_search.py:849: FutureWarning: The parameter 'iid' is deprecated in 0.22 and will be removed in 0.24.\n",
      "  \"removed in 0.24.\", FutureWarning\n"
     ]
    },
    {
     "data": {
      "text/plain": [
       "({'max_depth': 6, 'min_samples_split': 600}, 0.7974778057505194)"
      ]
     },
     "execution_count": 79,
     "metadata": {},
     "output_type": "execute_result"
    }
   ],
   "source": [
    "param_test2 = {'max_depth':range(5,9,1), 'min_samples_split':range(400,800,100)}\n",
    "gbc = GridSearchCV(estimator = GradientBoostingClassifier(learning_rate=0.2, n_estimators=60, max_features='sqrt', subsample=0.8, random_state=10), \n",
    "param_grid = param_test2, scoring='roc_auc',n_jobs=4,iid=False, cv=5)\n",
    "gbc.fit(X_train[predictors],y_train)\n",
    "gbc.best_params_, gbc.best_score_"
   ]
  },
  {
   "cell_type": "markdown",
   "metadata": {
    "papermill": {
     "duration": 0.148787,
     "end_time": "2021-10-11T12:41:11.950833",
     "exception": false,
     "start_time": "2021-10-11T12:41:11.802046",
     "status": "completed"
    },
    "tags": []
   },
   "source": [
    "So we got a maximum depth of 6 and minimum samples split is 700."
   ]
  },
  {
   "cell_type": "markdown",
   "metadata": {
    "papermill": {
     "duration": 0.146295,
     "end_time": "2021-10-11T12:41:12.242994",
     "exception": false,
     "start_time": "2021-10-11T12:41:12.096699",
     "status": "completed"
    },
    "tags": []
   },
   "source": [
    "min_samples_leaf:"
   ]
  },
  {
   "cell_type": "code",
   "execution_count": 80,
   "metadata": {
    "execution": {
     "iopub.execute_input": "2021-10-11T12:41:12.538985Z",
     "iopub.status.busy": "2021-10-11T12:41:12.538301Z",
     "iopub.status.idle": "2021-10-11T12:41:46.878481Z",
     "shell.execute_reply": "2021-10-11T12:41:46.877858Z"
    },
    "papermill": {
     "duration": 34.488033,
     "end_time": "2021-10-11T12:41:46.878607",
     "exception": false,
     "start_time": "2021-10-11T12:41:12.390574",
     "status": "completed"
    },
    "tags": []
   },
   "outputs": [
    {
     "name": "stderr",
     "output_type": "stream",
     "text": [
      "/opt/conda/lib/python3.7/site-packages/sklearn/model_selection/_search.py:849: FutureWarning: The parameter 'iid' is deprecated in 0.22 and will be removed in 0.24.\n",
      "  \"removed in 0.24.\", FutureWarning\n"
     ]
    },
    {
     "data": {
      "text/plain": [
       "({'min_samples_leaf': 40, 'min_samples_split': 900}, 0.7969606034503419)"
      ]
     },
     "execution_count": 80,
     "metadata": {},
     "output_type": "execute_result"
    }
   ],
   "source": [
    "param_test3 = {'min_samples_split':range(400,1200,100), 'min_samples_leaf':range(30,71,10)}\n",
    "gsearch3 = GridSearchCV(estimator = GradientBoostingClassifier(learning_rate=0.2, n_estimators=60,max_depth=6, max_features='sqrt', subsample=0.8, random_state=10), \n",
    "param_grid = param_test3, scoring='roc_auc',n_jobs=4,iid=False, cv=5)\n",
    "gsearch3.fit(X_train[predictors],y_train)\n",
    "gsearch3.best_params_, gsearch3.best_score_"
   ]
  },
  {
   "cell_type": "code",
   "execution_count": null,
   "metadata": {},
   "outputs": [],
   "source": []
  },
  {
   "cell_type": "code",
   "execution_count": null,
   "metadata": {},
   "outputs": [],
   "source": [
    "final_model = GradientBoostingClassifier(learning_rate=0.2, n_estimators=90, min_samples_leaf= 40, min_samples_split =900, max_features='sqrt', subsample=0.8, random_state=10)\n",
    "m = final_model.fit(train,test)\n",
    "m.predict(y_test)"
   ]
  },
  {
   "cell_type": "code",
   "execution_count": null,
   "metadata": {},
   "outputs": [],
   "source": []
  }
 ],
 "metadata": {
  "kernelspec": {
   "display_name": "Python 3 (ipykernel)",
   "language": "python",
   "name": "python3"
  },
  "language_info": {
   "codemirror_mode": {
    "name": "ipython",
    "version": 3
   },
   "file_extension": ".py",
   "mimetype": "text/x-python",
   "name": "python",
   "nbconvert_exporter": "python",
   "pygments_lexer": "ipython3",
   "version": "3.9.12"
  },
  "papermill": {
   "duration": 379.464157,
   "end_time": "2021-10-11T12:46:02.013909",
   "environment_variables": {},
   "exception": null,
   "input_path": "__notebook__.ipynb",
   "output_path": "__notebook__.ipynb",
   "parameters": {},
   "start_time": "2021-10-11T12:39:42.549752",
   "version": "2.1.0"
  }
 },
 "nbformat": 4,
 "nbformat_minor": 4
}
