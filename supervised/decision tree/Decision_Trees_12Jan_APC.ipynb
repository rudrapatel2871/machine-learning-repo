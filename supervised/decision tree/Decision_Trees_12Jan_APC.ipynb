{
 "cells": [
  {
   "cell_type": "markdown",
   "id": "77c566f2",
   "metadata": {},
   "source": [
    "# Q&A"
   ]
  },
  {
   "cell_type": "markdown",
   "id": "929b92de",
   "metadata": {},
   "source": [
    "### Pandas `Melt` vs `Unmelt`"
   ]
  },
  {
   "cell_type": "code",
   "execution_count": 1,
   "id": "c2287e71",
   "metadata": {},
   "outputs": [
    {
     "name": "stdout",
     "output_type": "stream",
     "text": [
      "   Courses    Fee Duration  Discount\n",
      "0    Spark  22000   30days      1000\n",
      "1  PySpark  25000   50days      2000\n",
      "2   Hadoop  30000   40days      2500\n",
      "3   Pandas  35000   35days      1500\n"
     ]
    }
   ],
   "source": [
    "import pandas as pd\n",
    "import numpy as np\n",
    "technologies= ({\n",
    "    'Courses':[\"Spark\",\"PySpark\",\"Hadoop\",\"Pandas\"],\n",
    "    'Fee': [22000,25000,30000,35000],\n",
    "    'Duration':['30days','50days','40days','35days'],\n",
    "    'Discount':[1000,2000,2500,1500]\n",
    "              })\n",
    "df = pd.DataFrame(technologies)\n",
    "print(df)"
   ]
  },
  {
   "cell_type": "markdown",
   "id": "7301552c",
   "metadata": {},
   "source": [
    "#### `pd.melt()`"
   ]
  },
  {
   "cell_type": "code",
   "execution_count": 2,
   "id": "03225c10",
   "metadata": {},
   "outputs": [],
   "source": [
    "df_melted = pd.melt(df,id_vars=['Courses'], value_vars=['Fee','Duration','Discount'] )"
   ]
  },
  {
   "cell_type": "code",
   "execution_count": 3,
   "id": "c84adb8d",
   "metadata": {},
   "outputs": [
    {
     "data": {
      "text/html": [
       "<div>\n",
       "<style scoped>\n",
       "    .dataframe tbody tr th:only-of-type {\n",
       "        vertical-align: middle;\n",
       "    }\n",
       "\n",
       "    .dataframe tbody tr th {\n",
       "        vertical-align: top;\n",
       "    }\n",
       "\n",
       "    .dataframe thead th {\n",
       "        text-align: right;\n",
       "    }\n",
       "</style>\n",
       "<table border=\"1\" class=\"dataframe\">\n",
       "  <thead>\n",
       "    <tr style=\"text-align: right;\">\n",
       "      <th></th>\n",
       "      <th>Courses</th>\n",
       "      <th>variable</th>\n",
       "      <th>value</th>\n",
       "    </tr>\n",
       "  </thead>\n",
       "  <tbody>\n",
       "    <tr>\n",
       "      <th>0</th>\n",
       "      <td>Spark</td>\n",
       "      <td>Fee</td>\n",
       "      <td>22000</td>\n",
       "    </tr>\n",
       "    <tr>\n",
       "      <th>1</th>\n",
       "      <td>PySpark</td>\n",
       "      <td>Fee</td>\n",
       "      <td>25000</td>\n",
       "    </tr>\n",
       "    <tr>\n",
       "      <th>2</th>\n",
       "      <td>Hadoop</td>\n",
       "      <td>Fee</td>\n",
       "      <td>30000</td>\n",
       "    </tr>\n",
       "    <tr>\n",
       "      <th>3</th>\n",
       "      <td>Pandas</td>\n",
       "      <td>Fee</td>\n",
       "      <td>35000</td>\n",
       "    </tr>\n",
       "    <tr>\n",
       "      <th>4</th>\n",
       "      <td>Spark</td>\n",
       "      <td>Duration</td>\n",
       "      <td>30days</td>\n",
       "    </tr>\n",
       "    <tr>\n",
       "      <th>5</th>\n",
       "      <td>PySpark</td>\n",
       "      <td>Duration</td>\n",
       "      <td>50days</td>\n",
       "    </tr>\n",
       "    <tr>\n",
       "      <th>6</th>\n",
       "      <td>Hadoop</td>\n",
       "      <td>Duration</td>\n",
       "      <td>40days</td>\n",
       "    </tr>\n",
       "    <tr>\n",
       "      <th>7</th>\n",
       "      <td>Pandas</td>\n",
       "      <td>Duration</td>\n",
       "      <td>35days</td>\n",
       "    </tr>\n",
       "    <tr>\n",
       "      <th>8</th>\n",
       "      <td>Spark</td>\n",
       "      <td>Discount</td>\n",
       "      <td>1000</td>\n",
       "    </tr>\n",
       "    <tr>\n",
       "      <th>9</th>\n",
       "      <td>PySpark</td>\n",
       "      <td>Discount</td>\n",
       "      <td>2000</td>\n",
       "    </tr>\n",
       "    <tr>\n",
       "      <th>10</th>\n",
       "      <td>Hadoop</td>\n",
       "      <td>Discount</td>\n",
       "      <td>2500</td>\n",
       "    </tr>\n",
       "    <tr>\n",
       "      <th>11</th>\n",
       "      <td>Pandas</td>\n",
       "      <td>Discount</td>\n",
       "      <td>1500</td>\n",
       "    </tr>\n",
       "  </tbody>\n",
       "</table>\n",
       "</div>"
      ],
      "text/plain": [
       "    Courses  variable   value\n",
       "0     Spark       Fee   22000\n",
       "1   PySpark       Fee   25000\n",
       "2    Hadoop       Fee   30000\n",
       "3    Pandas       Fee   35000\n",
       "4     Spark  Duration  30days\n",
       "5   PySpark  Duration  50days\n",
       "6    Hadoop  Duration  40days\n",
       "7    Pandas  Duration  35days\n",
       "8     Spark  Discount    1000\n",
       "9   PySpark  Discount    2000\n",
       "10   Hadoop  Discount    2500\n",
       "11   Pandas  Discount    1500"
      ]
     },
     "execution_count": 3,
     "metadata": {},
     "output_type": "execute_result"
    }
   ],
   "source": [
    "df_melted"
   ]
  },
  {
   "cell_type": "code",
   "execution_count": 4,
   "id": "f15fb6f6",
   "metadata": {},
   "outputs": [],
   "source": [
    "df_india = pd.read_excel(\"India_Stats.xlsx\")"
   ]
  },
  {
   "cell_type": "code",
   "execution_count": 5,
   "id": "89d37de4",
   "metadata": {},
   "outputs": [
    {
     "data": {
      "text/html": [
       "<div>\n",
       "<style scoped>\n",
       "    .dataframe tbody tr th:only-of-type {\n",
       "        vertical-align: middle;\n",
       "    }\n",
       "\n",
       "    .dataframe tbody tr th {\n",
       "        vertical-align: top;\n",
       "    }\n",
       "\n",
       "    .dataframe thead th {\n",
       "        text-align: right;\n",
       "    }\n",
       "</style>\n",
       "<table border=\"1\" class=\"dataframe\">\n",
       "  <thead>\n",
       "    <tr style=\"text-align: right;\">\n",
       "      <th></th>\n",
       "      <th>Country</th>\n",
       "      <th>State</th>\n",
       "      <th>Population</th>\n",
       "      <th>%Growth</th>\n",
       "    </tr>\n",
       "  </thead>\n",
       "  <tbody>\n",
       "    <tr>\n",
       "      <th>0</th>\n",
       "      <td>India</td>\n",
       "      <td>Uttar Pradesh</td>\n",
       "      <td>199812341</td>\n",
       "      <td>0.1651</td>\n",
       "    </tr>\n",
       "    <tr>\n",
       "      <th>1</th>\n",
       "      <td>India</td>\n",
       "      <td>Maharashtra</td>\n",
       "      <td>112374333</td>\n",
       "      <td>0.0928</td>\n",
       "    </tr>\n",
       "    <tr>\n",
       "      <th>2</th>\n",
       "      <td>India</td>\n",
       "      <td>Bihar</td>\n",
       "      <td>104099452</td>\n",
       "      <td>0.0860</td>\n",
       "    </tr>\n",
       "    <tr>\n",
       "      <th>3</th>\n",
       "      <td>India</td>\n",
       "      <td>West Bengal</td>\n",
       "      <td>91276115</td>\n",
       "      <td>0.0754</td>\n",
       "    </tr>\n",
       "    <tr>\n",
       "      <th>4</th>\n",
       "      <td>India</td>\n",
       "      <td>Madhya Pradesh</td>\n",
       "      <td>72626809</td>\n",
       "      <td>0.0600</td>\n",
       "    </tr>\n",
       "    <tr>\n",
       "      <th>5</th>\n",
       "      <td>India</td>\n",
       "      <td>Tamil Nadu</td>\n",
       "      <td>72147030</td>\n",
       "      <td>0.0596</td>\n",
       "    </tr>\n",
       "    <tr>\n",
       "      <th>6</th>\n",
       "      <td>India</td>\n",
       "      <td>Rajasthan</td>\n",
       "      <td>68548437</td>\n",
       "      <td>0.0566</td>\n",
       "    </tr>\n",
       "    <tr>\n",
       "      <th>7</th>\n",
       "      <td>India</td>\n",
       "      <td>Karnataka</td>\n",
       "      <td>61095297</td>\n",
       "      <td>0.0505</td>\n",
       "    </tr>\n",
       "    <tr>\n",
       "      <th>8</th>\n",
       "      <td>India</td>\n",
       "      <td>Gujarat</td>\n",
       "      <td>60439692</td>\n",
       "      <td>0.0499</td>\n",
       "    </tr>\n",
       "    <tr>\n",
       "      <th>9</th>\n",
       "      <td>India</td>\n",
       "      <td>Andhra Pradesh</td>\n",
       "      <td>49,577,103[b]</td>\n",
       "      <td>0.0410</td>\n",
       "    </tr>\n",
       "    <tr>\n",
       "      <th>10</th>\n",
       "      <td>India</td>\n",
       "      <td>Odisha</td>\n",
       "      <td>41974219</td>\n",
       "      <td>0.0347</td>\n",
       "    </tr>\n",
       "    <tr>\n",
       "      <th>11</th>\n",
       "      <td>India</td>\n",
       "      <td>Telangana</td>\n",
       "      <td>35003674</td>\n",
       "      <td>0.0289</td>\n",
       "    </tr>\n",
       "    <tr>\n",
       "      <th>12</th>\n",
       "      <td>India</td>\n",
       "      <td>Kerala</td>\n",
       "      <td>33406061</td>\n",
       "      <td>0.0276</td>\n",
       "    </tr>\n",
       "    <tr>\n",
       "      <th>13</th>\n",
       "      <td>India</td>\n",
       "      <td>Jharkhand</td>\n",
       "      <td>32988134</td>\n",
       "      <td>0.0273</td>\n",
       "    </tr>\n",
       "    <tr>\n",
       "      <th>14</th>\n",
       "      <td>India</td>\n",
       "      <td>Assam</td>\n",
       "      <td>31205576</td>\n",
       "      <td>0.0258</td>\n",
       "    </tr>\n",
       "    <tr>\n",
       "      <th>15</th>\n",
       "      <td>India</td>\n",
       "      <td>Punjab</td>\n",
       "      <td>27743338</td>\n",
       "      <td>0.0229</td>\n",
       "    </tr>\n",
       "    <tr>\n",
       "      <th>16</th>\n",
       "      <td>India</td>\n",
       "      <td>Chhattisgarh</td>\n",
       "      <td>25545198</td>\n",
       "      <td>0.0211</td>\n",
       "    </tr>\n",
       "    <tr>\n",
       "      <th>17</th>\n",
       "      <td>India</td>\n",
       "      <td>Haryana</td>\n",
       "      <td>25351462</td>\n",
       "      <td>0.0209</td>\n",
       "    </tr>\n",
       "    <tr>\n",
       "      <th>18</th>\n",
       "      <td>India</td>\n",
       "      <td>NCT of Delhi</td>\n",
       "      <td>16787941</td>\n",
       "      <td>0.0139</td>\n",
       "    </tr>\n",
       "    <tr>\n",
       "      <th>19</th>\n",
       "      <td>India</td>\n",
       "      <td>Jammu and Kashmir</td>\n",
       "      <td>12267032</td>\n",
       "      <td>0.0101</td>\n",
       "    </tr>\n",
       "    <tr>\n",
       "      <th>20</th>\n",
       "      <td>India</td>\n",
       "      <td>Uttarakhand</td>\n",
       "      <td>10086292</td>\n",
       "      <td>0.0083</td>\n",
       "    </tr>\n",
       "    <tr>\n",
       "      <th>21</th>\n",
       "      <td>India</td>\n",
       "      <td>Himachal Pradesh</td>\n",
       "      <td>6864602</td>\n",
       "      <td>0.0057</td>\n",
       "    </tr>\n",
       "    <tr>\n",
       "      <th>22</th>\n",
       "      <td>India</td>\n",
       "      <td>Tripura</td>\n",
       "      <td>3673917</td>\n",
       "      <td>0.0030</td>\n",
       "    </tr>\n",
       "    <tr>\n",
       "      <th>23</th>\n",
       "      <td>India</td>\n",
       "      <td>Meghalaya</td>\n",
       "      <td>2966889</td>\n",
       "      <td>0.0025</td>\n",
       "    </tr>\n",
       "    <tr>\n",
       "      <th>24</th>\n",
       "      <td>India</td>\n",
       "      <td>Manipur[c]</td>\n",
       "      <td>2570390</td>\n",
       "      <td>0.0021</td>\n",
       "    </tr>\n",
       "    <tr>\n",
       "      <th>25</th>\n",
       "      <td>India</td>\n",
       "      <td>Nagaland</td>\n",
       "      <td>1978502</td>\n",
       "      <td>0.0016</td>\n",
       "    </tr>\n",
       "    <tr>\n",
       "      <th>26</th>\n",
       "      <td>India</td>\n",
       "      <td>Goa</td>\n",
       "      <td>1458545</td>\n",
       "      <td>0.0012</td>\n",
       "    </tr>\n",
       "    <tr>\n",
       "      <th>27</th>\n",
       "      <td>India</td>\n",
       "      <td>Arunachal Pradesh</td>\n",
       "      <td>1383727</td>\n",
       "      <td>0.0011</td>\n",
       "    </tr>\n",
       "    <tr>\n",
       "      <th>28</th>\n",
       "      <td>India</td>\n",
       "      <td>Puducherry</td>\n",
       "      <td>1247953</td>\n",
       "      <td>0.0010</td>\n",
       "    </tr>\n",
       "    <tr>\n",
       "      <th>29</th>\n",
       "      <td>India</td>\n",
       "      <td>Mizoram</td>\n",
       "      <td>1097206</td>\n",
       "      <td>0.0009</td>\n",
       "    </tr>\n",
       "    <tr>\n",
       "      <th>30</th>\n",
       "      <td>India</td>\n",
       "      <td>Chandigarh</td>\n",
       "      <td>1055450</td>\n",
       "      <td>0.0009</td>\n",
       "    </tr>\n",
       "    <tr>\n",
       "      <th>31</th>\n",
       "      <td>India</td>\n",
       "      <td>Sikkim</td>\n",
       "      <td>610577</td>\n",
       "      <td>0.0005</td>\n",
       "    </tr>\n",
       "    <tr>\n",
       "      <th>32</th>\n",
       "      <td>India</td>\n",
       "      <td>Dadra and Nagar Haveli and Daman and Diu</td>\n",
       "      <td>585764</td>\n",
       "      <td>0.0005</td>\n",
       "    </tr>\n",
       "    <tr>\n",
       "      <th>33</th>\n",
       "      <td>India</td>\n",
       "      <td>Andaman and Nicobar Islands</td>\n",
       "      <td>380581</td>\n",
       "      <td>0.0003</td>\n",
       "    </tr>\n",
       "    <tr>\n",
       "      <th>34</th>\n",
       "      <td>India</td>\n",
       "      <td>Ladakh</td>\n",
       "      <td>274000</td>\n",
       "      <td>0.0002</td>\n",
       "    </tr>\n",
       "    <tr>\n",
       "      <th>35</th>\n",
       "      <td>India</td>\n",
       "      <td>Lakshadweep</td>\n",
       "      <td>64473</td>\n",
       "      <td>0.0001</td>\n",
       "    </tr>\n",
       "  </tbody>\n",
       "</table>\n",
       "</div>"
      ],
      "text/plain": [
       "   Country                                     State     Population  %Growth\n",
       "0    India                             Uttar Pradesh      199812341   0.1651\n",
       "1    India                               Maharashtra      112374333   0.0928\n",
       "2    India                                     Bihar      104099452   0.0860\n",
       "3    India                               West Bengal       91276115   0.0754\n",
       "4    India                            Madhya Pradesh       72626809   0.0600\n",
       "5    India                                Tamil Nadu       72147030   0.0596\n",
       "6    India                                 Rajasthan       68548437   0.0566\n",
       "7    India                                 Karnataka       61095297   0.0505\n",
       "8    India                                   Gujarat       60439692   0.0499\n",
       "9    India                            Andhra Pradesh  49,577,103[b]   0.0410\n",
       "10   India                                    Odisha       41974219   0.0347\n",
       "11   India                                 Telangana       35003674   0.0289\n",
       "12   India                                    Kerala       33406061   0.0276\n",
       "13   India                                 Jharkhand       32988134   0.0273\n",
       "14   India                                     Assam       31205576   0.0258\n",
       "15   India                                    Punjab       27743338   0.0229\n",
       "16   India                              Chhattisgarh       25545198   0.0211\n",
       "17   India                                   Haryana       25351462   0.0209\n",
       "18   India                              NCT of Delhi       16787941   0.0139\n",
       "19   India                         Jammu and Kashmir       12267032   0.0101\n",
       "20   India                               Uttarakhand       10086292   0.0083\n",
       "21   India                          Himachal Pradesh        6864602   0.0057\n",
       "22   India                                   Tripura        3673917   0.0030\n",
       "23   India                                 Meghalaya        2966889   0.0025\n",
       "24   India                                Manipur[c]        2570390   0.0021\n",
       "25   India                                  Nagaland        1978502   0.0016\n",
       "26   India                                       Goa        1458545   0.0012\n",
       "27   India                         Arunachal Pradesh        1383727   0.0011\n",
       "28   India                                Puducherry        1247953   0.0010\n",
       "29   India                                   Mizoram        1097206   0.0009\n",
       "30   India                                Chandigarh        1055450   0.0009\n",
       "31   India                                    Sikkim         610577   0.0005\n",
       "32   India  Dadra and Nagar Haveli and Daman and Diu         585764   0.0005\n",
       "33   India               Andaman and Nicobar Islands         380581   0.0003\n",
       "34   India                                    Ladakh         274000   0.0002\n",
       "35   India                               Lakshadweep          64473   0.0001"
      ]
     },
     "execution_count": 5,
     "metadata": {},
     "output_type": "execute_result"
    }
   ],
   "source": [
    "df_india"
   ]
  },
  {
   "cell_type": "code",
   "execution_count": 6,
   "id": "dca200e4",
   "metadata": {},
   "outputs": [
    {
     "data": {
      "text/plain": [
       "Index(['Country', 'State', 'Population', '%Growth'], dtype='object')"
      ]
     },
     "execution_count": 6,
     "metadata": {},
     "output_type": "execute_result"
    }
   ],
   "source": [
    "df_india.columns"
   ]
  },
  {
   "cell_type": "code",
   "execution_count": 7,
   "id": "4d7c8d85",
   "metadata": {},
   "outputs": [
    {
     "data": {
      "text/html": [
       "<div>\n",
       "<style scoped>\n",
       "    .dataframe tbody tr th:only-of-type {\n",
       "        vertical-align: middle;\n",
       "    }\n",
       "\n",
       "    .dataframe tbody tr th {\n",
       "        vertical-align: top;\n",
       "    }\n",
       "\n",
       "    .dataframe thead th {\n",
       "        text-align: right;\n",
       "    }\n",
       "</style>\n",
       "<table border=\"1\" class=\"dataframe\">\n",
       "  <thead>\n",
       "    <tr style=\"text-align: right;\">\n",
       "      <th>State</th>\n",
       "      <th>Country</th>\n",
       "      <th>Andaman and Nicobar Islands</th>\n",
       "      <th>Andhra Pradesh</th>\n",
       "      <th>Arunachal Pradesh</th>\n",
       "      <th>Assam</th>\n",
       "      <th>Bihar</th>\n",
       "      <th>Chandigarh</th>\n",
       "      <th>Chhattisgarh</th>\n",
       "      <th>Dadra and Nagar Haveli and Daman and Diu</th>\n",
       "      <th>Goa</th>\n",
       "      <th>...</th>\n",
       "      <th>Puducherry</th>\n",
       "      <th>Punjab</th>\n",
       "      <th>Rajasthan</th>\n",
       "      <th>Sikkim</th>\n",
       "      <th>Tamil Nadu</th>\n",
       "      <th>Telangana</th>\n",
       "      <th>Tripura</th>\n",
       "      <th>Uttar Pradesh</th>\n",
       "      <th>Uttarakhand</th>\n",
       "      <th>West Bengal</th>\n",
       "    </tr>\n",
       "  </thead>\n",
       "  <tbody>\n",
       "    <tr>\n",
       "      <th>0</th>\n",
       "      <td>India</td>\n",
       "      <td>380581</td>\n",
       "      <td>49,577,103[b]</td>\n",
       "      <td>1383727</td>\n",
       "      <td>31205576</td>\n",
       "      <td>104099452</td>\n",
       "      <td>1055450</td>\n",
       "      <td>25545198</td>\n",
       "      <td>585764</td>\n",
       "      <td>1458545</td>\n",
       "      <td>...</td>\n",
       "      <td>1247953</td>\n",
       "      <td>27743338</td>\n",
       "      <td>68548437</td>\n",
       "      <td>610577</td>\n",
       "      <td>72147030</td>\n",
       "      <td>35003674</td>\n",
       "      <td>3673917</td>\n",
       "      <td>199812341</td>\n",
       "      <td>10086292</td>\n",
       "      <td>91276115</td>\n",
       "    </tr>\n",
       "  </tbody>\n",
       "</table>\n",
       "<p>1 rows × 37 columns</p>\n",
       "</div>"
      ],
      "text/plain": [
       "State Country Andaman and Nicobar Islands Andhra Pradesh Arunachal Pradesh  \\\n",
       "0       India                      380581  49,577,103[b]           1383727   \n",
       "\n",
       "State     Assam      Bihar Chandigarh Chhattisgarh  \\\n",
       "0      31205576  104099452    1055450     25545198   \n",
       "\n",
       "State Dadra and Nagar Haveli and Daman and Diu      Goa  ... Puducherry  \\\n",
       "0                                       585764  1458545  ...    1247953   \n",
       "\n",
       "State    Punjab Rajasthan  Sikkim Tamil Nadu Telangana  Tripura Uttar Pradesh  \\\n",
       "0      27743338  68548437  610577   72147030  35003674  3673917     199812341   \n",
       "\n",
       "State Uttarakhand West Bengal  \n",
       "0        10086292    91276115  \n",
       "\n",
       "[1 rows x 37 columns]"
      ]
     },
     "execution_count": 7,
     "metadata": {},
     "output_type": "execute_result"
    }
   ],
   "source": [
    "df_india.pivot(index='Country', columns='State', values='Population').reset_index()"
   ]
  },
  {
   "attachments": {
    "image.png": {
     "image/png": "[encoded data removed]"
    }
   },
   "cell_type": "markdown",
   "id": "fbb7cd89",
   "metadata": {},
   "source": [
    "![image.png](attachment:image.png)"
   ]
  },
  {
   "cell_type": "code",
   "execution_count": 8,
   "id": "701a27fa",
   "metadata": {},
   "outputs": [
    {
     "data": {
      "text/html": [
       "<div>\n",
       "<style scoped>\n",
       "    .dataframe tbody tr th:only-of-type {\n",
       "        vertical-align: middle;\n",
       "    }\n",
       "\n",
       "    .dataframe tbody tr th {\n",
       "        vertical-align: top;\n",
       "    }\n",
       "\n",
       "    .dataframe thead th {\n",
       "        text-align: right;\n",
       "    }\n",
       "</style>\n",
       "<table border=\"1\" class=\"dataframe\">\n",
       "  <thead>\n",
       "    <tr style=\"text-align: right;\">\n",
       "      <th></th>\n",
       "      <th>Country</th>\n",
       "      <th>%Growth</th>\n",
       "    </tr>\n",
       "  </thead>\n",
       "  <tbody>\n",
       "    <tr>\n",
       "      <th>0</th>\n",
       "      <td>India</td>\n",
       "      <td>0.027778</td>\n",
       "    </tr>\n",
       "  </tbody>\n",
       "</table>\n",
       "</div>"
      ],
      "text/plain": [
       "  Country   %Growth\n",
       "0   India  0.027778"
      ]
     },
     "execution_count": 8,
     "metadata": {},
     "output_type": "execute_result"
    }
   ],
   "source": [
    "df_india.pivot_table(index='Country',  values='%Growth', aggfunc='mean').reset_index()"
   ]
  },
  {
   "cell_type": "markdown",
   "id": "317e7c49",
   "metadata": {},
   "source": [
    "# Decision Trees"
   ]
  },
  {
   "cell_type": "markdown",
   "id": "5618d17c",
   "metadata": {},
   "source": [
    "### import the key libraries"
   ]
  },
  {
   "cell_type": "code",
   "execution_count": 9,
   "id": "2b0a905e",
   "metadata": {},
   "outputs": [],
   "source": [
    "import numpy as np\n",
    "import pandas as pd\n",
    "import matplotlib.pyplot as plt\n",
    "import seaborn as sns"
   ]
  },
  {
   "cell_type": "code",
   "execution_count": 10,
   "id": "9b0845f5",
   "metadata": {},
   "outputs": [],
   "source": [
    "from sklearn.model_selection import train_test_split #training and testing dataset split\n",
    "from sklearn.preprocessing import StandardScaler #standardizing the data\n",
    "from sklearn.tree import DecisionTreeClassifier"
   ]
  },
  {
   "cell_type": "markdown",
   "id": "06b4fe94",
   "metadata": {},
   "source": [
    "### Load the data"
   ]
  },
  {
   "cell_type": "code",
   "execution_count": 11,
   "id": "e82d089c",
   "metadata": {},
   "outputs": [],
   "source": [
    "df_social = pd.read_csv('Social_Network_Ads.csv')"
   ]
  },
  {
   "cell_type": "code",
   "execution_count": 12,
   "id": "965cf2a0",
   "metadata": {},
   "outputs": [
    {
     "data": {
      "text/html": [
       "<div>\n",
       "<style scoped>\n",
       "    .dataframe tbody tr th:only-of-type {\n",
       "        vertical-align: middle;\n",
       "    }\n",
       "\n",
       "    .dataframe tbody tr th {\n",
       "        vertical-align: top;\n",
       "    }\n",
       "\n",
       "    .dataframe thead th {\n",
       "        text-align: right;\n",
       "    }\n",
       "</style>\n",
       "<table border=\"1\" class=\"dataframe\">\n",
       "  <thead>\n",
       "    <tr style=\"text-align: right;\">\n",
       "      <th></th>\n",
       "      <th>User ID</th>\n",
       "      <th>Gender</th>\n",
       "      <th>Age</th>\n",
       "      <th>EstimatedSalary</th>\n",
       "      <th>Purchased</th>\n",
       "    </tr>\n",
       "  </thead>\n",
       "  <tbody>\n",
       "    <tr>\n",
       "      <th>0</th>\n",
       "      <td>15624510</td>\n",
       "      <td>Male</td>\n",
       "      <td>19</td>\n",
       "      <td>19000</td>\n",
       "      <td>0</td>\n",
       "    </tr>\n",
       "    <tr>\n",
       "      <th>1</th>\n",
       "      <td>15810944</td>\n",
       "      <td>Male</td>\n",
       "      <td>35</td>\n",
       "      <td>20000</td>\n",
       "      <td>0</td>\n",
       "    </tr>\n",
       "    <tr>\n",
       "      <th>2</th>\n",
       "      <td>15668575</td>\n",
       "      <td>Female</td>\n",
       "      <td>26</td>\n",
       "      <td>43000</td>\n",
       "      <td>0</td>\n",
       "    </tr>\n",
       "    <tr>\n",
       "      <th>3</th>\n",
       "      <td>15603246</td>\n",
       "      <td>Female</td>\n",
       "      <td>27</td>\n",
       "      <td>57000</td>\n",
       "      <td>0</td>\n",
       "    </tr>\n",
       "    <tr>\n",
       "      <th>4</th>\n",
       "      <td>15804002</td>\n",
       "      <td>Male</td>\n",
       "      <td>19</td>\n",
       "      <td>76000</td>\n",
       "      <td>0</td>\n",
       "    </tr>\n",
       "    <tr>\n",
       "      <th>...</th>\n",
       "      <td>...</td>\n",
       "      <td>...</td>\n",
       "      <td>...</td>\n",
       "      <td>...</td>\n",
       "      <td>...</td>\n",
       "    </tr>\n",
       "    <tr>\n",
       "      <th>395</th>\n",
       "      <td>15691863</td>\n",
       "      <td>Female</td>\n",
       "      <td>46</td>\n",
       "      <td>41000</td>\n",
       "      <td>1</td>\n",
       "    </tr>\n",
       "    <tr>\n",
       "      <th>396</th>\n",
       "      <td>15706071</td>\n",
       "      <td>Male</td>\n",
       "      <td>51</td>\n",
       "      <td>23000</td>\n",
       "      <td>1</td>\n",
       "    </tr>\n",
       "    <tr>\n",
       "      <th>397</th>\n",
       "      <td>15654296</td>\n",
       "      <td>Female</td>\n",
       "      <td>50</td>\n",
       "      <td>20000</td>\n",
       "      <td>1</td>\n",
       "    </tr>\n",
       "    <tr>\n",
       "      <th>398</th>\n",
       "      <td>15755018</td>\n",
       "      <td>Male</td>\n",
       "      <td>36</td>\n",
       "      <td>33000</td>\n",
       "      <td>0</td>\n",
       "    </tr>\n",
       "    <tr>\n",
       "      <th>399</th>\n",
       "      <td>15594041</td>\n",
       "      <td>Female</td>\n",
       "      <td>49</td>\n",
       "      <td>36000</td>\n",
       "      <td>1</td>\n",
       "    </tr>\n",
       "  </tbody>\n",
       "</table>\n",
       "<p>400 rows × 5 columns</p>\n",
       "</div>"
      ],
      "text/plain": [
       "      User ID  Gender  Age  EstimatedSalary  Purchased\n",
       "0    15624510    Male   19            19000          0\n",
       "1    15810944    Male   35            20000          0\n",
       "2    15668575  Female   26            43000          0\n",
       "3    15603246  Female   27            57000          0\n",
       "4    15804002    Male   19            76000          0\n",
       "..        ...     ...  ...              ...        ...\n",
       "395  15691863  Female   46            41000          1\n",
       "396  15706071    Male   51            23000          1\n",
       "397  15654296  Female   50            20000          1\n",
       "398  15755018    Male   36            33000          0\n",
       "399  15594041  Female   49            36000          1\n",
       "\n",
       "[400 rows x 5 columns]"
      ]
     },
     "execution_count": 12,
     "metadata": {},
     "output_type": "execute_result"
    }
   ],
   "source": [
    "df_social"
   ]
  },
  {
   "cell_type": "markdown",
   "id": "34bc06aa",
   "metadata": {},
   "source": [
    "## Exploratory Data Analysis"
   ]
  },
  {
   "cell_type": "markdown",
   "id": "04474031",
   "metadata": {},
   "source": [
    "#### To check the missing data"
   ]
  },
  {
   "cell_type": "code",
   "execution_count": 13,
   "id": "c97eb33b",
   "metadata": {},
   "outputs": [
    {
     "data": {
      "text/plain": [
       "User ID            0\n",
       "Gender             0\n",
       "Age                0\n",
       "EstimatedSalary    0\n",
       "Purchased          0\n",
       "dtype: int64"
      ]
     },
     "execution_count": 13,
     "metadata": {},
     "output_type": "execute_result"
    }
   ],
   "source": [
    "df_social.isnull().sum()"
   ]
  },
  {
   "cell_type": "markdown",
   "id": "dea06ae7",
   "metadata": {},
   "source": [
    "#### To get the info about the data"
   ]
  },
  {
   "cell_type": "code",
   "execution_count": 14,
   "id": "d5d05788",
   "metadata": {},
   "outputs": [
    {
     "name": "stdout",
     "output_type": "stream",
     "text": [
      "<class 'pandas.core.frame.DataFrame'>\n",
      "RangeIndex: 400 entries, 0 to 399\n",
      "Data columns (total 5 columns):\n",
      " #   Column           Non-Null Count  Dtype \n",
      "---  ------           --------------  ----- \n",
      " 0   User ID          400 non-null    int64 \n",
      " 1   Gender           400 non-null    object\n",
      " 2   Age              400 non-null    int64 \n",
      " 3   EstimatedSalary  400 non-null    int64 \n",
      " 4   Purchased        400 non-null    int64 \n",
      "dtypes: int64(4), object(1)\n",
      "memory usage: 15.8+ KB\n"
     ]
    }
   ],
   "source": [
    "df_social.info()"
   ]
  },
  {
   "cell_type": "markdown",
   "id": "f9234bc9",
   "metadata": {},
   "source": [
    "### Summary statistics "
   ]
  },
  {
   "cell_type": "code",
   "execution_count": 15,
   "id": "34b909f2",
   "metadata": {},
   "outputs": [
    {
     "data": {
      "text/html": [
       "<div>\n",
       "<style scoped>\n",
       "    .dataframe tbody tr th:only-of-type {\n",
       "        vertical-align: middle;\n",
       "    }\n",
       "\n",
       "    .dataframe tbody tr th {\n",
       "        vertical-align: top;\n",
       "    }\n",
       "\n",
       "    .dataframe thead th {\n",
       "        text-align: right;\n",
       "    }\n",
       "</style>\n",
       "<table border=\"1\" class=\"dataframe\">\n",
       "  <thead>\n",
       "    <tr style=\"text-align: right;\">\n",
       "      <th></th>\n",
       "      <th>User ID</th>\n",
       "      <th>Age</th>\n",
       "      <th>EstimatedSalary</th>\n",
       "      <th>Purchased</th>\n",
       "    </tr>\n",
       "  </thead>\n",
       "  <tbody>\n",
       "    <tr>\n",
       "      <th>count</th>\n",
       "      <td>4.000000e+02</td>\n",
       "      <td>400.000000</td>\n",
       "      <td>400.000000</td>\n",
       "      <td>400.000000</td>\n",
       "    </tr>\n",
       "    <tr>\n",
       "      <th>mean</th>\n",
       "      <td>1.569154e+07</td>\n",
       "      <td>37.655000</td>\n",
       "      <td>69742.500000</td>\n",
       "      <td>0.357500</td>\n",
       "    </tr>\n",
       "    <tr>\n",
       "      <th>std</th>\n",
       "      <td>7.165832e+04</td>\n",
       "      <td>10.482877</td>\n",
       "      <td>34096.960282</td>\n",
       "      <td>0.479864</td>\n",
       "    </tr>\n",
       "    <tr>\n",
       "      <th>min</th>\n",
       "      <td>1.556669e+07</td>\n",
       "      <td>18.000000</td>\n",
       "      <td>15000.000000</td>\n",
       "      <td>0.000000</td>\n",
       "    </tr>\n",
       "    <tr>\n",
       "      <th>25%</th>\n",
       "      <td>1.562676e+07</td>\n",
       "      <td>29.750000</td>\n",
       "      <td>43000.000000</td>\n",
       "      <td>0.000000</td>\n",
       "    </tr>\n",
       "    <tr>\n",
       "      <th>50%</th>\n",
       "      <td>1.569434e+07</td>\n",
       "      <td>37.000000</td>\n",
       "      <td>70000.000000</td>\n",
       "      <td>0.000000</td>\n",
       "    </tr>\n",
       "    <tr>\n",
       "      <th>75%</th>\n",
       "      <td>1.575036e+07</td>\n",
       "      <td>46.000000</td>\n",
       "      <td>88000.000000</td>\n",
       "      <td>1.000000</td>\n",
       "    </tr>\n",
       "    <tr>\n",
       "      <th>max</th>\n",
       "      <td>1.581524e+07</td>\n",
       "      <td>60.000000</td>\n",
       "      <td>150000.000000</td>\n",
       "      <td>1.000000</td>\n",
       "    </tr>\n",
       "  </tbody>\n",
       "</table>\n",
       "</div>"
      ],
      "text/plain": [
       "            User ID         Age  EstimatedSalary   Purchased\n",
       "count  4.000000e+02  400.000000       400.000000  400.000000\n",
       "mean   1.569154e+07   37.655000     69742.500000    0.357500\n",
       "std    7.165832e+04   10.482877     34096.960282    0.479864\n",
       "min    1.556669e+07   18.000000     15000.000000    0.000000\n",
       "25%    1.562676e+07   29.750000     43000.000000    0.000000\n",
       "50%    1.569434e+07   37.000000     70000.000000    0.000000\n",
       "75%    1.575036e+07   46.000000     88000.000000    1.000000\n",
       "max    1.581524e+07   60.000000    150000.000000    1.000000"
      ]
     },
     "execution_count": 15,
     "metadata": {},
     "output_type": "execute_result"
    }
   ],
   "source": [
    "df_social.describe()"
   ]
  },
  {
   "cell_type": "markdown",
   "id": "9a4ec668",
   "metadata": {},
   "source": [
    "### To show the correlation matrix"
   ]
  },
  {
   "cell_type": "code",
   "execution_count": 16,
   "id": "1b1848bb",
   "metadata": {},
   "outputs": [
    {
     "data": {
      "text/html": [
       "<div>\n",
       "<style scoped>\n",
       "    .dataframe tbody tr th:only-of-type {\n",
       "        vertical-align: middle;\n",
       "    }\n",
       "\n",
       "    .dataframe tbody tr th {\n",
       "        vertical-align: top;\n",
       "    }\n",
       "\n",
       "    .dataframe thead th {\n",
       "        text-align: right;\n",
       "    }\n",
       "</style>\n",
       "<table border=\"1\" class=\"dataframe\">\n",
       "  <thead>\n",
       "    <tr style=\"text-align: right;\">\n",
       "      <th></th>\n",
       "      <th>User ID</th>\n",
       "      <th>Age</th>\n",
       "      <th>EstimatedSalary</th>\n",
       "      <th>Purchased</th>\n",
       "    </tr>\n",
       "  </thead>\n",
       "  <tbody>\n",
       "    <tr>\n",
       "      <th>User ID</th>\n",
       "      <td>1.000000</td>\n",
       "      <td>-0.000721</td>\n",
       "      <td>0.071097</td>\n",
       "      <td>0.007120</td>\n",
       "    </tr>\n",
       "    <tr>\n",
       "      <th>Age</th>\n",
       "      <td>-0.000721</td>\n",
       "      <td>1.000000</td>\n",
       "      <td>0.155238</td>\n",
       "      <td>0.622454</td>\n",
       "    </tr>\n",
       "    <tr>\n",
       "      <th>EstimatedSalary</th>\n",
       "      <td>0.071097</td>\n",
       "      <td>0.155238</td>\n",
       "      <td>1.000000</td>\n",
       "      <td>0.362083</td>\n",
       "    </tr>\n",
       "    <tr>\n",
       "      <th>Purchased</th>\n",
       "      <td>0.007120</td>\n",
       "      <td>0.622454</td>\n",
       "      <td>0.362083</td>\n",
       "      <td>1.000000</td>\n",
       "    </tr>\n",
       "  </tbody>\n",
       "</table>\n",
       "</div>"
      ],
      "text/plain": [
       "                  User ID       Age  EstimatedSalary  Purchased\n",
       "User ID          1.000000 -0.000721         0.071097   0.007120\n",
       "Age             -0.000721  1.000000         0.155238   0.622454\n",
       "EstimatedSalary  0.071097  0.155238         1.000000   0.362083\n",
       "Purchased        0.007120  0.622454         0.362083   1.000000"
      ]
     },
     "execution_count": 16,
     "metadata": {},
     "output_type": "execute_result"
    }
   ],
   "source": [
    "df_social.corr()"
   ]
  },
  {
   "cell_type": "code",
   "execution_count": 17,
   "id": "d2f4a65f",
   "metadata": {},
   "outputs": [
    {
     "data": {
      "image/png": "[encoded data removed]",
      "text/plain": [
       "<Figure size 432x288 with 2 Axes>"
      ]
     },
     "metadata": {
      "needs_background": "light"
     },
     "output_type": "display_data"
    }
   ],
   "source": [
    "sns.heatmap(df_social.corr(), annot=True, cmap='Blues')\n",
    "plt.show()"
   ]
  },
  {
   "cell_type": "markdown",
   "id": "5f8bd472",
   "metadata": {},
   "source": [
    "-- Key takeaway: Age seems to be `moderately` correlated with purchased"
   ]
  },
  {
   "cell_type": "markdown",
   "id": "e744aae4",
   "metadata": {},
   "source": [
    "### Plot the distribution of Age\n",
    "`hint: Histogram`"
   ]
  },
  {
   "cell_type": "code",
   "execution_count": 18,
   "id": "8960f626",
   "metadata": {},
   "outputs": [
    {
     "data": {
      "text/plain": [
       "<AxesSubplot:xlabel='Age', ylabel='Count'>"
      ]
     },
     "execution_count": 18,
     "metadata": {},
     "output_type": "execute_result"
    },
    {
     "data": {
      "image/png": "[encoded data removed]",
      "text/plain": [
       "<Figure size 432x288 with 1 Axes>"
      ]
     },
     "metadata": {
      "needs_background": "light"
     },
     "output_type": "display_data"
    }
   ],
   "source": [
    "sns.histplot(df_social[\"Age\"], kde=True)"
   ]
  },
  {
   "cell_type": "code",
   "execution_count": 19,
   "id": "75e7c707",
   "metadata": {},
   "outputs": [
    {
     "data": {
      "image/png": "[encoded data removed]",
      "text/plain": [
       "<Figure size 720x432 with 1 Axes>"
      ]
     },
     "metadata": {
      "needs_background": "light"
     },
     "output_type": "display_data"
    }
   ],
   "source": [
    "plt.subplots(figsize=(10,6))\n",
    "sns.histplot(df_social['Age'], kde=True)\n",
    "plt.title('Age distribution')\n",
    "plt.show()"
   ]
  },
  {
   "cell_type": "code",
   "execution_count": 20,
   "id": "0d99f97b",
   "metadata": {},
   "outputs": [
    {
     "data": {
      "text/plain": [
       "37.655"
      ]
     },
     "execution_count": 20,
     "metadata": {},
     "output_type": "execute_result"
    }
   ],
   "source": [
    "df_social['Age'].mean()"
   ]
  },
  {
   "cell_type": "markdown",
   "id": "511a70a5",
   "metadata": {},
   "source": [
    "#### Add `mean` and `median` lines to the histogram"
   ]
  },
  {
   "cell_type": "markdown",
   "id": "ebce0492",
   "metadata": {},
   "source": [
    "`axvline`"
   ]
  },
  {
   "cell_type": "code",
   "execution_count": 21,
   "id": "d66254af",
   "metadata": {},
   "outputs": [
    {
     "data": {
      "image/png": "[encoded data removed]",
      "text/plain": [
       "<Figure size 720x432 with 1 Axes>"
      ]
     },
     "metadata": {
      "needs_background": "light"
     },
     "output_type": "display_data"
    }
   ],
   "source": [
    "plt.subplots(figsize=(10,6))\n",
    "sns.histplot(df_social, x='Age', hue='Purchased', kde=True)\n",
    "\n",
    "plt.axvline(x = df_social['Age'].mean(), color = 'red', label = 'Mean Line Age') #mean line for age\n",
    "\n",
    "plt.legend()\n",
    "plt.show()"
   ]
  },
  {
   "cell_type": "markdown",
   "id": "27b6d3af",
   "metadata": {},
   "source": [
    "#### Create the groups of age using below logic"
   ]
  },
  {
   "cell_type": "code",
   "execution_count": 22,
   "id": "bbc6683c",
   "metadata": {},
   "outputs": [
    {
     "data": {
      "text/plain": [
       "18"
      ]
     },
     "execution_count": 22,
     "metadata": {},
     "output_type": "execute_result"
    }
   ],
   "source": [
    "df_social['Age'].min()"
   ]
  },
  {
   "cell_type": "code",
   "execution_count": 23,
   "id": "667f5364",
   "metadata": {},
   "outputs": [
    {
     "data": {
      "text/plain": [
       "60"
      ]
     },
     "execution_count": 23,
     "metadata": {},
     "output_type": "execute_result"
    }
   ],
   "source": [
    "df_social['Age'].max()"
   ]
  },
  {
   "cell_type": "markdown",
   "id": "5aa83e34",
   "metadata": {},
   "source": [
    "Age_Category: 15-20, 20-25,25-30,30-35,35-40,40-45, 45-50, 50-55, 55-60"
   ]
  },
  {
   "cell_type": "markdown",
   "id": "08fad42a",
   "metadata": {},
   "source": [
    "#### To create a new column `Age_Category` basis age data"
   ]
  },
  {
   "cell_type": "code",
   "execution_count": 24,
   "id": "fbb7eeaf",
   "metadata": {},
   "outputs": [],
   "source": [
    "age_bins = [15,20,25,30,35,40,45,50,55,60]\n",
    "labels = [f\"{start} - {end}\" for start, end in zip(age_bins[:-1],age_bins[1:])] #to create the bins"
   ]
  },
  {
   "cell_type": "markdown",
   "id": "69753f84",
   "metadata": {},
   "source": [
    "#### `pd.cut()`"
   ]
  },
  {
   "cell_type": "code",
   "execution_count": 25,
   "id": "ca784dbe",
   "metadata": {},
   "outputs": [],
   "source": [
    "df_social['Age_Category'] = pd.cut(df_social['Age'], bins=age_bins,labels=labels, right=False)"
   ]
  },
  {
   "cell_type": "code",
   "execution_count": 26,
   "id": "08272520",
   "metadata": {},
   "outputs": [
    {
     "data": {
      "text/html": [
       "<div>\n",
       "<style scoped>\n",
       "    .dataframe tbody tr th:only-of-type {\n",
       "        vertical-align: middle;\n",
       "    }\n",
       "\n",
       "    .dataframe tbody tr th {\n",
       "        vertical-align: top;\n",
       "    }\n",
       "\n",
       "    .dataframe thead th {\n",
       "        text-align: right;\n",
       "    }\n",
       "</style>\n",
       "<table border=\"1\" class=\"dataframe\">\n",
       "  <thead>\n",
       "    <tr style=\"text-align: right;\">\n",
       "      <th></th>\n",
       "      <th>User ID</th>\n",
       "      <th>Gender</th>\n",
       "      <th>Age</th>\n",
       "      <th>EstimatedSalary</th>\n",
       "      <th>Purchased</th>\n",
       "      <th>Age_Category</th>\n",
       "    </tr>\n",
       "  </thead>\n",
       "  <tbody>\n",
       "    <tr>\n",
       "      <th>396</th>\n",
       "      <td>15706071</td>\n",
       "      <td>Male</td>\n",
       "      <td>51</td>\n",
       "      <td>23000</td>\n",
       "      <td>1</td>\n",
       "      <td>50 - 55</td>\n",
       "    </tr>\n",
       "    <tr>\n",
       "      <th>226</th>\n",
       "      <td>15795224</td>\n",
       "      <td>Female</td>\n",
       "      <td>36</td>\n",
       "      <td>126000</td>\n",
       "      <td>1</td>\n",
       "      <td>35 - 40</td>\n",
       "    </tr>\n",
       "    <tr>\n",
       "      <th>258</th>\n",
       "      <td>15569641</td>\n",
       "      <td>Female</td>\n",
       "      <td>58</td>\n",
       "      <td>95000</td>\n",
       "      <td>1</td>\n",
       "      <td>55 - 60</td>\n",
       "    </tr>\n",
       "  </tbody>\n",
       "</table>\n",
       "</div>"
      ],
      "text/plain": [
       "      User ID  Gender  Age  EstimatedSalary  Purchased Age_Category\n",
       "396  15706071    Male   51            23000          1      50 - 55\n",
       "226  15795224  Female   36           126000          1      35 - 40\n",
       "258  15569641  Female   58            95000          1      55 - 60"
      ]
     },
     "execution_count": 26,
     "metadata": {},
     "output_type": "execute_result"
    }
   ],
   "source": [
    "df_social.sample(3)"
   ]
  },
  {
   "cell_type": "code",
   "execution_count": 27,
   "id": "839775af",
   "metadata": {},
   "outputs": [
    {
     "data": {
      "text/plain": [
       "[15, 20, 25, 30, 35, 40, 45, 50, 55]"
      ]
     },
     "execution_count": 27,
     "metadata": {},
     "output_type": "execute_result"
    }
   ],
   "source": [
    "age_bins[:-1] #except the last "
   ]
  },
  {
   "cell_type": "code",
   "execution_count": 28,
   "id": "93bd4ec0",
   "metadata": {},
   "outputs": [
    {
     "data": {
      "text/plain": [
       "[20, 25, 30, 35, 40, 45, 50, 55, 60]"
      ]
     },
     "execution_count": 28,
     "metadata": {},
     "output_type": "execute_result"
    }
   ],
   "source": [
    "age_bins[1:]"
   ]
  },
  {
   "cell_type": "code",
   "execution_count": 29,
   "id": "1f32f45c",
   "metadata": {},
   "outputs": [
    {
     "data": {
      "text/html": [
       "<div>\n",
       "<style scoped>\n",
       "    .dataframe tbody tr th:only-of-type {\n",
       "        vertical-align: middle;\n",
       "    }\n",
       "\n",
       "    .dataframe tbody tr th {\n",
       "        vertical-align: top;\n",
       "    }\n",
       "\n",
       "    .dataframe thead th {\n",
       "        text-align: right;\n",
       "    }\n",
       "</style>\n",
       "<table border=\"1\" class=\"dataframe\">\n",
       "  <thead>\n",
       "    <tr style=\"text-align: right;\">\n",
       "      <th></th>\n",
       "      <th>Age_Category</th>\n",
       "      <th>Total_Purchased_Count</th>\n",
       "    </tr>\n",
       "  </thead>\n",
       "  <tbody>\n",
       "    <tr>\n",
       "      <th>0</th>\n",
       "      <td>15 - 20</td>\n",
       "      <td>0</td>\n",
       "    </tr>\n",
       "    <tr>\n",
       "      <th>1</th>\n",
       "      <td>20 - 25</td>\n",
       "      <td>0</td>\n",
       "    </tr>\n",
       "    <tr>\n",
       "      <th>2</th>\n",
       "      <td>25 - 30</td>\n",
       "      <td>4</td>\n",
       "    </tr>\n",
       "    <tr>\n",
       "      <th>3</th>\n",
       "      <td>30 - 35</td>\n",
       "      <td>10</td>\n",
       "    </tr>\n",
       "    <tr>\n",
       "      <th>4</th>\n",
       "      <td>35 - 40</td>\n",
       "      <td>22</td>\n",
       "    </tr>\n",
       "    <tr>\n",
       "      <th>5</th>\n",
       "      <td>40 - 45</td>\n",
       "      <td>13</td>\n",
       "    </tr>\n",
       "    <tr>\n",
       "      <th>6</th>\n",
       "      <td>45 - 50</td>\n",
       "      <td>46</td>\n",
       "    </tr>\n",
       "    <tr>\n",
       "      <th>7</th>\n",
       "      <td>50 - 55</td>\n",
       "      <td>19</td>\n",
       "    </tr>\n",
       "    <tr>\n",
       "      <th>8</th>\n",
       "      <td>55 - 60</td>\n",
       "      <td>22</td>\n",
       "    </tr>\n",
       "  </tbody>\n",
       "</table>\n",
       "</div>"
      ],
      "text/plain": [
       "  Age_Category  Total_Purchased_Count\n",
       "0      15 - 20                      0\n",
       "1      20 - 25                      0\n",
       "2      25 - 30                      4\n",
       "3      30 - 35                     10\n",
       "4      35 - 40                     22\n",
       "5      40 - 45                     13\n",
       "6      45 - 50                     46\n",
       "7      50 - 55                     19\n",
       "8      55 - 60                     22"
      ]
     },
     "execution_count": 29,
     "metadata": {},
     "output_type": "execute_result"
    }
   ],
   "source": [
    "df_social.groupby('Age_Category').agg(Total_Purchased_Count = ('Purchased', 'sum')).reset_index()"
   ]
  },
  {
   "cell_type": "code",
   "execution_count": 30,
   "id": "4bb83c07",
   "metadata": {},
   "outputs": [
    {
     "data": {
      "text/html": [
       "<div>\n",
       "<style scoped>\n",
       "    .dataframe tbody tr th:only-of-type {\n",
       "        vertical-align: middle;\n",
       "    }\n",
       "\n",
       "    .dataframe tbody tr th {\n",
       "        vertical-align: top;\n",
       "    }\n",
       "\n",
       "    .dataframe thead th {\n",
       "        text-align: right;\n",
       "    }\n",
       "</style>\n",
       "<table border=\"1\" class=\"dataframe\">\n",
       "  <thead>\n",
       "    <tr style=\"text-align: right;\">\n",
       "      <th></th>\n",
       "      <th>Age_Category</th>\n",
       "      <th>Gender</th>\n",
       "      <th>Total_Purchased_Count</th>\n",
       "    </tr>\n",
       "  </thead>\n",
       "  <tbody>\n",
       "    <tr>\n",
       "      <th>0</th>\n",
       "      <td>15 - 20</td>\n",
       "      <td>Female</td>\n",
       "      <td>0</td>\n",
       "    </tr>\n",
       "    <tr>\n",
       "      <th>1</th>\n",
       "      <td>15 - 20</td>\n",
       "      <td>Male</td>\n",
       "      <td>0</td>\n",
       "    </tr>\n",
       "    <tr>\n",
       "      <th>2</th>\n",
       "      <td>20 - 25</td>\n",
       "      <td>Female</td>\n",
       "      <td>0</td>\n",
       "    </tr>\n",
       "    <tr>\n",
       "      <th>3</th>\n",
       "      <td>20 - 25</td>\n",
       "      <td>Male</td>\n",
       "      <td>0</td>\n",
       "    </tr>\n",
       "    <tr>\n",
       "      <th>4</th>\n",
       "      <td>25 - 30</td>\n",
       "      <td>Female</td>\n",
       "      <td>2</td>\n",
       "    </tr>\n",
       "    <tr>\n",
       "      <th>5</th>\n",
       "      <td>25 - 30</td>\n",
       "      <td>Male</td>\n",
       "      <td>2</td>\n",
       "    </tr>\n",
       "    <tr>\n",
       "      <th>6</th>\n",
       "      <td>30 - 35</td>\n",
       "      <td>Female</td>\n",
       "      <td>5</td>\n",
       "    </tr>\n",
       "    <tr>\n",
       "      <th>7</th>\n",
       "      <td>30 - 35</td>\n",
       "      <td>Male</td>\n",
       "      <td>5</td>\n",
       "    </tr>\n",
       "    <tr>\n",
       "      <th>8</th>\n",
       "      <td>35 - 40</td>\n",
       "      <td>Female</td>\n",
       "      <td>10</td>\n",
       "    </tr>\n",
       "    <tr>\n",
       "      <th>9</th>\n",
       "      <td>35 - 40</td>\n",
       "      <td>Male</td>\n",
       "      <td>12</td>\n",
       "    </tr>\n",
       "    <tr>\n",
       "      <th>10</th>\n",
       "      <td>40 - 45</td>\n",
       "      <td>Female</td>\n",
       "      <td>6</td>\n",
       "    </tr>\n",
       "    <tr>\n",
       "      <th>11</th>\n",
       "      <td>40 - 45</td>\n",
       "      <td>Male</td>\n",
       "      <td>7</td>\n",
       "    </tr>\n",
       "    <tr>\n",
       "      <th>12</th>\n",
       "      <td>45 - 50</td>\n",
       "      <td>Female</td>\n",
       "      <td>23</td>\n",
       "    </tr>\n",
       "    <tr>\n",
       "      <th>13</th>\n",
       "      <td>45 - 50</td>\n",
       "      <td>Male</td>\n",
       "      <td>23</td>\n",
       "    </tr>\n",
       "    <tr>\n",
       "      <th>14</th>\n",
       "      <td>50 - 55</td>\n",
       "      <td>Female</td>\n",
       "      <td>15</td>\n",
       "    </tr>\n",
       "    <tr>\n",
       "      <th>15</th>\n",
       "      <td>50 - 55</td>\n",
       "      <td>Male</td>\n",
       "      <td>4</td>\n",
       "    </tr>\n",
       "    <tr>\n",
       "      <th>16</th>\n",
       "      <td>55 - 60</td>\n",
       "      <td>Female</td>\n",
       "      <td>14</td>\n",
       "    </tr>\n",
       "    <tr>\n",
       "      <th>17</th>\n",
       "      <td>55 - 60</td>\n",
       "      <td>Male</td>\n",
       "      <td>8</td>\n",
       "    </tr>\n",
       "  </tbody>\n",
       "</table>\n",
       "</div>"
      ],
      "text/plain": [
       "   Age_Category  Gender  Total_Purchased_Count\n",
       "0       15 - 20  Female                      0\n",
       "1       15 - 20    Male                      0\n",
       "2       20 - 25  Female                      0\n",
       "3       20 - 25    Male                      0\n",
       "4       25 - 30  Female                      2\n",
       "5       25 - 30    Male                      2\n",
       "6       30 - 35  Female                      5\n",
       "7       30 - 35    Male                      5\n",
       "8       35 - 40  Female                     10\n",
       "9       35 - 40    Male                     12\n",
       "10      40 - 45  Female                      6\n",
       "11      40 - 45    Male                      7\n",
       "12      45 - 50  Female                     23\n",
       "13      45 - 50    Male                     23\n",
       "14      50 - 55  Female                     15\n",
       "15      50 - 55    Male                      4\n",
       "16      55 - 60  Female                     14\n",
       "17      55 - 60    Male                      8"
      ]
     },
     "execution_count": 30,
     "metadata": {},
     "output_type": "execute_result"
    }
   ],
   "source": [
    "df_social.groupby([ 'Age_Category','Gender']).agg(Total_Purchased_Count = ('Purchased', 'sum')).reset_index()"
   ]
  },
  {
   "cell_type": "markdown",
   "id": "9d25f93e",
   "metadata": {},
   "source": [
    "### Split the dataset into training and testing set"
   ]
  },
  {
   "cell_type": "code",
   "execution_count": 31,
   "id": "0366db18",
   "metadata": {},
   "outputs": [
    {
     "data": {
      "text/plain": [
       "Index(['User ID', 'Gender', 'Age', 'EstimatedSalary', 'Purchased',\n",
       "       'Age_Category'],\n",
       "      dtype='object')"
      ]
     },
     "execution_count": 31,
     "metadata": {},
     "output_type": "execute_result"
    }
   ],
   "source": [
    "df_social.columns"
   ]
  },
  {
   "cell_type": "code",
   "execution_count": 32,
   "id": "4e9abe55",
   "metadata": {},
   "outputs": [],
   "source": [
    "X = df_social[[ 'Age', 'EstimatedSalary']] #features"
   ]
  },
  {
   "cell_type": "code",
   "execution_count": 33,
   "id": "b75877a1",
   "metadata": {},
   "outputs": [
    {
     "data": {
      "text/html": [
       "<div>\n",
       "<style scoped>\n",
       "    .dataframe tbody tr th:only-of-type {\n",
       "        vertical-align: middle;\n",
       "    }\n",
       "\n",
       "    .dataframe tbody tr th {\n",
       "        vertical-align: top;\n",
       "    }\n",
       "\n",
       "    .dataframe thead th {\n",
       "        text-align: right;\n",
       "    }\n",
       "</style>\n",
       "<table border=\"1\" class=\"dataframe\">\n",
       "  <thead>\n",
       "    <tr style=\"text-align: right;\">\n",
       "      <th></th>\n",
       "      <th>Age</th>\n",
       "      <th>EstimatedSalary</th>\n",
       "    </tr>\n",
       "  </thead>\n",
       "  <tbody>\n",
       "    <tr>\n",
       "      <th>0</th>\n",
       "      <td>19</td>\n",
       "      <td>19000</td>\n",
       "    </tr>\n",
       "    <tr>\n",
       "      <th>1</th>\n",
       "      <td>35</td>\n",
       "      <td>20000</td>\n",
       "    </tr>\n",
       "    <tr>\n",
       "      <th>2</th>\n",
       "      <td>26</td>\n",
       "      <td>43000</td>\n",
       "    </tr>\n",
       "    <tr>\n",
       "      <th>3</th>\n",
       "      <td>27</td>\n",
       "      <td>57000</td>\n",
       "    </tr>\n",
       "    <tr>\n",
       "      <th>4</th>\n",
       "      <td>19</td>\n",
       "      <td>76000</td>\n",
       "    </tr>\n",
       "    <tr>\n",
       "      <th>...</th>\n",
       "      <td>...</td>\n",
       "      <td>...</td>\n",
       "    </tr>\n",
       "    <tr>\n",
       "      <th>395</th>\n",
       "      <td>46</td>\n",
       "      <td>41000</td>\n",
       "    </tr>\n",
       "    <tr>\n",
       "      <th>396</th>\n",
       "      <td>51</td>\n",
       "      <td>23000</td>\n",
       "    </tr>\n",
       "    <tr>\n",
       "      <th>397</th>\n",
       "      <td>50</td>\n",
       "      <td>20000</td>\n",
       "    </tr>\n",
       "    <tr>\n",
       "      <th>398</th>\n",
       "      <td>36</td>\n",
       "      <td>33000</td>\n",
       "    </tr>\n",
       "    <tr>\n",
       "      <th>399</th>\n",
       "      <td>49</td>\n",
       "      <td>36000</td>\n",
       "    </tr>\n",
       "  </tbody>\n",
       "</table>\n",
       "<p>400 rows × 2 columns</p>\n",
       "</div>"
      ],
      "text/plain": [
       "     Age  EstimatedSalary\n",
       "0     19            19000\n",
       "1     35            20000\n",
       "2     26            43000\n",
       "3     27            57000\n",
       "4     19            76000\n",
       "..   ...              ...\n",
       "395   46            41000\n",
       "396   51            23000\n",
       "397   50            20000\n",
       "398   36            33000\n",
       "399   49            36000\n",
       "\n",
       "[400 rows x 2 columns]"
      ]
     },
     "execution_count": 33,
     "metadata": {},
     "output_type": "execute_result"
    }
   ],
   "source": [
    "X"
   ]
  },
  {
   "cell_type": "code",
   "execution_count": 34,
   "id": "df83dbff",
   "metadata": {},
   "outputs": [
    {
     "data": {
      "text/html": [
       "<div>\n",
       "<style scoped>\n",
       "    .dataframe tbody tr th:only-of-type {\n",
       "        vertical-align: middle;\n",
       "    }\n",
       "\n",
       "    .dataframe tbody tr th {\n",
       "        vertical-align: top;\n",
       "    }\n",
       "\n",
       "    .dataframe thead th {\n",
       "        text-align: right;\n",
       "    }\n",
       "</style>\n",
       "<table border=\"1\" class=\"dataframe\">\n",
       "  <thead>\n",
       "    <tr style=\"text-align: right;\">\n",
       "      <th></th>\n",
       "      <th>Purchased</th>\n",
       "    </tr>\n",
       "  </thead>\n",
       "  <tbody>\n",
       "    <tr>\n",
       "      <th>0</th>\n",
       "      <td>0</td>\n",
       "    </tr>\n",
       "    <tr>\n",
       "      <th>1</th>\n",
       "      <td>0</td>\n",
       "    </tr>\n",
       "    <tr>\n",
       "      <th>2</th>\n",
       "      <td>0</td>\n",
       "    </tr>\n",
       "    <tr>\n",
       "      <th>3</th>\n",
       "      <td>0</td>\n",
       "    </tr>\n",
       "    <tr>\n",
       "      <th>4</th>\n",
       "      <td>0</td>\n",
       "    </tr>\n",
       "    <tr>\n",
       "      <th>...</th>\n",
       "      <td>...</td>\n",
       "    </tr>\n",
       "    <tr>\n",
       "      <th>395</th>\n",
       "      <td>1</td>\n",
       "    </tr>\n",
       "    <tr>\n",
       "      <th>396</th>\n",
       "      <td>1</td>\n",
       "    </tr>\n",
       "    <tr>\n",
       "      <th>397</th>\n",
       "      <td>1</td>\n",
       "    </tr>\n",
       "    <tr>\n",
       "      <th>398</th>\n",
       "      <td>0</td>\n",
       "    </tr>\n",
       "    <tr>\n",
       "      <th>399</th>\n",
       "      <td>1</td>\n",
       "    </tr>\n",
       "  </tbody>\n",
       "</table>\n",
       "<p>400 rows × 1 columns</p>\n",
       "</div>"
      ],
      "text/plain": [
       "     Purchased\n",
       "0            0\n",
       "1            0\n",
       "2            0\n",
       "3            0\n",
       "4            0\n",
       "..         ...\n",
       "395          1\n",
       "396          1\n",
       "397          1\n",
       "398          0\n",
       "399          1\n",
       "\n",
       "[400 rows x 1 columns]"
      ]
     },
     "execution_count": 34,
     "metadata": {},
     "output_type": "execute_result"
    }
   ],
   "source": [
    "y = df_social[['Purchased']] #target\n",
    "y"
   ]
  },
  {
   "cell_type": "code",
   "execution_count": 60,
   "id": "266ec1ce",
   "metadata": {},
   "outputs": [],
   "source": [
    "X_train, X_test, y_train, y_test = train_test_split(X,y,test_size=.20, random_state=25)"
   ]
  },
  {
   "cell_type": "code",
   "execution_count": 62,
   "id": "390d76a3",
   "metadata": {},
   "outputs": [],
   "source": [
    "X_train\n",
    "X_train_original = X_train.copy()"
   ]
  },
  {
   "cell_type": "code",
   "execution_count": 63,
   "id": "df77aaaa",
   "metadata": {},
   "outputs": [
    {
     "data": {
      "text/html": [
       "<div>\n",
       "<style scoped>\n",
       "    .dataframe tbody tr th:only-of-type {\n",
       "        vertical-align: middle;\n",
       "    }\n",
       "\n",
       "    .dataframe tbody tr th {\n",
       "        vertical-align: top;\n",
       "    }\n",
       "\n",
       "    .dataframe thead th {\n",
       "        text-align: right;\n",
       "    }\n",
       "</style>\n",
       "<table border=\"1\" class=\"dataframe\">\n",
       "  <thead>\n",
       "    <tr style=\"text-align: right;\">\n",
       "      <th></th>\n",
       "      <th>Purchased</th>\n",
       "    </tr>\n",
       "  </thead>\n",
       "  <tbody>\n",
       "    <tr>\n",
       "      <th>368</th>\n",
       "      <td>0</td>\n",
       "    </tr>\n",
       "    <tr>\n",
       "      <th>37</th>\n",
       "      <td>0</td>\n",
       "    </tr>\n",
       "    <tr>\n",
       "      <th>284</th>\n",
       "      <td>0</td>\n",
       "    </tr>\n",
       "    <tr>\n",
       "      <th>210</th>\n",
       "      <td>1</td>\n",
       "    </tr>\n",
       "    <tr>\n",
       "      <th>242</th>\n",
       "      <td>1</td>\n",
       "    </tr>\n",
       "    <tr>\n",
       "      <th>...</th>\n",
       "      <td>...</td>\n",
       "    </tr>\n",
       "    <tr>\n",
       "      <th>374</th>\n",
       "      <td>0</td>\n",
       "    </tr>\n",
       "    <tr>\n",
       "      <th>317</th>\n",
       "      <td>0</td>\n",
       "    </tr>\n",
       "    <tr>\n",
       "      <th>143</th>\n",
       "      <td>0</td>\n",
       "    </tr>\n",
       "    <tr>\n",
       "      <th>318</th>\n",
       "      <td>1</td>\n",
       "    </tr>\n",
       "    <tr>\n",
       "      <th>132</th>\n",
       "      <td>0</td>\n",
       "    </tr>\n",
       "  </tbody>\n",
       "</table>\n",
       "<p>320 rows × 1 columns</p>\n",
       "</div>"
      ],
      "text/plain": [
       "     Purchased\n",
       "368          0\n",
       "37           0\n",
       "284          0\n",
       "210          1\n",
       "242          1\n",
       "..         ...\n",
       "374          0\n",
       "317          0\n",
       "143          0\n",
       "318          1\n",
       "132          0\n",
       "\n",
       "[320 rows x 1 columns]"
      ]
     },
     "execution_count": 63,
     "metadata": {},
     "output_type": "execute_result"
    }
   ],
   "source": [
    "y_train"
   ]
  },
  {
   "cell_type": "markdown",
   "id": "f0c2e328",
   "metadata": {},
   "source": [
    "### Feature Scaling"
   ]
  },
  {
   "cell_type": "markdown",
   "id": "9540a89f",
   "metadata": {},
   "source": [
    "--Note: Decision trees can handle categorical variables without the need for `one-hot encoding"
   ]
  },
  {
   "cell_type": "code",
   "execution_count": 64,
   "id": "2172e9a4",
   "metadata": {},
   "outputs": [],
   "source": [
    "sc = StandardScaler()\n",
    "X_train = sc.fit_transform(X_train)\n",
    "X_test = sc.transform(X_test)"
   ]
  },
  {
   "cell_type": "code",
   "execution_count": 65,
   "id": "7ecd4368",
   "metadata": {},
   "outputs": [
    {
     "data": {
      "text/plain": [
       "array([[ 0.04326431,  0.01457333],\n",
       "       [-0.71534282, -0.62665307],\n",
       "       [ 0.99152323,  2.05483912],\n",
       "       [ 0.99152323,  0.74323968],\n",
       "       [ 1.18117501,  0.51006645],\n",
       "       [-0.24121336,  0.59750641],\n",
       "       [-1.75842763, -1.44275938],\n",
       "       [-1.66360174, -1.00555957],\n",
       "       [-0.52569104,  1.8799592 ],\n",
       "       [ 1.3708268 , -0.94726626],\n",
       "       [ 1.08634912,  0.5392131 ],\n",
       "       [ 1.08634912, -0.1603066 ],\n",
       "       [ 0.42256788, -0.18945325],\n",
       "       [-0.9049946 ,  0.5392131 ],\n",
       "       [-1.37912406, -1.2387328 ],\n",
       "       [ 0.32774199, -0.33518652],\n",
       "       [ 0.61221966, -0.91811961],\n",
       "       [ 0.80187145, -1.2387328 ],\n",
       "       [-0.24121336, -0.1603066 ],\n",
       "       [ 0.42256788, -0.1603066 ],\n",
       "       [-1.75842763,  0.1603066 ],\n",
       "       [-0.14638747, -0.59750641],\n",
       "       [ 1.3708268 , -1.44275938],\n",
       "       [ 0.04326431,  0.01457333],\n",
       "       [ 1.46565269,  2.11313243],\n",
       "       [ 0.04326431, -0.56835976],\n",
       "       [-0.81016871,  2.2588657 ],\n",
       "       [ 2.03460804,  1.73422592],\n",
       "       [-0.43086515, -0.30603987],\n",
       "       [-0.24121336, -0.59750641],\n",
       "       [ 0.1380902 ,  1.50105269],\n",
       "       [-0.33603925,  1.20958615],\n",
       "       [-0.71534282, -0.24774656],\n",
       "       [ 1.08634912, -1.00555957],\n",
       "       [ 0.80187145,  0.51006645],\n",
       "       [-1.75842763,  0.42262649],\n",
       "       [ 1.93978215,  0.88897295],\n",
       "       [ 0.42256788, -0.48091979],\n",
       "       [ 0.04326431, -0.59750641],\n",
       "       [-0.24121336, -1.41361273],\n",
       "       [-0.05156158,  0.18945325],\n",
       "       [ 0.99152323,  1.85081254],\n",
       "       [-0.14638747,  1.58849265],\n",
       "       [-0.62051693, -1.61763931],\n",
       "       [-1.28429817, -0.45177314],\n",
       "       [-0.43086515,  1.2387328 ],\n",
       "       [-0.43086515, -0.04371998],\n",
       "       [-0.9998205 ,  1.9382525 ],\n",
       "       [ 0.61221966,  1.99654581],\n",
       "       [-0.33603925, -0.80153299],\n",
       "       [-0.24121336,  0.04371998],\n",
       "       [ 1.84495626, -0.30603987],\n",
       "       [-1.47394995, -1.53019934],\n",
       "       [ 0.80187145, -1.41361273],\n",
       "       [ 1.08634912, -1.2387328 ],\n",
       "       [-0.9049946 ,  0.48091979],\n",
       "       [-0.71534282, -1.61763931],\n",
       "       [ 0.04326431, -0.33518652],\n",
       "       [-0.24121336, -0.39347983],\n",
       "       [ 0.42256788,  0.24774656],\n",
       "       [ 0.1380902 ,  0.74323968],\n",
       "       [ 0.99152323,  0.56835976],\n",
       "       [-0.24121336,  0.51006645],\n",
       "       [ 0.42256788,  0.27689321],\n",
       "       [-0.52569104, -1.53019934],\n",
       "       [-0.71534282,  1.32617277],\n",
       "       [ 0.99152323, -1.18043949],\n",
       "       [ 2.12943393, -1.06385288],\n",
       "       [-0.9998205 , -1.559346  ],\n",
       "       [ 1.75013036, -0.30603987],\n",
       "       [ 0.1380902 ,  0.24774656],\n",
       "       [ 0.2329161 ,  1.06385288],\n",
       "       [-0.24121336, -0.51006645],\n",
       "       [ 0.1380902 ,  0.18945325],\n",
       "       [-0.05156158, -0.51006645],\n",
       "       [-1.28429817, -1.50105269],\n",
       "       [ 0.32774199, -0.56835976],\n",
       "       [ 1.46565269, -1.06385288],\n",
       "       [ 0.1380902 ,  0.01457333],\n",
       "       [-1.56877585, -0.07286664],\n",
       "       [-1.66360174,  0.10201329],\n",
       "       [-1.56877585,  0.04371998],\n",
       "       [ 0.1380902 , -0.83067964],\n",
       "       [ 0.1380902 ,  1.85081254],\n",
       "       [-0.24121336, -1.47190604],\n",
       "       [ 1.08634912,  2.05483912],\n",
       "       [ 0.89669734, -1.32617277],\n",
       "       [ 0.32774199, -0.5392131 ],\n",
       "       [ 0.42256788, -0.51006645],\n",
       "       [-0.62051693, -0.07286664],\n",
       "       [ 0.80187145,  0.74323968],\n",
       "       [ 0.04326431, -0.27689321],\n",
       "       [-0.9998205 , -1.47190604],\n",
       "       [-1.18947228,  0.27689321],\n",
       "       [ 0.99152323, -1.09299953],\n",
       "       [ 0.1380902 , -0.33518652],\n",
       "       [-0.62051693,  0.10201329],\n",
       "       [-1.28429817, -0.36433318],\n",
       "       [-0.9049946 ,  0.42262649],\n",
       "       [-0.9998205 , -0.39347983],\n",
       "       [ 0.2329161 , -0.1603066 ],\n",
       "       [ 0.32774199, -0.30603987],\n",
       "       [-1.18947228, -1.41361273],\n",
       "       [ 0.89669734,  1.06385288],\n",
       "       [ 1.75013036,  0.97641292],\n",
       "       [ 1.84495626, -1.29702611],\n",
       "       [-0.14638747,  1.38446607],\n",
       "       [ 1.3708268 ,  1.26787946],\n",
       "       [-1.09464639, -1.18043949],\n",
       "       [ 0.1380902 ,  0.13115994],\n",
       "       [-0.14638747,  0.13115994],\n",
       "       [-1.75842763, -1.50105269],\n",
       "       [ 1.08634912,  0.45177314],\n",
       "       [-0.14638747, -1.09299953],\n",
       "       [-1.09464639, -0.5392131 ],\n",
       "       [-0.24121336, -0.33518652],\n",
       "       [-0.52569104, -1.53019934],\n",
       "       [-0.81016871, -1.2387328 ],\n",
       "       [ 0.51739377,  1.20958615],\n",
       "       [ 0.2329161 , -0.68494637],\n",
       "       [-1.47394995, -1.26787946],\n",
       "       [ 0.32774199,  0.04371998],\n",
       "       [-0.05156158,  0.27689321],\n",
       "       [-0.9998205 ,  0.56835976],\n",
       "       [-1.09464639,  0.27689321],\n",
       "       [ 0.99152323,  1.41361273],\n",
       "       [-1.09464639,  1.38446607],\n",
       "       [-0.62051693,  1.38446607],\n",
       "       [ 1.18117501, -0.77238634],\n",
       "       [-1.37912406, -0.21859991],\n",
       "       [-0.24121336,  0.04371998],\n",
       "       [ 0.99152323,  1.76337258],\n",
       "       [-1.56877585, -1.58849265],\n",
       "       [ 0.04326431, -0.1603066 ],\n",
       "       [ 0.89669734,  1.00555957],\n",
       "       [-0.05156158, -0.01457333],\n",
       "       [-0.43086515,  2.28801235],\n",
       "       [ 1.27600091,  2.20057239],\n",
       "       [-0.05156158, -0.39347983],\n",
       "       [-1.56877585,  0.51006645],\n",
       "       [ 1.84495626,  0.10201329],\n",
       "       [-0.81016871, -0.80153299],\n",
       "       [-0.24121336,  0.24774656],\n",
       "       [-0.43086515, -0.56835976],\n",
       "       [-0.62051693,  0.5392131 ],\n",
       "       [-1.09464639,  0.27689321],\n",
       "       [-0.9998205 ,  0.5392131 ],\n",
       "       [-0.24121336,  0.13115994],\n",
       "       [-0.52569104,  2.31715901],\n",
       "       [-0.71534282,  0.24774656],\n",
       "       [ 0.2329161 ,  0.13115994],\n",
       "       [ 0.2329161 , -0.39347983],\n",
       "       [-0.9049946 , -1.12214619],\n",
       "       [ 0.99152323,  1.96739916],\n",
       "       [-1.09464639,  0.04371998],\n",
       "       [ 0.42256788,  0.97641292],\n",
       "       [ 0.2329161 ,  2.08398577],\n",
       "       [ 1.93978215,  2.14227908],\n",
       "       [ 0.42256788, -0.1603066 ],\n",
       "       [-0.24121336, -1.26787946],\n",
       "       [ 0.2329161 ,  0.01457333],\n",
       "       [ 0.32774199,  0.04371998],\n",
       "       [-0.05156158,  2.14227908],\n",
       "       [ 0.1380902 , -0.83067964],\n",
       "       [-0.24121336, -0.77238634],\n",
       "       [ 1.56047858, -0.01457333],\n",
       "       [ 0.99152323, -1.09299953],\n",
       "       [ 1.46565269,  0.04371998],\n",
       "       [ 2.12943393,  0.91811961],\n",
       "       [-0.52569104,  1.44275938],\n",
       "       [ 0.32774199,  0.04371998],\n",
       "       [-0.24121336, -0.36433318],\n",
       "       [-1.09464639, -1.12214619],\n",
       "       [ 0.89669734, -0.62665307],\n",
       "       [-1.66360174, -0.62665307],\n",
       "       [-0.24121336,  0.07286664],\n",
       "       [-0.24121336,  1.09299953],\n",
       "       [-0.52569104,  1.35531942],\n",
       "       [ 1.46565269,  0.33518652],\n",
       "       [-0.62051693, -0.13115994],\n",
       "       [ 0.42256788, -0.01457333],\n",
       "       [-0.52569104,  1.35531942],\n",
       "       [-1.85325352, -0.07286664],\n",
       "       [ 0.1380902 ,  0.07286664],\n",
       "       [ 0.51739377,  1.70507927],\n",
       "       [ 0.89669734, -1.47190604],\n",
       "       [-0.24121336, -0.59750641],\n",
       "       [-0.14638747,  1.61763931],\n",
       "       [ 2.12943393,  1.09299953],\n",
       "       [ 0.2329161 ,  0.04371998],\n",
       "       [ 1.08634912,  0.51006645],\n",
       "       [-1.18947228, -1.09299953],\n",
       "       [-0.14638747, -0.48091979],\n",
       "       [-1.09464639,  0.45177314],\n",
       "       [-0.9998205 , -0.36433318],\n",
       "       [ 1.93978215, -1.38446607],\n",
       "       [ 1.18117501, -1.00555957],\n",
       "       [-0.24121336,  2.22971905],\n",
       "       [ 1.93978215,  0.71409303],\n",
       "       [-1.75842763, -0.01457333],\n",
       "       [-0.81016871,  0.27689321],\n",
       "       [-0.9049946 , -0.97641292],\n",
       "       [-0.9049946 , -0.33518652],\n",
       "       [ 0.70704556, -1.41361273],\n",
       "       [-0.71534282, -1.559346  ],\n",
       "       [ 0.32774199,  0.27689321],\n",
       "       [ 2.03460804,  0.36433318],\n",
       "       [ 0.42256788,  0.56835976],\n",
       "       [-0.81016871,  0.13115994],\n",
       "       [ 0.32774199, -0.5392131 ],\n",
       "       [-0.81016871,  0.36433318],\n",
       "       [-0.24121336, -0.27689321],\n",
       "       [ 0.42256788,  0.07286664],\n",
       "       [-0.71534282,  0.27689321],\n",
       "       [ 2.12943393, -0.83067964],\n",
       "       [ 1.75013036,  1.82166589],\n",
       "       [ 2.12943393, -0.83067964],\n",
       "       [ 0.2329161 ,  0.21859991],\n",
       "       [ 0.1380902 ,  1.85081254],\n",
       "       [-1.28429817, -0.45177314],\n",
       "       [-0.05156158,  0.21859991],\n",
       "       [ 0.89669734, -1.18043949],\n",
       "       [-0.9998205 ,  0.74323968],\n",
       "       [-1.28429817, -1.26787946],\n",
       "       [-0.62051693,  0.1603066 ],\n",
       "       [-0.62051693, -1.53019934],\n",
       "       [ 0.89669734, -0.80153299],\n",
       "       [ 0.70704556, -1.29702611],\n",
       "       [-0.43086515, -0.80153299],\n",
       "       [-1.85325352,  0.45177314],\n",
       "       [-1.75842763, -1.32617277],\n",
       "       [ 0.32774199, -1.18043949],\n",
       "       [ 0.1380902 ,  0.01457333],\n",
       "       [ 0.99152323, -1.03470622],\n",
       "       [-0.9998205 , -0.36433318],\n",
       "       [ 1.56047858, -1.29702611],\n",
       "       [-1.09464639, -1.559346  ],\n",
       "       [-0.43086515, -0.8598263 ],\n",
       "       [ 0.42256788,  1.09299953],\n",
       "       [-0.05156158, -0.5392131 ],\n",
       "       [-1.75842763, -1.29702611],\n",
       "       [ 1.93978215, -0.94726626],\n",
       "       [-0.9049946 ,  0.39347983],\n",
       "       [ 0.04326431,  1.2387328 ],\n",
       "       [-1.37912406,  0.33518652],\n",
       "       [-1.37912406, -0.13115994],\n",
       "       [-0.24121336, -1.38446607],\n",
       "       [-1.18947228,  0.24774656],\n",
       "       [ 0.2329161 , -0.27689321],\n",
       "       [ 0.42256788,  0.27689321],\n",
       "       [-0.62051693,  0.01457333],\n",
       "       [-0.33603925,  0.04371998],\n",
       "       [ 1.08634912, -1.2387328 ],\n",
       "       [-0.14638747, -0.21859991],\n",
       "       [-1.85325352, -0.5392131 ],\n",
       "       [ 0.89669734, -0.56835976],\n",
       "       [ 2.03460804,  0.1603066 ],\n",
       "       [-1.28429817,  0.39347983],\n",
       "       [ 0.42256788,  0.13115994],\n",
       "       [ 0.51739377,  1.82166589],\n",
       "       [-1.85325352, -0.77238634],\n",
       "       [ 1.27600091,  1.85081254],\n",
       "       [ 2.03460804, -1.20958615],\n",
       "       [-1.85325352,  0.33518652],\n",
       "       [-1.28429817,  0.5392131 ],\n",
       "       [ 1.3708268 ,  2.31715901],\n",
       "       [ 2.03460804, -0.83067964],\n",
       "       [ 1.27600091, -1.38446607],\n",
       "       [-1.47394995,  0.30603987],\n",
       "       [-0.33603925,  1.29702611],\n",
       "       [-1.09464639, -0.80153299],\n",
       "       [-0.05156158,  0.10201329],\n",
       "       [ 0.99152323, -0.8598263 ],\n",
       "       [-0.9049946 ,  0.24774656],\n",
       "       [-0.14638747,  2.14227908],\n",
       "       [-0.62051693, -0.36433318],\n",
       "       [-0.24121336,  0.13115994],\n",
       "       [-1.47394995, -0.45177314],\n",
       "       [ 0.42256788,  2.28801235],\n",
       "       [ 0.80187145,  0.24774656],\n",
       "       [-0.14638747,  0.83067964],\n",
       "       [ 1.65530447, -0.91811961],\n",
       "       [-1.09464639, -1.61763931],\n",
       "       [ 2.03460804,  2.11313243],\n",
       "       [ 0.32774199,  0.48091979],\n",
       "       [-1.09464639, -1.03470622],\n",
       "       [-0.05156158,  0.24774656],\n",
       "       [ 1.56047858,  0.97641292],\n",
       "       [-0.9049946 , -0.33518652],\n",
       "       [-0.52569104,  0.8598263 ],\n",
       "       [-0.71534282,  1.06385288],\n",
       "       [-0.43086515, -1.2387328 ],\n",
       "       [-1.28429817, -1.12214619],\n",
       "       [ 0.04326431,  0.27689321],\n",
       "       [-0.33603925, -1.32617277],\n",
       "       [ 1.08634912,  0.10201329],\n",
       "       [-0.9998205 , -0.48091979],\n",
       "       [ 0.2329161 , -0.30603987],\n",
       "       [ 0.2329161 , -0.39347983],\n",
       "       [-0.43086515, -1.15129284],\n",
       "       [ 0.99152323,  0.10201329],\n",
       "       [ 1.46565269,  0.97641292],\n",
       "       [ 1.84495626, -1.09299953],\n",
       "       [-1.09464639,  0.30603987],\n",
       "       [ 0.70704556,  1.76337258],\n",
       "       [-0.24121336,  0.01457333],\n",
       "       [-1.09464639,  0.39347983],\n",
       "       [ 0.70704556, -0.74323968],\n",
       "       [ 0.32774199, -0.21859991],\n",
       "       [ 0.89669734, -1.06385288],\n",
       "       [ 0.80187145, -0.33518652],\n",
       "       [-1.66360174,  0.33518652],\n",
       "       [-0.05156158,  2.20057239],\n",
       "       [ 0.32774199, -0.74323968],\n",
       "       [ 1.3708268 ,  0.56835976],\n",
       "       [-0.05156158,  0.27689321],\n",
       "       [-0.24121336, -0.45177314],\n",
       "       [-0.71534282,  0.5392131 ],\n",
       "       [ 0.70704556, -1.12214619],\n",
       "       [-0.71534282,  0.48091979]])"
      ]
     },
     "execution_count": 65,
     "metadata": {},
     "output_type": "execute_result"
    }
   ],
   "source": [
    "X_train"
   ]
  },
  {
   "cell_type": "code",
   "execution_count": 66,
   "id": "abbced51",
   "metadata": {},
   "outputs": [],
   "source": [
    "X_train_df = pd.DataFrame(X_train, columns=['Age', 'Estimated Salary'])"
   ]
  },
  {
   "cell_type": "code",
   "execution_count": 67,
   "id": "0312a885",
   "metadata": {},
   "outputs": [
    {
     "data": {
      "text/html": [
       "<div>\n",
       "<style scoped>\n",
       "    .dataframe tbody tr th:only-of-type {\n",
       "        vertical-align: middle;\n",
       "    }\n",
       "\n",
       "    .dataframe tbody tr th {\n",
       "        vertical-align: top;\n",
       "    }\n",
       "\n",
       "    .dataframe thead th {\n",
       "        text-align: right;\n",
       "    }\n",
       "</style>\n",
       "<table border=\"1\" class=\"dataframe\">\n",
       "  <thead>\n",
       "    <tr style=\"text-align: right;\">\n",
       "      <th></th>\n",
       "      <th>Age</th>\n",
       "      <th>Estimated Salary</th>\n",
       "    </tr>\n",
       "  </thead>\n",
       "  <tbody>\n",
       "    <tr>\n",
       "      <th>0</th>\n",
       "      <td>0.043264</td>\n",
       "      <td>0.014573</td>\n",
       "    </tr>\n",
       "    <tr>\n",
       "      <th>1</th>\n",
       "      <td>-0.715343</td>\n",
       "      <td>-0.626653</td>\n",
       "    </tr>\n",
       "    <tr>\n",
       "      <th>2</th>\n",
       "      <td>0.991523</td>\n",
       "      <td>2.054839</td>\n",
       "    </tr>\n",
       "    <tr>\n",
       "      <th>3</th>\n",
       "      <td>0.991523</td>\n",
       "      <td>0.743240</td>\n",
       "    </tr>\n",
       "    <tr>\n",
       "      <th>4</th>\n",
       "      <td>1.181175</td>\n",
       "      <td>0.510066</td>\n",
       "    </tr>\n",
       "    <tr>\n",
       "      <th>...</th>\n",
       "      <td>...</td>\n",
       "      <td>...</td>\n",
       "    </tr>\n",
       "    <tr>\n",
       "      <th>315</th>\n",
       "      <td>-0.051562</td>\n",
       "      <td>0.276893</td>\n",
       "    </tr>\n",
       "    <tr>\n",
       "      <th>316</th>\n",
       "      <td>-0.241213</td>\n",
       "      <td>-0.451773</td>\n",
       "    </tr>\n",
       "    <tr>\n",
       "      <th>317</th>\n",
       "      <td>-0.715343</td>\n",
       "      <td>0.539213</td>\n",
       "    </tr>\n",
       "    <tr>\n",
       "      <th>318</th>\n",
       "      <td>0.707046</td>\n",
       "      <td>-1.122146</td>\n",
       "    </tr>\n",
       "    <tr>\n",
       "      <th>319</th>\n",
       "      <td>-0.715343</td>\n",
       "      <td>0.480920</td>\n",
       "    </tr>\n",
       "  </tbody>\n",
       "</table>\n",
       "<p>320 rows × 2 columns</p>\n",
       "</div>"
      ],
      "text/plain": [
       "          Age  Estimated Salary\n",
       "0    0.043264          0.014573\n",
       "1   -0.715343         -0.626653\n",
       "2    0.991523          2.054839\n",
       "3    0.991523          0.743240\n",
       "4    1.181175          0.510066\n",
       "..        ...               ...\n",
       "315 -0.051562          0.276893\n",
       "316 -0.241213         -0.451773\n",
       "317 -0.715343          0.539213\n",
       "318  0.707046         -1.122146\n",
       "319 -0.715343          0.480920\n",
       "\n",
       "[320 rows x 2 columns]"
      ]
     },
     "execution_count": 67,
     "metadata": {},
     "output_type": "execute_result"
    }
   ],
   "source": [
    "X_train_df"
   ]
  },
  {
   "cell_type": "code",
   "execution_count": 68,
   "id": "d1423495",
   "metadata": {},
   "outputs": [
    {
     "data": {
      "image/png": "[encoded data removed]",
      "text/plain": [
       "<Figure size 720x432 with 1 Axes>"
      ]
     },
     "metadata": {},
     "output_type": "display_data"
    }
   ],
   "source": [
    "plt.subplots(figsize=(10,6))\n",
    "sns.histplot(X_train_df['Age'], kde=True)\n",
    "# plt.legend()\n",
    "plt.show()"
   ]
  },
  {
   "attachments": {
    "image.png": {
     "image/png": "[encoded data removed]"
    }
   },
   "cell_type": "markdown",
   "id": "f3207a0a",
   "metadata": {},
   "source": [
    "![image.png](attachment:image.png)"
   ]
  },
  {
   "cell_type": "markdown",
   "id": "47ab375c",
   "metadata": {},
   "source": [
    "### Training the decision tree model"
   ]
  },
  {
   "cell_type": "code",
   "execution_count": 69,
   "id": "e130aba3",
   "metadata": {},
   "outputs": [
    {
     "data": {
      "text/plain": [
       "DecisionTreeClassifier(max_depth=2, random_state=10)"
      ]
     },
     "execution_count": 69,
     "metadata": {},
     "output_type": "execute_result"
    }
   ],
   "source": [
    "dt_model = DecisionTreeClassifier(criterion='gini', random_state=10, max_depth=2 )\n",
    "dt_model.fit(X_train, y_train)"
   ]
  },
  {
   "cell_type": "markdown",
   "id": "e2414d53",
   "metadata": {},
   "source": [
    "### Predicting a new result"
   ]
  },
  {
   "cell_type": "code",
   "execution_count": 70,
   "id": "4adf5606",
   "metadata": {},
   "outputs": [],
   "source": [
    "pred_values = dt_model.predict(X_test)"
   ]
  },
  {
   "cell_type": "markdown",
   "id": "4b75f30d",
   "metadata": {},
   "source": [
    "### Plot the confusion matrix"
   ]
  },
  {
   "cell_type": "code",
   "execution_count": 71,
   "id": "1efcc06c",
   "metadata": {},
   "outputs": [],
   "source": [
    "from sklearn.metrics import confusion_matrix, accuracy_score"
   ]
  },
  {
   "cell_type": "code",
   "execution_count": 72,
   "id": "a15a3fbb",
   "metadata": {},
   "outputs": [],
   "source": [
    "cm = confusion_matrix(y_test, pred_values)"
   ]
  },
  {
   "cell_type": "code",
   "execution_count": 73,
   "id": "8c9e6d79",
   "metadata": {},
   "outputs": [
    {
     "data": {
      "text/plain": [
       "array([[47,  6],\n",
       "       [ 0, 27]], dtype=int64)"
      ]
     },
     "execution_count": 73,
     "metadata": {},
     "output_type": "execute_result"
    }
   ],
   "source": [
    "cm"
   ]
  },
  {
   "cell_type": "code",
   "execution_count": 74,
   "id": "fcceb51d",
   "metadata": {},
   "outputs": [
    {
     "data": {
      "image/png": "[encoded data removed]",
      "text/plain": [
       "<Figure size 576x360 with 2 Axes>"
      ]
     },
     "metadata": {},
     "output_type": "display_data"
    }
   ],
   "source": [
    "plt.subplots(figsize = (8,5))\n",
    "sns.set(font_scale=1.5)\n",
    "sns.heatmap(cm, annot=True, fmt='d', cmap='Blues')\n",
    "plt.title(\"Confusion Matrix Table\", fontsize=20)\n",
    "plt.xlabel('Actual Values', fontsize=16)\n",
    "plt.ylabel('Predicted Values', fontsize=16)\n",
    "\n",
    "plt.show()"
   ]
  },
  {
   "cell_type": "code",
   "execution_count": 75,
   "id": "4e0fc4f4",
   "metadata": {},
   "outputs": [
    {
     "data": {
      "text/plain": [
       "0.7875"
      ]
     },
     "execution_count": 75,
     "metadata": {},
     "output_type": "execute_result"
    }
   ],
   "source": [
    "63/80"
   ]
  },
  {
   "cell_type": "code",
   "execution_count": 76,
   "id": "df23d286",
   "metadata": {},
   "outputs": [
    {
     "data": {
      "text/plain": [
       "0.85"
      ]
     },
     "execution_count": 76,
     "metadata": {},
     "output_type": "execute_result"
    }
   ],
   "source": [
    "68/80"
   ]
  },
  {
   "cell_type": "markdown",
   "id": "5e4ffe8a",
   "metadata": {},
   "source": [
    "### H/W Calculate `avg accuracy` using `K-fold cross validation"
   ]
  },
  {
   "cell_type": "code",
   "execution_count": 77,
   "id": "2af0acf5",
   "metadata": {},
   "outputs": [
    {
     "data": {
      "image/png": "[encoded data removed]",
      "text/plain": [
       "<Figure size 864x576 with 1 Axes>"
      ]
     },
     "metadata": {},
     "output_type": "display_data"
    }
   ],
   "source": [
    "plt.figure(figsize=(12,8))\n",
    "from sklearn import tree\n",
    "tree.plot_tree(dt_model.fit(X_test,y_test))\n",
    "plt.show()"
   ]
  },
  {
   "cell_type": "code",
   "execution_count": 78,
   "id": "ee39f604",
   "metadata": {},
   "outputs": [],
   "source": [
    "from sklearn.tree import plot_tree"
   ]
  },
  {
   "cell_type": "code",
   "execution_count": 79,
   "id": "14ad2be4",
   "metadata": {},
   "outputs": [
    {
     "data": {
      "image/png": "[encoded data removed]",
      "text/plain": [
       "<Figure size 2160x720 with 1 Axes>"
      ]
     },
     "metadata": {},
     "output_type": "display_data"
    }
   ],
   "source": [
    "plt.figure(figsize=(30,10))\n",
    "\n",
    "plot_tree(dt_model, feature_names=['Age', 'Estimated Salary'],\n",
    "         impurity='False', filled='True', fontsize=24)\n",
    "plt.show()"
   ]
  },
  {
   "attachments": {
    "image.png": {
     "image/png": "[encoded data removed]"
    }
   },
   "cell_type": "markdown",
   "id": "94c9c347",
   "metadata": {},
   "source": [
    "![image.png](attachment:image.png)"
   ]
  },
  {
   "cell_type": "markdown",
   "id": "b3d23f0e",
   "metadata": {},
   "source": [
    "### Q. Map the original data to the dt_model "
   ]
  },
  {
   "cell_type": "code",
   "execution_count": 80,
   "id": "c68034ba",
   "metadata": {},
   "outputs": [
    {
     "data": {
      "text/plain": [
       "array([[ 0.04326431,  0.01457333],\n",
       "       [-0.71534282, -0.62665307],\n",
       "       [ 0.99152323,  2.05483912],\n",
       "       [ 0.99152323,  0.74323968],\n",
       "       [ 1.18117501,  0.51006645],\n",
       "       [-0.24121336,  0.59750641],\n",
       "       [-1.75842763, -1.44275938],\n",
       "       [-1.66360174, -1.00555957],\n",
       "       [-0.52569104,  1.8799592 ],\n",
       "       [ 1.3708268 , -0.94726626],\n",
       "       [ 1.08634912,  0.5392131 ],\n",
       "       [ 1.08634912, -0.1603066 ],\n",
       "       [ 0.42256788, -0.18945325],\n",
       "       [-0.9049946 ,  0.5392131 ],\n",
       "       [-1.37912406, -1.2387328 ],\n",
       "       [ 0.32774199, -0.33518652],\n",
       "       [ 0.61221966, -0.91811961],\n",
       "       [ 0.80187145, -1.2387328 ],\n",
       "       [-0.24121336, -0.1603066 ],\n",
       "       [ 0.42256788, -0.1603066 ],\n",
       "       [-1.75842763,  0.1603066 ],\n",
       "       [-0.14638747, -0.59750641],\n",
       "       [ 1.3708268 , -1.44275938],\n",
       "       [ 0.04326431,  0.01457333],\n",
       "       [ 1.46565269,  2.11313243],\n",
       "       [ 0.04326431, -0.56835976],\n",
       "       [-0.81016871,  2.2588657 ],\n",
       "       [ 2.03460804,  1.73422592],\n",
       "       [-0.43086515, -0.30603987],\n",
       "       [-0.24121336, -0.59750641],\n",
       "       [ 0.1380902 ,  1.50105269],\n",
       "       [-0.33603925,  1.20958615],\n",
       "       [-0.71534282, -0.24774656],\n",
       "       [ 1.08634912, -1.00555957],\n",
       "       [ 0.80187145,  0.51006645],\n",
       "       [-1.75842763,  0.42262649],\n",
       "       [ 1.93978215,  0.88897295],\n",
       "       [ 0.42256788, -0.48091979],\n",
       "       [ 0.04326431, -0.59750641],\n",
       "       [-0.24121336, -1.41361273],\n",
       "       [-0.05156158,  0.18945325],\n",
       "       [ 0.99152323,  1.85081254],\n",
       "       [-0.14638747,  1.58849265],\n",
       "       [-0.62051693, -1.61763931],\n",
       "       [-1.28429817, -0.45177314],\n",
       "       [-0.43086515,  1.2387328 ],\n",
       "       [-0.43086515, -0.04371998],\n",
       "       [-0.9998205 ,  1.9382525 ],\n",
       "       [ 0.61221966,  1.99654581],\n",
       "       [-0.33603925, -0.80153299],\n",
       "       [-0.24121336,  0.04371998],\n",
       "       [ 1.84495626, -0.30603987],\n",
       "       [-1.47394995, -1.53019934],\n",
       "       [ 0.80187145, -1.41361273],\n",
       "       [ 1.08634912, -1.2387328 ],\n",
       "       [-0.9049946 ,  0.48091979],\n",
       "       [-0.71534282, -1.61763931],\n",
       "       [ 0.04326431, -0.33518652],\n",
       "       [-0.24121336, -0.39347983],\n",
       "       [ 0.42256788,  0.24774656],\n",
       "       [ 0.1380902 ,  0.74323968],\n",
       "       [ 0.99152323,  0.56835976],\n",
       "       [-0.24121336,  0.51006645],\n",
       "       [ 0.42256788,  0.27689321],\n",
       "       [-0.52569104, -1.53019934],\n",
       "       [-0.71534282,  1.32617277],\n",
       "       [ 0.99152323, -1.18043949],\n",
       "       [ 2.12943393, -1.06385288],\n",
       "       [-0.9998205 , -1.559346  ],\n",
       "       [ 1.75013036, -0.30603987],\n",
       "       [ 0.1380902 ,  0.24774656],\n",
       "       [ 0.2329161 ,  1.06385288],\n",
       "       [-0.24121336, -0.51006645],\n",
       "       [ 0.1380902 ,  0.18945325],\n",
       "       [-0.05156158, -0.51006645],\n",
       "       [-1.28429817, -1.50105269],\n",
       "       [ 0.32774199, -0.56835976],\n",
       "       [ 1.46565269, -1.06385288],\n",
       "       [ 0.1380902 ,  0.01457333],\n",
       "       [-1.56877585, -0.07286664],\n",
       "       [-1.66360174,  0.10201329],\n",
       "       [-1.56877585,  0.04371998],\n",
       "       [ 0.1380902 , -0.83067964],\n",
       "       [ 0.1380902 ,  1.85081254],\n",
       "       [-0.24121336, -1.47190604],\n",
       "       [ 1.08634912,  2.05483912],\n",
       "       [ 0.89669734, -1.32617277],\n",
       "       [ 0.32774199, -0.5392131 ],\n",
       "       [ 0.42256788, -0.51006645],\n",
       "       [-0.62051693, -0.07286664],\n",
       "       [ 0.80187145,  0.74323968],\n",
       "       [ 0.04326431, -0.27689321],\n",
       "       [-0.9998205 , -1.47190604],\n",
       "       [-1.18947228,  0.27689321],\n",
       "       [ 0.99152323, -1.09299953],\n",
       "       [ 0.1380902 , -0.33518652],\n",
       "       [-0.62051693,  0.10201329],\n",
       "       [-1.28429817, -0.36433318],\n",
       "       [-0.9049946 ,  0.42262649],\n",
       "       [-0.9998205 , -0.39347983],\n",
       "       [ 0.2329161 , -0.1603066 ],\n",
       "       [ 0.32774199, -0.30603987],\n",
       "       [-1.18947228, -1.41361273],\n",
       "       [ 0.89669734,  1.06385288],\n",
       "       [ 1.75013036,  0.97641292],\n",
       "       [ 1.84495626, -1.29702611],\n",
       "       [-0.14638747,  1.38446607],\n",
       "       [ 1.3708268 ,  1.26787946],\n",
       "       [-1.09464639, -1.18043949],\n",
       "       [ 0.1380902 ,  0.13115994],\n",
       "       [-0.14638747,  0.13115994],\n",
       "       [-1.75842763, -1.50105269],\n",
       "       [ 1.08634912,  0.45177314],\n",
       "       [-0.14638747, -1.09299953],\n",
       "       [-1.09464639, -0.5392131 ],\n",
       "       [-0.24121336, -0.33518652],\n",
       "       [-0.52569104, -1.53019934],\n",
       "       [-0.81016871, -1.2387328 ],\n",
       "       [ 0.51739377,  1.20958615],\n",
       "       [ 0.2329161 , -0.68494637],\n",
       "       [-1.47394995, -1.26787946],\n",
       "       [ 0.32774199,  0.04371998],\n",
       "       [-0.05156158,  0.27689321],\n",
       "       [-0.9998205 ,  0.56835976],\n",
       "       [-1.09464639,  0.27689321],\n",
       "       [ 0.99152323,  1.41361273],\n",
       "       [-1.09464639,  1.38446607],\n",
       "       [-0.62051693,  1.38446607],\n",
       "       [ 1.18117501, -0.77238634],\n",
       "       [-1.37912406, -0.21859991],\n",
       "       [-0.24121336,  0.04371998],\n",
       "       [ 0.99152323,  1.76337258],\n",
       "       [-1.56877585, -1.58849265],\n",
       "       [ 0.04326431, -0.1603066 ],\n",
       "       [ 0.89669734,  1.00555957],\n",
       "       [-0.05156158, -0.01457333],\n",
       "       [-0.43086515,  2.28801235],\n",
       "       [ 1.27600091,  2.20057239],\n",
       "       [-0.05156158, -0.39347983],\n",
       "       [-1.56877585,  0.51006645],\n",
       "       [ 1.84495626,  0.10201329],\n",
       "       [-0.81016871, -0.80153299],\n",
       "       [-0.24121336,  0.24774656],\n",
       "       [-0.43086515, -0.56835976],\n",
       "       [-0.62051693,  0.5392131 ],\n",
       "       [-1.09464639,  0.27689321],\n",
       "       [-0.9998205 ,  0.5392131 ],\n",
       "       [-0.24121336,  0.13115994],\n",
       "       [-0.52569104,  2.31715901],\n",
       "       [-0.71534282,  0.24774656],\n",
       "       [ 0.2329161 ,  0.13115994],\n",
       "       [ 0.2329161 , -0.39347983],\n",
       "       [-0.9049946 , -1.12214619],\n",
       "       [ 0.99152323,  1.96739916],\n",
       "       [-1.09464639,  0.04371998],\n",
       "       [ 0.42256788,  0.97641292],\n",
       "       [ 0.2329161 ,  2.08398577],\n",
       "       [ 1.93978215,  2.14227908],\n",
       "       [ 0.42256788, -0.1603066 ],\n",
       "       [-0.24121336, -1.26787946],\n",
       "       [ 0.2329161 ,  0.01457333],\n",
       "       [ 0.32774199,  0.04371998],\n",
       "       [-0.05156158,  2.14227908],\n",
       "       [ 0.1380902 , -0.83067964],\n",
       "       [-0.24121336, -0.77238634],\n",
       "       [ 1.56047858, -0.01457333],\n",
       "       [ 0.99152323, -1.09299953],\n",
       "       [ 1.46565269,  0.04371998],\n",
       "       [ 2.12943393,  0.91811961],\n",
       "       [-0.52569104,  1.44275938],\n",
       "       [ 0.32774199,  0.04371998],\n",
       "       [-0.24121336, -0.36433318],\n",
       "       [-1.09464639, -1.12214619],\n",
       "       [ 0.89669734, -0.62665307],\n",
       "       [-1.66360174, -0.62665307],\n",
       "       [-0.24121336,  0.07286664],\n",
       "       [-0.24121336,  1.09299953],\n",
       "       [-0.52569104,  1.35531942],\n",
       "       [ 1.46565269,  0.33518652],\n",
       "       [-0.62051693, -0.13115994],\n",
       "       [ 0.42256788, -0.01457333],\n",
       "       [-0.52569104,  1.35531942],\n",
       "       [-1.85325352, -0.07286664],\n",
       "       [ 0.1380902 ,  0.07286664],\n",
       "       [ 0.51739377,  1.70507927],\n",
       "       [ 0.89669734, -1.47190604],\n",
       "       [-0.24121336, -0.59750641],\n",
       "       [-0.14638747,  1.61763931],\n",
       "       [ 2.12943393,  1.09299953],\n",
       "       [ 0.2329161 ,  0.04371998],\n",
       "       [ 1.08634912,  0.51006645],\n",
       "       [-1.18947228, -1.09299953],\n",
       "       [-0.14638747, -0.48091979],\n",
       "       [-1.09464639,  0.45177314],\n",
       "       [-0.9998205 , -0.36433318],\n",
       "       [ 1.93978215, -1.38446607],\n",
       "       [ 1.18117501, -1.00555957],\n",
       "       [-0.24121336,  2.22971905],\n",
       "       [ 1.93978215,  0.71409303],\n",
       "       [-1.75842763, -0.01457333],\n",
       "       [-0.81016871,  0.27689321],\n",
       "       [-0.9049946 , -0.97641292],\n",
       "       [-0.9049946 , -0.33518652],\n",
       "       [ 0.70704556, -1.41361273],\n",
       "       [-0.71534282, -1.559346  ],\n",
       "       [ 0.32774199,  0.27689321],\n",
       "       [ 2.03460804,  0.36433318],\n",
       "       [ 0.42256788,  0.56835976],\n",
       "       [-0.81016871,  0.13115994],\n",
       "       [ 0.32774199, -0.5392131 ],\n",
       "       [-0.81016871,  0.36433318],\n",
       "       [-0.24121336, -0.27689321],\n",
       "       [ 0.42256788,  0.07286664],\n",
       "       [-0.71534282,  0.27689321],\n",
       "       [ 2.12943393, -0.83067964],\n",
       "       [ 1.75013036,  1.82166589],\n",
       "       [ 2.12943393, -0.83067964],\n",
       "       [ 0.2329161 ,  0.21859991],\n",
       "       [ 0.1380902 ,  1.85081254],\n",
       "       [-1.28429817, -0.45177314],\n",
       "       [-0.05156158,  0.21859991],\n",
       "       [ 0.89669734, -1.18043949],\n",
       "       [-0.9998205 ,  0.74323968],\n",
       "       [-1.28429817, -1.26787946],\n",
       "       [-0.62051693,  0.1603066 ],\n",
       "       [-0.62051693, -1.53019934],\n",
       "       [ 0.89669734, -0.80153299],\n",
       "       [ 0.70704556, -1.29702611],\n",
       "       [-0.43086515, -0.80153299],\n",
       "       [-1.85325352,  0.45177314],\n",
       "       [-1.75842763, -1.32617277],\n",
       "       [ 0.32774199, -1.18043949],\n",
       "       [ 0.1380902 ,  0.01457333],\n",
       "       [ 0.99152323, -1.03470622],\n",
       "       [-0.9998205 , -0.36433318],\n",
       "       [ 1.56047858, -1.29702611],\n",
       "       [-1.09464639, -1.559346  ],\n",
       "       [-0.43086515, -0.8598263 ],\n",
       "       [ 0.42256788,  1.09299953],\n",
       "       [-0.05156158, -0.5392131 ],\n",
       "       [-1.75842763, -1.29702611],\n",
       "       [ 1.93978215, -0.94726626],\n",
       "       [-0.9049946 ,  0.39347983],\n",
       "       [ 0.04326431,  1.2387328 ],\n",
       "       [-1.37912406,  0.33518652],\n",
       "       [-1.37912406, -0.13115994],\n",
       "       [-0.24121336, -1.38446607],\n",
       "       [-1.18947228,  0.24774656],\n",
       "       [ 0.2329161 , -0.27689321],\n",
       "       [ 0.42256788,  0.27689321],\n",
       "       [-0.62051693,  0.01457333],\n",
       "       [-0.33603925,  0.04371998],\n",
       "       [ 1.08634912, -1.2387328 ],\n",
       "       [-0.14638747, -0.21859991],\n",
       "       [-1.85325352, -0.5392131 ],\n",
       "       [ 0.89669734, -0.56835976],\n",
       "       [ 2.03460804,  0.1603066 ],\n",
       "       [-1.28429817,  0.39347983],\n",
       "       [ 0.42256788,  0.13115994],\n",
       "       [ 0.51739377,  1.82166589],\n",
       "       [-1.85325352, -0.77238634],\n",
       "       [ 1.27600091,  1.85081254],\n",
       "       [ 2.03460804, -1.20958615],\n",
       "       [-1.85325352,  0.33518652],\n",
       "       [-1.28429817,  0.5392131 ],\n",
       "       [ 1.3708268 ,  2.31715901],\n",
       "       [ 2.03460804, -0.83067964],\n",
       "       [ 1.27600091, -1.38446607],\n",
       "       [-1.47394995,  0.30603987],\n",
       "       [-0.33603925,  1.29702611],\n",
       "       [-1.09464639, -0.80153299],\n",
       "       [-0.05156158,  0.10201329],\n",
       "       [ 0.99152323, -0.8598263 ],\n",
       "       [-0.9049946 ,  0.24774656],\n",
       "       [-0.14638747,  2.14227908],\n",
       "       [-0.62051693, -0.36433318],\n",
       "       [-0.24121336,  0.13115994],\n",
       "       [-1.47394995, -0.45177314],\n",
       "       [ 0.42256788,  2.28801235],\n",
       "       [ 0.80187145,  0.24774656],\n",
       "       [-0.14638747,  0.83067964],\n",
       "       [ 1.65530447, -0.91811961],\n",
       "       [-1.09464639, -1.61763931],\n",
       "       [ 2.03460804,  2.11313243],\n",
       "       [ 0.32774199,  0.48091979],\n",
       "       [-1.09464639, -1.03470622],\n",
       "       [-0.05156158,  0.24774656],\n",
       "       [ 1.56047858,  0.97641292],\n",
       "       [-0.9049946 , -0.33518652],\n",
       "       [-0.52569104,  0.8598263 ],\n",
       "       [-0.71534282,  1.06385288],\n",
       "       [-0.43086515, -1.2387328 ],\n",
       "       [-1.28429817, -1.12214619],\n",
       "       [ 0.04326431,  0.27689321],\n",
       "       [-0.33603925, -1.32617277],\n",
       "       [ 1.08634912,  0.10201329],\n",
       "       [-0.9998205 , -0.48091979],\n",
       "       [ 0.2329161 , -0.30603987],\n",
       "       [ 0.2329161 , -0.39347983],\n",
       "       [-0.43086515, -1.15129284],\n",
       "       [ 0.99152323,  0.10201329],\n",
       "       [ 1.46565269,  0.97641292],\n",
       "       [ 1.84495626, -1.09299953],\n",
       "       [-1.09464639,  0.30603987],\n",
       "       [ 0.70704556,  1.76337258],\n",
       "       [-0.24121336,  0.01457333],\n",
       "       [-1.09464639,  0.39347983],\n",
       "       [ 0.70704556, -0.74323968],\n",
       "       [ 0.32774199, -0.21859991],\n",
       "       [ 0.89669734, -1.06385288],\n",
       "       [ 0.80187145, -0.33518652],\n",
       "       [-1.66360174,  0.33518652],\n",
       "       [-0.05156158,  2.20057239],\n",
       "       [ 0.32774199, -0.74323968],\n",
       "       [ 1.3708268 ,  0.56835976],\n",
       "       [-0.05156158,  0.27689321],\n",
       "       [-0.24121336, -0.45177314],\n",
       "       [-0.71534282,  0.5392131 ],\n",
       "       [ 0.70704556, -1.12214619],\n",
       "       [-0.71534282,  0.48091979]])"
      ]
     },
     "execution_count": 80,
     "metadata": {},
     "output_type": "execute_result"
    }
   ],
   "source": [
    "X_train"
   ]
  },
  {
   "cell_type": "code",
   "execution_count": 81,
   "id": "7091e2c1",
   "metadata": {},
   "outputs": [
    {
     "data": {
      "text/html": [
       "<div>\n",
       "<style scoped>\n",
       "    .dataframe tbody tr th:only-of-type {\n",
       "        vertical-align: middle;\n",
       "    }\n",
       "\n",
       "    .dataframe tbody tr th {\n",
       "        vertical-align: top;\n",
       "    }\n",
       "\n",
       "    .dataframe thead th {\n",
       "        text-align: right;\n",
       "    }\n",
       "</style>\n",
       "<table border=\"1\" class=\"dataframe\">\n",
       "  <thead>\n",
       "    <tr style=\"text-align: right;\">\n",
       "      <th></th>\n",
       "      <th>Age</th>\n",
       "      <th>EstimatedSalary</th>\n",
       "    </tr>\n",
       "  </thead>\n",
       "  <tbody>\n",
       "    <tr>\n",
       "      <th>368</th>\n",
       "      <td>38</td>\n",
       "      <td>71000</td>\n",
       "    </tr>\n",
       "    <tr>\n",
       "      <th>37</th>\n",
       "      <td>30</td>\n",
       "      <td>49000</td>\n",
       "    </tr>\n",
       "    <tr>\n",
       "      <th>284</th>\n",
       "      <td>48</td>\n",
       "      <td>141000</td>\n",
       "    </tr>\n",
       "    <tr>\n",
       "      <th>210</th>\n",
       "      <td>48</td>\n",
       "      <td>96000</td>\n",
       "    </tr>\n",
       "    <tr>\n",
       "      <th>242</th>\n",
       "      <td>50</td>\n",
       "      <td>88000</td>\n",
       "    </tr>\n",
       "    <tr>\n",
       "      <th>...</th>\n",
       "      <td>...</td>\n",
       "      <td>...</td>\n",
       "    </tr>\n",
       "    <tr>\n",
       "      <th>374</th>\n",
       "      <td>37</td>\n",
       "      <td>80000</td>\n",
       "    </tr>\n",
       "    <tr>\n",
       "      <th>317</th>\n",
       "      <td>35</td>\n",
       "      <td>55000</td>\n",
       "    </tr>\n",
       "    <tr>\n",
       "      <th>143</th>\n",
       "      <td>30</td>\n",
       "      <td>89000</td>\n",
       "    </tr>\n",
       "    <tr>\n",
       "      <th>318</th>\n",
       "      <td>45</td>\n",
       "      <td>32000</td>\n",
       "    </tr>\n",
       "    <tr>\n",
       "      <th>132</th>\n",
       "      <td>30</td>\n",
       "      <td>87000</td>\n",
       "    </tr>\n",
       "  </tbody>\n",
       "</table>\n",
       "<p>320 rows × 2 columns</p>\n",
       "</div>"
      ],
      "text/plain": [
       "     Age  EstimatedSalary\n",
       "368   38            71000\n",
       "37    30            49000\n",
       "284   48           141000\n",
       "210   48            96000\n",
       "242   50            88000\n",
       "..   ...              ...\n",
       "374   37            80000\n",
       "317   35            55000\n",
       "143   30            89000\n",
       "318   45            32000\n",
       "132   30            87000\n",
       "\n",
       "[320 rows x 2 columns]"
      ]
     },
     "execution_count": 81,
     "metadata": {},
     "output_type": "execute_result"
    }
   ],
   "source": [
    "X_train_original"
   ]
  },
  {
   "cell_type": "code",
   "execution_count": null,
   "id": "b0d1a4f8",
   "metadata": {},
   "outputs": [],
   "source": []
  }
 ],
 "metadata": {
  "kernelspec": {
   "display_name": "Python 3",
   "language": "python",
   "name": "python3"
  },
  "language_info": {
   "codemirror_mode": {
    "name": "ipython",
    "version": 3
   },
   "file_extension": ".py",
   "mimetype": "text/x-python",
   "name": "python",
   "nbconvert_exporter": "python",
   "pygments_lexer": "ipython3",
   "version": "3.8.8"
  }
 },
 "nbformat": 4,
 "nbformat_minor": 5
}
