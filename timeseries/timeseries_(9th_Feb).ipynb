{
  "nbformat": 4,
  "nbformat_minor": 0,
  "metadata": {
    "colab": {
      "provenance": []
    },
    "kernelspec": {
      "name": "python3",
      "display_name": "Python 3"
    },
    "language_info": {
      "name": "python"
    }
  },
  "cells": [
    {
      "cell_type": "code",
      "execution_count": 1,
      "metadata": {
        "id": "NTGHwxuXsGmv"
      },
      "outputs": [],
      "source": [
        "# Time Series Data:\n",
        "\n",
        "# Time series data is a sequence of data points recorded or collected at regular time intervals.\n",
        "# It is a type of data that tracks the evolution of a variable over time, such as sales, stock prices, temperature, etc.\n",
        "# The regular time intervals can be daily, weekly, monthly, quarterly, or annually, and the data is often represented as a line graph or time-series plot."
      ]
    },
    {
      "cell_type": "code",
      "source": [
        "# Components of Time Series Data:\n",
        "\n",
        "# The components of time series data are the underlying patterns or structures that make up the data.\n",
        "# There are several common components in time series data. In time series data, there are several types of patterns that can occur:\n",
        "\n",
        "# Trend: A long-term upward or downward movement in the data, indicating a general increase or decrease over time.\n",
        "\n",
        "# Seasonality: A repeating pattern in the data that occurs at regular intervals, such as daily, weekly, monthly, or yearly.\n",
        "\n",
        "# Cycle: A pattern in the data that repeats itself after a specific number of observations, which is not necessarily related to seasonality.\n",
        "\n",
        "# Irregularity: Random fluctuations in the data that cannot be easily explained by trend, seasonality, or cycle.\n",
        "\n",
        "# Autocorrelation: The correlation between an observation and a previous observation in the same time series.\n",
        "\n",
        "# Outliers: Extreme observations that are significantly different from the other observations in the data.\n",
        "\n",
        "# Noise: Unpredictable and random variations in the data."
      ],
      "metadata": {
        "id": "6F36aJJIs8__"
      },
      "execution_count": 2,
      "outputs": []
    },
    {
      "cell_type": "code",
      "source": [
        "# Trend:\n",
        "\n",
        "# A trend in time series data refers to a long-term upward or downward movement in the data, indicating a general increase or decrease over time.\n",
        "\n",
        "# There are several types of trends in time series data:\n",
        "\n",
        "# Upward Trend: A trend that shows a general increase over time, where the values of the data tend to rise over time.\n",
        "\n",
        "# Downward Trend: A trend that shows a general decrease over time, where the values of the data tend to decrease over time.\n",
        "\n",
        "# Horizontal Trend: A trend that shows no significant change over time, where the values of the data remain constant over time.\n",
        "\n",
        "# Non-linear Trend: A trend that shows a more complex pattern of change over time, including upward or downward trends that change direction or magnitude over time.\n",
        "\n",
        "# Damped Trend: A trend that shows a gradual decline in the magnitude of change over time, where the rate of change slows down over time."
      ],
      "metadata": {
        "id": "M2fTrcqltAWB"
      },
      "execution_count": 3,
      "outputs": []
    },
    {
      "cell_type": "code",
      "source": [
        "# Seasonality:\n",
        "\n",
        "# Seasonality in time series data refers to patterns that repeat over a regular time period, such as a day, a week, a month, or a year.\n",
        "# These patterns arise due to regular events, such as holidays, weekends, or the changing of seasons, and can be present in various types of time series data, such as sales, weather, or stock prices.\n",
        "\n",
        "# There are several types of seasonality in time series data, including:\n",
        "\n",
        "# Weekly Seasonality: A type of seasonality that repeats over a 7-day period and is commonly seen in time series data such as sales, energy usage, or transportation patterns.\n",
        "\n",
        "# Monthly Seasonality: A type of seasonality that repeats over a 30- or 31-day period and is commonly seen in time series data such as sales or weather patterns.\n",
        "\n",
        "# Annual Seasonality: A type of seasonality that repeats over a 365- or 366-day period and is commonly seen in time series data such as sales, agriculture, or tourism patterns.\n",
        "\n",
        "# Holiday Seasonality: A type of seasonality that is caused by special events such as holidays, festivals, or sporting events and is commonly seen in time series data such as sales, traffic, or entertainment patterns.\n"
      ],
      "metadata": {
        "id": "R0t9XRZYtPSG"
      },
      "execution_count": 4,
      "outputs": []
    },
    {
      "cell_type": "code",
      "source": [
        "# Cyclicity/Cycle:\n",
        "\n",
        "# Cyclicity in time series data refers to the repeated patterns or periodic fluctuations that occur in the data over a specific time interval.\n",
        "# It can be due to various factors such as seasonality (daily, weekly, monthly, yearly), trends, and other underlying patterns."
      ],
      "metadata": {
        "id": "s4-B8FO7tZxq"
      },
      "execution_count": 5,
      "outputs": []
    },
    {
      "cell_type": "code",
      "source": [
        "# Difference between Seasonality and Cyclicity/Cycle:\n",
        "\n",
        "# Seasonality refers to a repeating pattern in the data that occurs over a fixed time interval, such as daily, weekly, monthly, or yearly.\n",
        "# Seasonality is a predictable and repeating pattern that can be due to various factors such as weather, holidays, and human behavior.\n",
        "\n",
        "# Cyclicity, on the other hand, refers to the repeated patterns or fluctuations that occur in the data over an unspecified time interval.\n",
        "# These patterns can be due to various factors such as economic cycles, trends, and other underlying patterns.\n",
        "#  Cyclicity is not limited to a fixed time interval and can be of different frequencies, making it harder to identify and model.\n",
        "\n",
        "# Putting together, seasonality refers to a repeating pattern in the data that occurs over a fixed time interval,\n",
        "# while cyclicity refers to a repeating pattern that occurs over an unspecified time interval."
      ],
      "metadata": {
        "id": "mLXCN2_RtcUB"
      },
      "execution_count": 6,
      "outputs": []
    },
    {
      "cell_type": "code",
      "source": [
        "# Noise:\n",
        "\n",
        "# Noise in time series data refers to random fluctuations or variations that are not due to an underlying pattern or trend.\n",
        "# It is typically considered as any unpredictable and random variation in the data.\n",
        "# These fluctuations can arise from various sources such as measurement errors, random fluctuations in the underlying process, or errors in data recording or processing.\n",
        "# The presence of noise can make it difficult to identify the underlying trend or pattern in the data, and therefore it is important to remove or reduce the noise before any further analysis."
      ],
      "metadata": {
        "id": "ZOQKUlfjtqoM"
      },
      "execution_count": 7,
      "outputs": []
    },
    {
      "cell_type": "code",
      "source": [
        "# Autocorrelation:\n",
        "\n",
        "# Autocorrelation in time series data refers to the degree of similarity between observations in a time series as a function of the time lag between them.\n",
        "# Autocorrelation is a measure of the correlation between a time series and a lagged version of itself.\n",
        "# In other words, it measures how closely related the values in the time series are to each other at different time lags."
      ],
      "metadata": {
        "id": "xE7GNa07thgT"
      },
      "execution_count": 8,
      "outputs": []
    },
    {
      "cell_type": "code",
      "source": [
        "# Time Series Forecasting:\n",
        "\n",
        "# Time Series forecasting is the process of using a statistical model to predict future values of a time series based on past results."
      ],
      "metadata": {
        "id": "84pOz_DrtsqW"
      },
      "execution_count": 9,
      "outputs": []
    },
    {
      "cell_type": "code",
      "source": [
        "# forecasting- based on past data\n",
        "# probability- based on total and possible outcome\n",
        "\n",
        "# probability is if an event will occur or not\n",
        "# forecasting is predicting based on historical data"
      ],
      "metadata": {
        "id": "DLjFCCKg8qy8"
      },
      "execution_count": 10,
      "outputs": []
    },
    {
      "cell_type": "code",
      "source": [
        "# ARIMA Model for Time Series Forecasting:\n",
        "\n",
        "# ARIMA stands for autoregressive integrated moving average model and is specified by three order parameters: (p, d, q).\n",
        "\n",
        "# AR(p) Autoregression :\n",
        "# a regression model that utilizes the dependent relationship between a current observation and observations over a previous period.\n",
        "# An auto regressive (AR(p)) component refers to the use of past values in the regression equation for the time series.\n",
        "\n",
        "# I(d) Integration :\n",
        "# uses differencing of observations (subtracting an observation from observation at the previous time step) in order to make the time series stationary.\n",
        "# Differencing involves the subtraction of the current values of a series with its previous values d number of times.\n",
        "\n",
        "# MA(q) Moving Average :\n",
        "# a model that uses the dependency between an observation and a residual error from a moving average model applied to lagged observations.\n",
        "# A moving average component depicts the error of the model as a combination of previous error terms.\n",
        "# The order q represents the number of terms to be included in the model."
      ],
      "metadata": {
        "id": "J_5_iDTcu2JB"
      },
      "execution_count": 11,
      "outputs": []
    },
    {
      "cell_type": "code",
      "source": [
        "# Types of ARIMA Model\n",
        "\n",
        "# ARIMA:\n",
        "# Non-seasonal Autoregressive Integrated Moving Averages\n",
        "\n",
        "# SARIMA:\n",
        "# Seasonal ARIMA\n",
        "\n",
        "# SARIMAX:\n",
        "# Seasonal ARIMA with exogenous variables\n",
        "\n",
        "# Pyramid Auto-ARIMA\n",
        "# The ‘auto_arima’ function from the ‘pmdarima’ library helps us to identify the most optimal parameters for an ARIMA model and returns a fitted ARIMA model."
      ],
      "metadata": {
        "id": "cDR10h2gvEYq"
      },
      "execution_count": 12,
      "outputs": []
    },
    {
      "cell_type": "code",
      "source": [],
      "metadata": {
        "id": "UOev-yauvJn4"
      },
      "execution_count": 12,
      "outputs": []
    }
  ]
}